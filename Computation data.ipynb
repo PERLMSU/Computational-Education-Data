{
 "cells": [
  {
   "cell_type": "markdown",
   "metadata": {},
   "source": [
    "# Set Up"
   ]
  },
  {
   "cell_type": "code",
   "execution_count": 4,
   "metadata": {
    "collapsed": true
   },
   "outputs": [],
   "source": [
    "import pandas as pd\n",
    "import numpy as np\n",
    "import matplotlib.pyplot as plt\n",
    "%matplotlib inline\n",
    "from scipy import stats"
   ]
  },
  {
   "cell_type": "code",
   "execution_count": 9,
   "metadata": {
    "collapsed": false,
    "scrolled": false
   },
   "outputs": [],
   "source": [
    "#importing the uncleaned data\n",
    "data_uncleaned=pd.read_csv('Computational Data Without Identifiers.csv')\n",
    "#importing the cleaned data\n",
    "data=pd.read_csv(r'C:\\Users\\Grant\\Desktop\\Cleaned PERL Research data.csv', encoding='latin1')"
   ]
  },
  {
   "cell_type": "markdown",
   "metadata": {},
   "source": [
    "## Question 1"
   ]
  },
  {
   "cell_type": "code",
   "execution_count": 10,
   "metadata": {
    "collapsed": false
   },
   "outputs": [],
   "source": [
    "Comp_Teaching_Exp_YN = [] #Creates an empty list to be used with the first question\n",
    "for row in data.values[:,1]:\n",
    "    Comp_Teaching_Exp_YN.append(row) #Fills the list"
   ]
  },
  {
   "cell_type": "code",
   "execution_count": 47,
   "metadata": {
    "collapsed": false
   },
   "outputs": [
    {
     "data": {
      "text/plain": [
       "<matplotlib.text.Text at 0x26d6d87fa20>"
      ]
     },
     "execution_count": 47,
     "metadata": {},
     "output_type": "execute_result"
    },
    {
     "data": {
      "image/png": "[encoded data removed]",
      "text/plain": [
       "<matplotlib.figure.Figure at 0x26d6d8a5f98>"
      ]
     },
     "metadata": {},
     "output_type": "display_data"
    }
   ],
   "source": [
    "Comp_Teaching_Exp_Y = Comp_Teaching_Exp_YN.count(\"Yes\")\n",
    "Comp_Teaching_Exp_N = Comp_Teaching_Exp_YN.count(\"No\")\n",
    "Ans1=['Yes','No']\n",
    "Tick1=[1,2]\n",
    "Ans1_dist=[Comp_Teaching_Exp_Y/1246,Comp_Teaching_Exp_N/1246]\n",
    "plt.xticks(Tick1,Ans1)\n",
    "plt.bar(Tick1,Ans1_dist)\n",
    "plt.title('Computaional Teaching Experience')\n",
    "plt.ylabel('Proportion')"
   ]
  },
  {
   "cell_type": "code",
   "execution_count": 63,
   "metadata": {
    "collapsed": false
   },
   "outputs": [
    {
     "name": "stdout",
     "output_type": "stream",
     "text": [
      "The number of respondents who have experience teaching computational modeling is: 751.0\n"
     ]
    }
   ],
   "source": [
    "print('The number of respondents who have experience teaching computational modeling is:', Ans1_dist[0]*1246)"
   ]
  },
  {
   "cell_type": "markdown",
   "metadata": {},
   "source": [
    "## Question 2"
   ]
  },
  {
   "cell_type": "code",
   "execution_count": 12,
   "metadata": {
    "collapsed": false
   },
   "outputs": [],
   "source": [
    "Deg_Comp_Phy_YN = []\n",
    "for row in data.values[:,2]:\n",
    "    Deg_Comp_Phy_YN.append(row)"
   ]
  },
  {
   "cell_type": "code",
   "execution_count": 67,
   "metadata": {
    "collapsed": false
   },
   "outputs": [
    {
     "name": "stdout",
     "output_type": "stream",
     "text": [
      "The number of respondents who said their institution offers a degree in computational modeling is: 82\n",
      "Of those who answered, the proportion of respondents who said their institution offers a degree in computational modeling is: 0.11420612813370473\n"
     ]
    }
   ],
   "source": [
    "Deg_Comp_Phy_Y = Deg_Comp_Phy_YN.count(\"Checked\") #The number of respondents who said their institution offers a degree in Computiational Physics\n",
    "print('The number of respondents who said their institution offers a degree in computational modeling is:', Deg_Comp_Phy_Y)\n",
    "Prop_Deg_Comp_Phy_Y = Deg_Comp_Phy_Y/(Deg_Comp_Phy_YN.count(\"Unchecked\")+Deg_Comp_Phy_Y)\n",
    "print('Of those who answered, the proportion of respondents who said their institution offers a degree in computational modeling is:', Prop_Deg_Comp_Phy_Y)"
   ]
  },
  {
   "cell_type": "code",
   "execution_count": 32,
   "metadata": {
    "collapsed": false
   },
   "outputs": [],
   "source": [
    "Minor_Comp_Phy_YN = []\n",
    "for row in data.values[:,3]:\n",
    "    Minor_Comp_Phy_YN.append(row)"
   ]
  },
  {
   "cell_type": "code",
   "execution_count": 69,
   "metadata": {
    "collapsed": false
   },
   "outputs": [
    {
     "name": "stdout",
     "output_type": "stream",
     "text": [
      "The number of respondents who said their institution offers a minor in computational modeling is: 29\n",
      "Of those who answered, the proportion who said their institution offers a minor in computational modeling is: 0.0403899721448468\n"
     ]
    }
   ],
   "source": [
    "Minor_Comp_Phy_Y = Minor_Comp_Phy_YN.count(\"Checked\") #The Number of Respondents who answered that their institution offers a minor in Computational Physics\n",
    "print('The number of respondents who said their institution offers a minor in computational modeling is:', Minor_Comp_Phy_Y)\n",
    "Prop_Minor_Comp_Phy_Y = Minor_Comp_Phy_Y/(Minor_Comp_Phy_Y+Minor_Comp_Phy_YN.count(\"Unchecked\"))\n",
    "print('Of those who answered, the proportion who said their institution offers a minor in computational modeling is:', Prop_Minor_Comp_Phy)"
   ]
  },
  {
   "cell_type": "code",
   "execution_count": 71,
   "metadata": {
    "collapsed": false
   },
   "outputs": [
    {
     "name": "stdout",
     "output_type": "stream",
     "text": [
      "The number of respondents who said their institution offers a certificate in computational modeling is: 15\n",
      "Of those who answered, the proportion who said their institution offers a certificate in computational modeling is: 0.020891364902506964\n"
     ]
    }
   ],
   "source": [
    "Cert_Comp_Phy_YN = []\n",
    "for row in data.values[:,4]:\n",
    "    Cert_Comp_Phy_YN.append(row)\n",
    "Cert_Comp_Phy_Y = Cert_Comp_Phy_YN.count(\"Checked\") #Number of respondents who answered that their institution offers a certificate in Computational Physics\n",
    "print('The number of respondents who said their institution offers a certificate in computational modeling is:',Cert_Comp_Phy_Y)\n",
    "Prop_Cert_Comp_Phy_Y = Cert_Comp_Phy_Y/(Cert_Comp_Phy_Y+Cert_Comp_Phy_YN.count(\"Unchecked\"))\n",
    "print('Of those who answered, the proportion who said their institution offers a certificate in computational modeling is:', Prop_Cert_Comp_Phy_Y)"
   ]
  },
  {
   "cell_type": "code",
   "execution_count": 73,
   "metadata": {
    "collapsed": false
   },
   "outputs": [
    {
     "name": "stdout",
     "output_type": "stream",
     "text": [
      "The number of respondents who said their institution offers some other program in computational modeling is: 82\n",
      "Of those who responded, the proportion who said their institution offers some other program in computational modeling is: 0.11420612813370473\n"
     ]
    }
   ],
   "source": [
    "Other_Comp_Phy_YN = []\n",
    "for row in data.values[:,5]:\n",
    "    Other_Comp_Phy_YN.append(row)\n",
    "Other_Comp_Phy_Y = Other_Comp_Phy_YN.count(\"Checked\") #Number of respondents who answered that their institution offers some other program in Computational Physics\n",
    "print('The number of respondents who said their institution offers some other program in computational modeling is:',Other_Comp_Phy_Y)\n",
    "Prop_Other_Comp_Phy_Y = Other_Comp_Phy_Y/(Other_Comp_Phy_Y+Other_Comp_Phy_YN.count(\"Unchecked\"))\n",
    "print('Of those who responded, the proportion who said their institution offers some other program in computational modeling is:', Prop_Other_Comp_Phy_Y)"
   ]
  },
  {
   "cell_type": "code",
   "execution_count": 75,
   "metadata": {
    "collapsed": false
   },
   "outputs": [
    {
     "name": "stdout",
     "output_type": "stream",
     "text": [
      "The number of respondents that answered that their institution offers none of the above programs is: 531\n",
      "Of those who responded, the proportion who said their institution offers none of the above programs is: 0.7395543175487466\n"
     ]
    }
   ],
   "source": [
    "None_Above_Prog = []\n",
    "for row in data.values[:,6]:\n",
    "    None_Above_Prog.append(row)\n",
    "None_Above_Prog_Y = None_Above_Prog.count(\"Checked\") #Number of respondents who answered that their institution offers none of the above programs in Computational Physics\n",
    "print('The number of respondents that answered that their institution offers none of the above programs is:', None_Above_Prog_Y)\n",
    "Prop_None_Above_Prog = None_Above_Prog_Y/(None_Above_Prog_Y+None_Above_Prog.count(\"Unchecked\"))\n",
    "print('Of those who responded, the proportion who said their institution offers none of the above programs is:', Prop_None_Above_Prog)"
   ]
  },
  {
   "cell_type": "code",
   "execution_count": 46,
   "metadata": {
    "collapsed": false
   },
   "outputs": [
    {
     "data": {
      "text/plain": [
       "<matplotlib.text.Text at 0x26d6d825ef0>"
      ]
     },
     "execution_count": 46,
     "metadata": {},
     "output_type": "execute_result"
    },
    {
     "data": {
      "image/png": "[encoded data removed]",
      "text/plain": [
       "<matplotlib.figure.Figure at 0x26d6d878ef0>"
      ]
     },
     "metadata": {},
     "output_type": "display_data"
    }
   ],
   "source": [
    "Ans2 = ['Degree', 'Minor', 'Certificate', 'Other', 'None of the Above']\n",
    "Tick2 = [1,2,3,4,5]\n",
    "Ans2_dist = [Prop_Deg_Comp_Phy_Y, Prop_Minor_Comp_Phy_Y, Prop_Cert_Comp_Phy_Y, Prop_Other_Comp_Phy_Y, Prop_None_Above_Prog]\n",
    "plt.xticks(Tick2, Ans2)\n",
    "plt.bar(Tick2,Ans2_dist)\n",
    "plt.title('Proportion of Offerings in Computational Modeling')\n",
    "plt.ylabel('Proportion')\n",
    "plt.xlabel('Type of Offering')"
   ]
  },
  {
   "cell_type": "code",
   "execution_count": 76,
   "metadata": {
    "collapsed": false
   },
   "outputs": [
    {
     "name": "stdout",
     "output_type": "stream",
     "text": [
      "The number of non-responses is: 32\n",
      "The response rate to question 1 was: 0.9573901464713716\n"
     ]
    }
   ],
   "source": [
    "Non_Ans = []\n",
    "for row in data_uncleaned.values[:,3]:\n",
    "    Non_Ans.append(row)\n",
    "Non_Ans_num = 1246 - Non_Ans.count(\"Checked\") - Non_Ans.count(\"Unchecked\") - Non_Ans.count(\"Valid Skip\") #Number of respondents who answered that their institution offers none of the above programs in Computational Physics\n",
    "print('The number of non-responses is:', Non_Ans_num)\n",
    "Prop_Non_Ans = Non_Ans_num/(1246-Non_Ans.count(\"Valid Skip\"))\n",
    "print('The response rate to question 1 iss:', 1-Prop_Non_Ans)"
   ]
  },
  {
   "cell_type": "markdown",
   "metadata": {},
   "source": [
    "## Question 4"
   ]
  },
  {
   "cell_type": "code",
   "execution_count": 79,
   "metadata": {
    "collapsed": false
   },
   "outputs": [
    {
     "name": "stdout",
     "output_type": "stream",
     "text": [
      "The number of repondents who said their institution uses computing envirnments to teach computation is: 422\n",
      "Of those who responded, the proportion of repondents who said their institution uses computing envirnments to teach computation is: 0.6215022091310751\n"
     ]
    }
   ],
   "source": [
    "Comp_Use_Envir_YN = []\n",
    "#Column U\n",
    "for row in data.values[:,20]:\n",
    "    Comp_Use_Envir_YN.append(row)\n",
    "#Number of respondents who answered that their institution uses envirenments such as Matlab, Mathmatica, etc for teaching computation \n",
    "Comp_Use_Envir_Y = Comp_Use_Envir_YN.count(\"Checked\") \n",
    "print('The number of repondents who said their institution uses computing envirnments to teach computation is:', Comp_Use_Envir_Y)\n",
    "#Proportion\n",
    "Prop_Comp_Use_Envir_Y = Comp_Use_Envir_Y/(Comp_Use_Envir_Y+Comp_Use_Envir_YN.count(\"Unchecked\"))\n",
    "print('Of those who responded, the proportion of repondents who said their institution uses computing envirnments to teach computation is:', Prop_Comp_Use_Envir_Y)"
   ]
  },
  {
   "cell_type": "code",
   "execution_count": 81,
   "metadata": {
    "collapsed": false
   },
   "outputs": [
    {
     "name": "stdout",
     "output_type": "stream",
     "text": [
      "The number of repondents who said their institution uses scripting languages to teach computation is: 293\n",
      "Of those who responded, the proportion who said their institution uses scripting languages to teach computation is: 0.43151693667157587\n"
     ]
    }
   ],
   "source": [
    "Comp_Use_Scripting_YN = []\n",
    "#Collumn V\n",
    "for row in data.values[:,21]:\n",
    "    Comp_Use_Scripting_YN.append(row)\n",
    "#Number of respondents who answered that their institution uses scripting languages such as Python or VPython for teaching computation \n",
    "Comp_Use_Scripting_Y = Comp_Use_Scripting_YN.count(\"Checked\")\n",
    "print('The number of repondents who said their institution uses scripting languages to teach computation is:', Comp_Use_Scripting_Y)\n",
    "#Proportion\n",
    "Prop_Comp_Use_Scripting_Y = Comp_Use_Scripting_Y/(Comp_Use_Scripting_Y+Comp_Use_Scripting_YN.count(\"Unchecked\"))\n",
    "print('Of those who responded, the proportion who said their institution uses scripting languages to teach computation is:', Prop_Comp_Use_Scripting_Y)"
   ]
  },
  {
   "cell_type": "code",
   "execution_count": 82,
   "metadata": {
    "collapsed": false
   },
   "outputs": [
    {
     "name": "stdout",
     "output_type": "stream",
     "text": [
      "The number of repondents who said their institution uses compiled languages to teach computation is: 185\n",
      "Of those who responded, The proportion who said their institution uses compiled languages to teach computation is: 0.27245949926362295\n"
     ]
    }
   ],
   "source": [
    "Comp_Use_Compiled_YN = []\n",
    "#Collumn W\n",
    "for row in data.values[:,22]:\n",
    "    Comp_Use_Compiled_YN.append(row)\n",
    "#Number of respondents who answered that their institution uses Compiled languages such as C++, Java for teaching computation \n",
    "Comp_Use_Compiled_Y = Comp_Use_Compiled_YN.count(\"Checked\") \n",
    "print('The number of repondents who said their institution uses compiled languages to teach computation is:', Comp_Use_Compiled_Y)\n",
    "#Proportion\n",
    "Prop_Comp_Use_Compiled_Y = Comp_Use_Compiled_Y/(Comp_Use_Compiled_Y+Comp_Use_Compiled_YN.count(\"Unchecked\"))\n",
    "print('Of those who responded, The proportion who said their institution uses compiled languages to teach computation is:', Prop_Comp_Use_Compiled_Y)"
   ]
  },
  {
   "cell_type": "code",
   "execution_count": 83,
   "metadata": {
    "collapsed": false
   },
   "outputs": [
    {
     "name": "stdout",
     "output_type": "stream",
     "text": [
      "The number of respondents who said thier institution uses excel to teach computational modeling is: 424\n",
      "Of those who responded, the proportion who said thier institution uses excel to teach computational modeling is: 0.6244477172312224\n"
     ]
    }
   ],
   "source": [
    "Comp_Use_Excel_YN = []\n",
    "#Collumn X\n",
    "for row in data.values[:,23]:\n",
    "    Comp_Use_Excel_YN.append(row)\n",
    "#Number of respondents who answered that their institution uses Excel for teaching computation \n",
    "Comp_Use_Excel_Y = Comp_Use_Excel_YN.count(\"Checked\") \n",
    "print('The number of respondents who said thier institution uses excel to teach computational modeling is:', Comp_Use_Excel_Y)\n",
    "#Proportion\n",
    "Prop_Comp_Use_Excel_Y = Comp_Use_Excel_Y/(Comp_Use_Excel_Y+Comp_Use_Excel_YN.count(\"Unchecked\"))\n",
    "print('Of those who responded, the proportion who said thier institution uses excel to teach computational modeling is:', Prop_Comp_Use_Excel_Y)"
   ]
  },
  {
   "cell_type": "code",
   "execution_count": 84,
   "metadata": {
    "collapsed": false
   },
   "outputs": [
    {
     "name": "stdout",
     "output_type": "stream",
     "text": [
      "The number of responents who said thier institution uses some other medium to teach computational modeling is: 78\n",
      "Of those who responded, The proportion who said thier institution uses some other medium to teach computational modeling is: 0.11487481590574374\n"
     ]
    }
   ],
   "source": [
    "Comp_Use_Other_YN = []\n",
    "#Collumn Y\n",
    "for row in data.values[:,24]:\n",
    "    Comp_Use_Other_YN.append(row)\n",
    "#Number of respondents who answered that their institution uses other mediums of teaching for teaching computation \n",
    "Comp_Use_Other_Y = Comp_Use_Other_YN.count(\"Checked\") \n",
    "print('The number of responents who said thier institution uses some other medium to teach computational modeling is:', Comp_Use_Other_Y)\n",
    "#Proportion\n",
    "Prop_Comp_Use_Other_Y = Comp_Use_Other_Y/(Comp_Use_Other_Y+Comp_Use_Other_YN.count(\"Unchecked\"))\n",
    "print('Of those who responded, The proportion who said thier institution uses some other medium to teach computational modeling is:', Prop_Comp_Use_Other_Y)"
   ]
  },
  {
   "cell_type": "code",
   "execution_count": 60,
   "metadata": {
    "collapsed": false
   },
   "outputs": [
    {
     "data": {
      "text/plain": [
       "<matplotlib.text.Text at 0x26d6d9dd5c0>"
      ]
     },
     "execution_count": 60,
     "metadata": {},
     "output_type": "execute_result"
    },
    {
     "data": {
      "image/png": "[encoded data removed]",
      "text/plain": [
       "<matplotlib.figure.Figure at 0x26d6d79e668>"
      ]
     },
     "metadata": {},
     "output_type": "display_data"
    }
   ],
   "source": [
    "Ans4 = ['Computing Envirnments', 'Scripting Languages', 'Compiled Languages', 'Excel', 'Other']\n",
    "Tick4 = [1,2,3,4,5]\n",
    "Ans4_dist = [Comp_Use_Envir_Y, Comp_Use_Scripting_Y, Comp_Use_Compiled_Y, Comp_Use_Excel_Y, Comp_Use_Other_Y]\n",
    "plt.xticks(Tick4, Ans4, rotation=45)\n",
    "plt.bar(Tick2, Ans4_dist)\n",
    "plt.title('Use of Computing Tools for Teaching')\n",
    "plt.ylabel('Proportion')\n",
    "plt.xlabel('Type of Tool')"
   ]
  },
  {
   "cell_type": "code",
   "execution_count": 94,
   "metadata": {
    "collapsed": false
   },
   "outputs": [
    {
     "name": "stdout",
     "output_type": "stream",
     "text": [
      "The Number of non-responses for question 4 is: 72\n",
      "The Proportion of non-responses for question 4 is: 0.09587217043941411\n"
     ]
    }
   ],
   "source": [
    "Non_Ans_4 = []\n",
    "for row in data_uncleaned.values[:,24]:\n",
    "    Non_Ans_4.append(row)\n",
    "Non_Ans_4_num = 1246 - Non_Ans_4.count(\"Valid Skip\") - Comp_Use_Other_YN.count(\"Checked\") - Comp_Use_Other_YN.count(\"Unchecked\")\n",
    "print('The Number of non-responses for question 4 is:', Non_Ans_4_num)\n",
    "Prop_Non_Ans_4 = Non_Ans_4_num/(1246 - Non_Ans_4.count(\"Valid Skip\"))\n",
    "print('The Proportion of non-responses for question 4 is:', Prop_Non_Ans_4)"
   ]
  },
  {
   "cell_type": "markdown",
   "metadata": {},
   "source": [
    "## Question 5"
   ]
  },
  {
   "cell_type": "code",
   "execution_count": 85,
   "metadata": {
    "collapsed": false
   },
   "outputs": [
    {
     "name": "stdout",
     "output_type": "stream",
     "text": [
      "The number of repondents who said their institution uses computing envirnments for advanced courses is: 493\n",
      "Of those who responded, the proportion of repondents who said their institution uses computing envirnments for advanced courses is: 0.7336309523809523\n"
     ]
    }
   ],
   "source": [
    "Adv_Course_Comp_Use_Envir_YN = []\n",
    "#Column AA\n",
    "for row in data.values[:,26]:\n",
    "    Adv_Course_Comp_Use_Envir_YN.append(row)\n",
    "#Number of respondents who answered that their institution uses envirenments such as Matlab, Mathmatica, etc for advanced courses \n",
    "Adv_Course_Comp_Use_Envir_Y = Adv_Course_Comp_Use_Envir_YN.count(\"Checked\") \n",
    "print('The number of repondents who said their institution uses computing envirnments for advanced courses is:', Adv_Course_Comp_Use_Envir_Y)\n",
    "#Proportion\n",
    "Prop_Adv_Course_Comp_Use_Envir_Y = Adv_Course_Comp_Use_Envir_Y/(Adv_Course_Comp_Use_Envir_Y+Adv_Course_Comp_Use_Envir_YN.count(\"Unchecked\"))\n",
    "print('Of those who responded, the proportion of repondents who said their institution uses computing envirnments for advanced courses is:', Prop_Adv_Course_Comp_Use_Envir_Y)"
   ]
  },
  {
   "cell_type": "code",
   "execution_count": 86,
   "metadata": {
    "collapsed": false
   },
   "outputs": [
    {
     "name": "stdout",
     "output_type": "stream",
     "text": [
      "The number of repondents who said their institution uses scripting languages for advanced courses is: 330\n",
      "Of those who responded, the proportion who said their institution uses scripting languages for advanced courses is: 0.49107142857142855\n"
     ]
    }
   ],
   "source": [
    "Adv_Course_Comp_Use_Scripting_YN = []\n",
    "#Collumn AB\n",
    "for row in data.values[:,27]:\n",
    "    Adv_Course_Comp_Use_Scripting_YN.append(row)\n",
    "#Number of respondents who answered that their institution uses scripting languages such as Python or VPython for advanced courses \n",
    "Adv_Course_Comp_Use_Scripting_Y = Adv_Course_Comp_Use_Scripting_YN.count(\"Checked\")\n",
    "print('The number of repondents who said their institution uses scripting languages for advanced courses is:', Adv_Course_Comp_Use_Scripting_Y)\n",
    "#Proportion\n",
    "Adv_Course_Prop_Comp_Use_Scripting_Y = Adv_Course_Comp_Use_Scripting_Y/(Adv_Course_Comp_Use_Scripting_Y+Adv_Course_Comp_Use_Scripting_YN.count(\"Unchecked\"))\n",
    "print('Of those who responded, the proportion who said their institution uses scripting languages for advanced courses is:', Adv_Course_Prop_Comp_Use_Scripting_Y)"
   ]
  },
  {
   "cell_type": "code",
   "execution_count": 87,
   "metadata": {
    "collapsed": false
   },
   "outputs": [
    {
     "name": "stdout",
     "output_type": "stream",
     "text": [
      "The number of repondents who said their institution uses compiled languages for advanced courses is: 283\n",
      "Of those who responded, The proportion who said their institution uses compiled languages for advanced courses is: 0.4211309523809524\n"
     ]
    }
   ],
   "source": [
    "Adv_Course_Comp_Use_Compiled_YN = []\n",
    "#Collumn AC\n",
    "for row in data.values[:,28]:\n",
    "    Adv_Course_Comp_Use_Compiled_YN.append(row)\n",
    "#Number of respondents who answered that their institution uses Compiled languages such as C++, Java for teaching computation \n",
    "Adv_Course_Comp_Use_Compiled_Y = Adv_Course_Comp_Use_Compiled_YN.count(\"Checked\") \n",
    "print('The number of repondents who said their institution uses compiled languages for advanced courses is:', Adv_Course_Comp_Use_Compiled_Y)\n",
    "#Proportion\n",
    "Adv_Course_Prop_Comp_Use_Compiled_Y = Adv_Course_Comp_Use_Compiled_Y/(Adv_Course_Comp_Use_Compiled_Y+Adv_Course_Comp_Use_Compiled_YN.count(\"Unchecked\"))\n",
    "print('Of those who responded, The proportion who said their institution uses compiled languages for advanced courses is:', Adv_Course_Prop_Comp_Use_Compiled_Y)"
   ]
  },
  {
   "cell_type": "code",
   "execution_count": 88,
   "metadata": {
    "collapsed": false
   },
   "outputs": [
    {
     "name": "stdout",
     "output_type": "stream",
     "text": [
      "The number of respondents who said thier institution uses excel for advanced courses is: 290\n",
      "Of those who responded, the proportion who said thier institution uses excel for advanced courses is: 0.43154761904761907\n"
     ]
    }
   ],
   "source": [
    "Adv_Course_Comp_Use_Excel_YN = []\n",
    "#Collumn AD\n",
    "for row in data.values[:,29]:\n",
    "    Adv_Course_Comp_Use_Excel_YN.append(row)\n",
    "#Number of respondents who answered that their institution uses Excel for teaching computation \n",
    "Adv_Course_Comp_Use_Excel_Y = Adv_Course_Comp_Use_Excel_YN.count(\"Checked\") \n",
    "print('The number of respondents who said thier institution uses excel for advanced courses is:', Adv_Course_Comp_Use_Excel_Y)\n",
    "#Proportion\n",
    "Adv_Course_Prop_Comp_Use_Excel_Y = Adv_Course_Comp_Use_Excel_Y/(Adv_Course_Comp_Use_Excel_Y+Adv_Course_Comp_Use_Excel_YN.count(\"Unchecked\"))\n",
    "print('Of those who responded, the proportion who said thier institution uses excel for advanced courses is:', Adv_Course_Prop_Comp_Use_Excel_Y)"
   ]
  },
  {
   "cell_type": "code",
   "execution_count": 89,
   "metadata": {
    "collapsed": false
   },
   "outputs": [
    {
     "name": "stdout",
     "output_type": "stream",
     "text": [
      "The number of responents who said thier institution uses some other medium for advanced courses is: 60\n",
      "Of those who responded, The proportion who said thier institution uses some other medium for advanced courses is: 0.08928571428571429\n"
     ]
    }
   ],
   "source": [
    "Adv_Course_Comp_Use_Other_YN = []\n",
    "#Collumn AE\n",
    "for row in data.values[:,30]:\n",
    "    Adv_Course_Comp_Use_Other_YN.append(row)\n",
    "#Number of respondents who answered that their institution uses other mediums of teaching for teaching computation \n",
    "Adv_Course_Comp_Use_Other_Y = Adv_Course_Comp_Use_Other_YN.count(\"Checked\") \n",
    "print('The number of responents who said thier institution uses some other medium for advanced courses is:', Adv_Course_Comp_Use_Other_Y)\n",
    "#Proportion\n",
    "Adv_Course_Prop_Comp_Use_Other_Y = Adv_Course_Comp_Use_Other_Y/(Adv_Course_Comp_Use_Other_Y+Adv_Course_Comp_Use_Other_YN.count(\"Unchecked\"))\n",
    "print('Of those who responded, The proportion who said thier institution uses some other medium for advanced courses is:', Adv_Course_Prop_Comp_Use_Other_Y)"
   ]
  },
  {
   "cell_type": "code",
   "execution_count": 90,
   "metadata": {
    "collapsed": false
   },
   "outputs": [
    {
     "data": {
      "text/plain": [
       "<matplotlib.text.Text at 0x26d6e0709b0>"
      ]
     },
     "execution_count": 90,
     "metadata": {},
     "output_type": "execute_result"
    },
    {
     "data": {
      "image/png": "[encoded data removed]",
      "text/plain": [
       "<matplotlib.figure.Figure at 0x26d6d76ca90>"
      ]
     },
     "metadata": {},
     "output_type": "display_data"
    }
   ],
   "source": [
    "Ans5 = ['Computing Envirnments', 'Scripting Languages', 'Compiled Languages', 'Excel', 'Other']\n",
    "Tick5 = [1,2,3,4,5]\n",
    "Ans5_dist = [Adv_Course_Comp_Use_Envir_Y, Adv_Course_Comp_Use_Scripting_Y, Adv_Course_Comp_Use_Compiled_Y, Adv_Course_Comp_Use_Excel_Y, Adv_Course_Comp_Use_Other_Y]\n",
    "plt.xticks(Tick5, Ans5, rotation=45)\n",
    "plt.bar(Tick5, Ans5_dist)\n",
    "plt.title('Use of Computing Tools for Advanced Courses')\n",
    "plt.ylabel('Proportion')\n",
    "plt.xlabel('Type of Tool')"
   ]
  },
  {
   "cell_type": "code",
   "execution_count": 95,
   "metadata": {
    "collapsed": false
   },
   "outputs": [
    {
     "name": "stdout",
     "output_type": "stream",
     "text": [
      "The Number of non-responses for question 5 is: 79\n",
      "The Proportion of non-responses for question 5 is: 0.1051930758988016\n"
     ]
    }
   ],
   "source": [
    "Non_Ans_5 = []\n",
    "for row in data_uncleaned.values[:,30]:\n",
    "    Non_Ans_5.append(row)\n",
    "Non_Ans_5_num = 1246 - Non_Ans_5.count(\"Valid Skip\") - Adv_Course_Comp_Use_Other_YN.count(\"Checked\") - Adv_Course_Comp_Use_Other_YN.count(\"Unchecked\")\n",
    "print('The Number of non-responses for question 5 is:', Non_Ans_5_num)\n",
    "Prop_Non_Ans_5 = Non_Ans_5_num/(1246 - Non_Ans_5.count(\"Valid Skip\"))\n",
    "print('The Proportion of non-responses for question 5 is:', Prop_Non_Ans_5)"
   ]
  }
 ],
 "metadata": {
  "anaconda-cloud": {},
  "kernelspec": {
   "display_name": "Python [default]",
   "language": "python",
   "name": "python3"
  },
  "language_info": {
   "codemirror_mode": {
    "name": "ipython",
    "version": 3
   },
   "file_extension": ".py",
   "mimetype": "text/x-python",
   "name": "python",
   "nbconvert_exporter": "python",
   "pygments_lexer": "ipython3",
   "version": "3.5.2"
  }
 },
 "nbformat": 4,
 "nbformat_minor": 1
}
