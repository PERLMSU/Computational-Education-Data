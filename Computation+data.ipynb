{
 "cells": [
  {
   "cell_type": "code",
   "execution_count": 3,
   "metadata": {
    "collapsed": true
   },
   "outputs": [],
   "source": [
    "import pandas as pd\n",
    "import numpy as np\n",
    "import matplotlib.pyplot as plt\n",
    "%matplotlib inline\n",
    "from scipy import stats\n",
    "Total_Rows=1246"
   ]
  },
  {
   "cell_type": "code",
   "execution_count": 4,
   "metadata": {
    "collapsed": false
   },
   "outputs": [],
   "source": [
    "#importing the data in two different formats\n",
    "data_excel=pd.ExcelFile('Computational Data Without Identifiers.xlsx')\n",
    "data_csv=pd.read_csv('Computational Data Without Identifiers.csv')\n",
    "data=pd.read_excel('PERL Research Data.xlsx')"
   ]
  },
  {
   "cell_type": "code",
   "execution_count": 5,
   "metadata": {
    "collapsed": false
   },
   "outputs": [
    {
     "data": {
      "text/html": [
       "<div>\n",
       "<table border=\"1\" class=\"dataframe\">\n",
       "  <thead>\n",
       "    <tr style=\"text-align: right;\">\n",
       "      <th></th>\n",
       "      <th>id</th>\n",
       "      <th>Given this broad definition of computation, do you have any experience teaching computation to undergraduate physics students?</th>\n",
       "      <th>Which of the following programs in computational physics are offered as part of the undergraduate curriculum? -A BS/BA degree in computational physics</th>\n",
       "      <th>Which of the following programs in computational physics are offered as part of the undergraduate curriculum? - A minor in computational physics</th>\n",
       "      <th>Which of the following programs in computational physics are offered as part of the undergraduate curriculum? - A certificate in computational physics</th>\n",
       "      <th>Which of the following programs in computational physics are offered as part of the undergraduate curriculum? - Other - please specify:</th>\n",
       "      <th>Which of the following programs in computational physics are offered as part of the undergraduate curriculum? - None of the above</th>\n",
       "      <th>Which of the following programs in computational physics are offered as part of the undergraduate curriculum? - Other - please specify: (TEXT)</th>\n",
       "      <th>How is computation taught to your undergraduate physics majors? - Introductory undergraduate physics courses that use computation</th>\n",
       "      <th>How is computation taught to your undergraduate physics majors? - Introductory undergraduate physics courses that use computation (REQUIRED)</th>\n",
       "      <th>...</th>\n",
       "      <th>What is your race or ethnicity? - Hispanic or Latino/Latina</th>\n",
       "      <th>What is your race or ethnicity? - Other - please specify:</th>\n",
       "      <th>What is your race or ethnicity? - Prefer not to respond</th>\n",
       "      <th>What is your race or ethnicity? - Other - please specify: (TEXT)</th>\n",
       "      <th>Is there anything else you'd like to tell us about your views on computational physics in the undergraduate curriculum?</th>\n",
       "      <th>BASIC2015</th>\n",
       "      <th>HBCUfact</th>\n",
       "      <th>ModClassfact</th>\n",
       "      <th>Phy.Degfact</th>\n",
       "      <th>ModClass2fact</th>\n",
       "    </tr>\n",
       "  </thead>\n",
       "  <tbody>\n",
       "    <tr>\n",
       "      <th>0</th>\n",
       "      <td>10120</td>\n",
       "      <td>No</td>\n",
       "      <td>Valid Skip</td>\n",
       "      <td>Valid Skip</td>\n",
       "      <td>Valid Skip</td>\n",
       "      <td>Valid Skip</td>\n",
       "      <td>Valid Skip</td>\n",
       "      <td>NaN</td>\n",
       "      <td>Valid Skip</td>\n",
       "      <td>Valid Skip</td>\n",
       "      <td>...</td>\n",
       "      <td>Unchecked</td>\n",
       "      <td>Unchecked</td>\n",
       "      <td>Unchecked</td>\n",
       "      <td>NaN</td>\n",
       "      <td>No</td>\n",
       "      <td>18</td>\n",
       "      <td>Yes</td>\n",
       "      <td>Masters Colleges- Larger Programs</td>\n",
       "      <td>Phd</td>\n",
       "      <td>Masters</td>\n",
       "    </tr>\n",
       "    <tr>\n",
       "      <th>1</th>\n",
       "      <td>10200</td>\n",
       "      <td>No</td>\n",
       "      <td>Valid Skip</td>\n",
       "      <td>Valid Skip</td>\n",
       "      <td>Valid Skip</td>\n",
       "      <td>Valid Skip</td>\n",
       "      <td>Valid Skip</td>\n",
       "      <td>NaN</td>\n",
       "      <td>Valid Skip</td>\n",
       "      <td>Valid Skip</td>\n",
       "      <td>...</td>\n",
       "      <td>Checked</td>\n",
       "      <td>Unchecked</td>\n",
       "      <td>Unchecked</td>\n",
       "      <td>NaN</td>\n",
       "      <td>NaN</td>\n",
       "      <td>1</td>\n",
       "      <td>No</td>\n",
       "      <td>Associates - All</td>\n",
       "      <td>Associates</td>\n",
       "      <td>Associates</td>\n",
       "    </tr>\n",
       "    <tr>\n",
       "      <th>2</th>\n",
       "      <td>10220</td>\n",
       "      <td>No</td>\n",
       "      <td>Valid Skip</td>\n",
       "      <td>Valid Skip</td>\n",
       "      <td>Valid Skip</td>\n",
       "      <td>Valid Skip</td>\n",
       "      <td>Valid Skip</td>\n",
       "      <td>NaN</td>\n",
       "      <td>Valid Skip</td>\n",
       "      <td>Valid Skip</td>\n",
       "      <td>...</td>\n",
       "      <td>Unchecked</td>\n",
       "      <td>Unchecked</td>\n",
       "      <td>Unchecked</td>\n",
       "      <td>NaN</td>\n",
       "      <td>I believe computational physics in the undergr...</td>\n",
       "      <td>1</td>\n",
       "      <td>No</td>\n",
       "      <td>Associates - All</td>\n",
       "      <td>Associates</td>\n",
       "      <td>Associates</td>\n",
       "    </tr>\n",
       "    <tr>\n",
       "      <th>3</th>\n",
       "      <td>10240</td>\n",
       "      <td>No</td>\n",
       "      <td>Valid Skip</td>\n",
       "      <td>Valid Skip</td>\n",
       "      <td>Valid Skip</td>\n",
       "      <td>Valid Skip</td>\n",
       "      <td>Valid Skip</td>\n",
       "      <td>NaN</td>\n",
       "      <td>Valid Skip</td>\n",
       "      <td>Valid Skip</td>\n",
       "      <td>...</td>\n",
       "      <td>Unchecked</td>\n",
       "      <td>Unchecked</td>\n",
       "      <td>Unchecked</td>\n",
       "      <td>NaN</td>\n",
       "      <td>none</td>\n",
       "      <td>20</td>\n",
       "      <td>Yes</td>\n",
       "      <td>Masters Colleges- Medium &amp; Small Programs</td>\n",
       "      <td>Bachelors</td>\n",
       "      <td>Masters</td>\n",
       "    </tr>\n",
       "    <tr>\n",
       "      <th>4</th>\n",
       "      <td>10270</td>\n",
       "      <td>No</td>\n",
       "      <td>Valid Skip</td>\n",
       "      <td>Valid Skip</td>\n",
       "      <td>Valid Skip</td>\n",
       "      <td>Valid Skip</td>\n",
       "      <td>Valid Skip</td>\n",
       "      <td>NaN</td>\n",
       "      <td>Valid Skip</td>\n",
       "      <td>Valid Skip</td>\n",
       "      <td>...</td>\n",
       "      <td>NA8</td>\n",
       "      <td>NA9</td>\n",
       "      <td>NA1</td>\n",
       "      <td>NaN</td>\n",
       "      <td>NaN</td>\n",
       "      <td>20</td>\n",
       "      <td>Yes</td>\n",
       "      <td>Masters Colleges- Medium &amp; Small Programs</td>\n",
       "      <td>Bachelors</td>\n",
       "      <td>Masters</td>\n",
       "    </tr>\n",
       "    <tr>\n",
       "      <th>5</th>\n",
       "      <td>10280</td>\n",
       "      <td>Yes</td>\n",
       "      <td>Unchecked</td>\n",
       "      <td>Unchecked</td>\n",
       "      <td>Unchecked</td>\n",
       "      <td>Checked</td>\n",
       "      <td>Unchecked</td>\n",
       "      <td>Training on how to use high power computing to...</td>\n",
       "      <td>Unchecked</td>\n",
       "      <td>Unchecked</td>\n",
       "      <td>...</td>\n",
       "      <td>Unchecked</td>\n",
       "      <td>Unchecked</td>\n",
       "      <td>Unchecked</td>\n",
       "      <td>NaN</td>\n",
       "      <td>NaN</td>\n",
       "      <td>20</td>\n",
       "      <td>Yes</td>\n",
       "      <td>Masters Colleges- Medium &amp; Small Programs</td>\n",
       "      <td>Bachelors</td>\n",
       "      <td>Masters</td>\n",
       "    </tr>\n",
       "    <tr>\n",
       "      <th>6</th>\n",
       "      <td>10290</td>\n",
       "      <td>No</td>\n",
       "      <td>Valid Skip</td>\n",
       "      <td>Valid Skip</td>\n",
       "      <td>Valid Skip</td>\n",
       "      <td>Valid Skip</td>\n",
       "      <td>Valid Skip</td>\n",
       "      <td>NaN</td>\n",
       "      <td>Valid Skip</td>\n",
       "      <td>Valid Skip</td>\n",
       "      <td>...</td>\n",
       "      <td>Unchecked</td>\n",
       "      <td>Checked</td>\n",
       "      <td>Unchecked</td>\n",
       "      <td>Mixed</td>\n",
       "      <td>NaN</td>\n",
       "      <td>20</td>\n",
       "      <td>Yes</td>\n",
       "      <td>Masters Colleges- Medium &amp; Small Programs</td>\n",
       "      <td>Bachelors</td>\n",
       "      <td>Masters</td>\n",
       "    </tr>\n",
       "    <tr>\n",
       "      <th>7</th>\n",
       "      <td>10310</td>\n",
       "      <td>No</td>\n",
       "      <td>Valid Skip</td>\n",
       "      <td>Valid Skip</td>\n",
       "      <td>Valid Skip</td>\n",
       "      <td>Valid Skip</td>\n",
       "      <td>Valid Skip</td>\n",
       "      <td>NaN</td>\n",
       "      <td>Valid Skip</td>\n",
       "      <td>Valid Skip</td>\n",
       "      <td>...</td>\n",
       "      <td>Unchecked</td>\n",
       "      <td>Unchecked</td>\n",
       "      <td>Checked</td>\n",
       "      <td>NaN</td>\n",
       "      <td>NaN</td>\n",
       "      <td>16</td>\n",
       "      <td>No</td>\n",
       "      <td>Doctoral Univ. Higher Reserach</td>\n",
       "      <td>Phd</td>\n",
       "      <td>Doctoral</td>\n",
       "    </tr>\n",
       "    <tr>\n",
       "      <th>8</th>\n",
       "      <td>10320</td>\n",
       "      <td>Yes</td>\n",
       "      <td>Unchecked</td>\n",
       "      <td>Unchecked</td>\n",
       "      <td>Unchecked</td>\n",
       "      <td>Unchecked</td>\n",
       "      <td>Checked</td>\n",
       "      <td>NaN</td>\n",
       "      <td>Unchecked</td>\n",
       "      <td>Unchecked</td>\n",
       "      <td>...</td>\n",
       "      <td>Unchecked</td>\n",
       "      <td>Unchecked</td>\n",
       "      <td>Unchecked</td>\n",
       "      <td>NaN</td>\n",
       "      <td>NaN</td>\n",
       "      <td>16</td>\n",
       "      <td>No</td>\n",
       "      <td>Doctoral Univ. Higher Reserach</td>\n",
       "      <td>Phd</td>\n",
       "      <td>Doctoral</td>\n",
       "    </tr>\n",
       "    <tr>\n",
       "      <th>9</th>\n",
       "      <td>10350</td>\n",
       "      <td>No</td>\n",
       "      <td>Valid Skip</td>\n",
       "      <td>Valid Skip</td>\n",
       "      <td>Valid Skip</td>\n",
       "      <td>Valid Skip</td>\n",
       "      <td>Valid Skip</td>\n",
       "      <td>NaN</td>\n",
       "      <td>Valid Skip</td>\n",
       "      <td>Valid Skip</td>\n",
       "      <td>...</td>\n",
       "      <td>Unchecked</td>\n",
       "      <td>Unchecked</td>\n",
       "      <td>Unchecked</td>\n",
       "      <td>NaN</td>\n",
       "      <td>NaN</td>\n",
       "      <td>16</td>\n",
       "      <td>No</td>\n",
       "      <td>Doctoral Univ. Higher Reserach</td>\n",
       "      <td>Phd</td>\n",
       "      <td>Doctoral</td>\n",
       "    </tr>\n",
       "    <tr>\n",
       "      <th>10</th>\n",
       "      <td>10390</td>\n",
       "      <td>Yes</td>\n",
       "      <td>Unchecked</td>\n",
       "      <td>Unchecked</td>\n",
       "      <td>Unchecked</td>\n",
       "      <td>Unchecked</td>\n",
       "      <td>Checked</td>\n",
       "      <td>NaN</td>\n",
       "      <td>Unchecked</td>\n",
       "      <td>Unchecked</td>\n",
       "      <td>...</td>\n",
       "      <td>NA1</td>\n",
       "      <td>NA0</td>\n",
       "      <td>NA1</td>\n",
       "      <td>NaN</td>\n",
       "      <td>NaN</td>\n",
       "      <td>16</td>\n",
       "      <td>No</td>\n",
       "      <td>Doctoral Univ. Higher Reserach</td>\n",
       "      <td>Phd</td>\n",
       "      <td>Doctoral</td>\n",
       "    </tr>\n",
       "    <tr>\n",
       "      <th>11</th>\n",
       "      <td>10410</td>\n",
       "      <td>Yes</td>\n",
       "      <td>Unchecked</td>\n",
       "      <td>Unchecked</td>\n",
       "      <td>Unchecked</td>\n",
       "      <td>Unchecked</td>\n",
       "      <td>Checked</td>\n",
       "      <td>NaN</td>\n",
       "      <td>Unchecked</td>\n",
       "      <td>Unchecked</td>\n",
       "      <td>...</td>\n",
       "      <td>Unchecked</td>\n",
       "      <td>Unchecked</td>\n",
       "      <td>Unchecked</td>\n",
       "      <td>NaN</td>\n",
       "      <td>NaN</td>\n",
       "      <td>16</td>\n",
       "      <td>No</td>\n",
       "      <td>Doctoral Univ. Higher Reserach</td>\n",
       "      <td>Phd</td>\n",
       "      <td>Doctoral</td>\n",
       "    </tr>\n",
       "    <tr>\n",
       "      <th>12</th>\n",
       "      <td>10460</td>\n",
       "      <td>No</td>\n",
       "      <td>NA175</td>\n",
       "      <td>NA174</td>\n",
       "      <td>NA173</td>\n",
       "      <td>NA172</td>\n",
       "      <td>NA171</td>\n",
       "      <td>NaN</td>\n",
       "      <td>NA169</td>\n",
       "      <td>NA168</td>\n",
       "      <td>...</td>\n",
       "      <td>NA1</td>\n",
       "      <td>NA0</td>\n",
       "      <td>NA1</td>\n",
       "      <td>NaN</td>\n",
       "      <td>NaN</td>\n",
       "      <td>16</td>\n",
       "      <td>No</td>\n",
       "      <td>Doctoral Univ. Higher Reserach</td>\n",
       "      <td>Phd</td>\n",
       "      <td>Doctoral</td>\n",
       "    </tr>\n",
       "    <tr>\n",
       "      <th>13</th>\n",
       "      <td>10470</td>\n",
       "      <td>Yes</td>\n",
       "      <td>Unchecked</td>\n",
       "      <td>Unchecked</td>\n",
       "      <td>Unchecked</td>\n",
       "      <td>Unchecked</td>\n",
       "      <td>Checked</td>\n",
       "      <td>NaN</td>\n",
       "      <td>Unchecked</td>\n",
       "      <td>Unchecked</td>\n",
       "      <td>...</td>\n",
       "      <td>NA6</td>\n",
       "      <td>NA7</td>\n",
       "      <td>NA8</td>\n",
       "      <td>NaN</td>\n",
       "      <td>NaN</td>\n",
       "      <td>16</td>\n",
       "      <td>No</td>\n",
       "      <td>Doctoral Univ. Higher Reserach</td>\n",
       "      <td>Phd</td>\n",
       "      <td>Doctoral</td>\n",
       "    </tr>\n",
       "    <tr>\n",
       "      <th>14</th>\n",
       "      <td>10500</td>\n",
       "      <td>No</td>\n",
       "      <td>NA175</td>\n",
       "      <td>NA174</td>\n",
       "      <td>NA173</td>\n",
       "      <td>NA172</td>\n",
       "      <td>NA171</td>\n",
       "      <td>NaN</td>\n",
       "      <td>NA169</td>\n",
       "      <td>NA168</td>\n",
       "      <td>...</td>\n",
       "      <td>NA1</td>\n",
       "      <td>NA0</td>\n",
       "      <td>NA1</td>\n",
       "      <td>NaN</td>\n",
       "      <td>NaN</td>\n",
       "      <td>16</td>\n",
       "      <td>No</td>\n",
       "      <td>Doctoral Univ. Higher Reserach</td>\n",
       "      <td>Phd</td>\n",
       "      <td>Doctoral</td>\n",
       "    </tr>\n",
       "    <tr>\n",
       "      <th>15</th>\n",
       "      <td>10510</td>\n",
       "      <td>Yes</td>\n",
       "      <td>Unchecked</td>\n",
       "      <td>Unchecked</td>\n",
       "      <td>Unchecked</td>\n",
       "      <td>Unchecked</td>\n",
       "      <td>Checked</td>\n",
       "      <td>NaN</td>\n",
       "      <td>Checked</td>\n",
       "      <td>Checked</td>\n",
       "      <td>...</td>\n",
       "      <td>Unchecked</td>\n",
       "      <td>Unchecked</td>\n",
       "      <td>Unchecked</td>\n",
       "      <td>NaN</td>\n",
       "      <td>NaN</td>\n",
       "      <td>16</td>\n",
       "      <td>No</td>\n",
       "      <td>Doctoral Univ. Higher Reserach</td>\n",
       "      <td>Phd</td>\n",
       "      <td>Doctoral</td>\n",
       "    </tr>\n",
       "    <tr>\n",
       "      <th>16</th>\n",
       "      <td>10520</td>\n",
       "      <td>No</td>\n",
       "      <td>Valid Skip</td>\n",
       "      <td>Valid Skip</td>\n",
       "      <td>Valid Skip</td>\n",
       "      <td>Valid Skip</td>\n",
       "      <td>Valid Skip</td>\n",
       "      <td>NaN</td>\n",
       "      <td>Valid Skip</td>\n",
       "      <td>Valid Skip</td>\n",
       "      <td>...</td>\n",
       "      <td>Unchecked</td>\n",
       "      <td>Unchecked</td>\n",
       "      <td>Unchecked</td>\n",
       "      <td>NaN</td>\n",
       "      <td>NaN</td>\n",
       "      <td>16</td>\n",
       "      <td>No</td>\n",
       "      <td>Doctoral Univ. Higher Reserach</td>\n",
       "      <td>Phd</td>\n",
       "      <td>Doctoral</td>\n",
       "    </tr>\n",
       "    <tr>\n",
       "      <th>17</th>\n",
       "      <td>10570</td>\n",
       "      <td>Yes</td>\n",
       "      <td>Unchecked</td>\n",
       "      <td>Unchecked</td>\n",
       "      <td>Unchecked</td>\n",
       "      <td>Unchecked</td>\n",
       "      <td>Checked</td>\n",
       "      <td>NaN</td>\n",
       "      <td>Checked</td>\n",
       "      <td>Checked</td>\n",
       "      <td>...</td>\n",
       "      <td>Unchecked</td>\n",
       "      <td>Unchecked</td>\n",
       "      <td>Unchecked</td>\n",
       "      <td>NaN</td>\n",
       "      <td>NaN</td>\n",
       "      <td>16</td>\n",
       "      <td>No</td>\n",
       "      <td>Doctoral Univ. Higher Reserach</td>\n",
       "      <td>Phd</td>\n",
       "      <td>Doctoral</td>\n",
       "    </tr>\n",
       "    <tr>\n",
       "      <th>18</th>\n",
       "      <td>10590</td>\n",
       "      <td>No</td>\n",
       "      <td>Valid Skip</td>\n",
       "      <td>Valid Skip</td>\n",
       "      <td>Valid Skip</td>\n",
       "      <td>Valid Skip</td>\n",
       "      <td>Valid Skip</td>\n",
       "      <td>NaN</td>\n",
       "      <td>Valid Skip</td>\n",
       "      <td>Valid Skip</td>\n",
       "      <td>...</td>\n",
       "      <td>Unchecked</td>\n",
       "      <td>Unchecked</td>\n",
       "      <td>Unchecked</td>\n",
       "      <td>NaN</td>\n",
       "      <td>NaN</td>\n",
       "      <td>18</td>\n",
       "      <td>No</td>\n",
       "      <td>Masters Colleges- Larger Programs</td>\n",
       "      <td>Bachelors</td>\n",
       "      <td>Masters</td>\n",
       "    </tr>\n",
       "    <tr>\n",
       "      <th>19</th>\n",
       "      <td>10630</td>\n",
       "      <td>No</td>\n",
       "      <td>NA1</td>\n",
       "      <td>NA2</td>\n",
       "      <td>NA3</td>\n",
       "      <td>NA4</td>\n",
       "      <td>NA5</td>\n",
       "      <td>NaN</td>\n",
       "      <td>NA1</td>\n",
       "      <td>NA2</td>\n",
       "      <td>...</td>\n",
       "      <td>NA1</td>\n",
       "      <td>NA0</td>\n",
       "      <td>NA1</td>\n",
       "      <td>NaN</td>\n",
       "      <td>NaN</td>\n",
       "      <td>16</td>\n",
       "      <td>No</td>\n",
       "      <td>Doctoral Univ. Higher Reserach</td>\n",
       "      <td>Bachelors</td>\n",
       "      <td>Doctoral</td>\n",
       "    </tr>\n",
       "    <tr>\n",
       "      <th>20</th>\n",
       "      <td>10640</td>\n",
       "      <td>No</td>\n",
       "      <td>Valid Skip</td>\n",
       "      <td>Valid Skip</td>\n",
       "      <td>Valid Skip</td>\n",
       "      <td>Valid Skip</td>\n",
       "      <td>Valid Skip</td>\n",
       "      <td>NaN</td>\n",
       "      <td>Valid Skip</td>\n",
       "      <td>Valid Skip</td>\n",
       "      <td>...</td>\n",
       "      <td>NA0</td>\n",
       "      <td>NA1</td>\n",
       "      <td>NA2</td>\n",
       "      <td>NaN</td>\n",
       "      <td>NaN</td>\n",
       "      <td>16</td>\n",
       "      <td>No</td>\n",
       "      <td>Doctoral Univ. Higher Reserach</td>\n",
       "      <td>Bachelors</td>\n",
       "      <td>Doctoral</td>\n",
       "    </tr>\n",
       "    <tr>\n",
       "      <th>21</th>\n",
       "      <td>10660</td>\n",
       "      <td>Yes</td>\n",
       "      <td>Unchecked</td>\n",
       "      <td>Unchecked</td>\n",
       "      <td>Unchecked</td>\n",
       "      <td>Unchecked</td>\n",
       "      <td>Checked</td>\n",
       "      <td>NaN</td>\n",
       "      <td>Unchecked</td>\n",
       "      <td>Unchecked</td>\n",
       "      <td>...</td>\n",
       "      <td>NA1</td>\n",
       "      <td>NA2</td>\n",
       "      <td>NA3</td>\n",
       "      <td>NaN</td>\n",
       "      <td>NaN</td>\n",
       "      <td>16</td>\n",
       "      <td>No</td>\n",
       "      <td>Doctoral Univ. Higher Reserach</td>\n",
       "      <td>Bachelors</td>\n",
       "      <td>Doctoral</td>\n",
       "    </tr>\n",
       "    <tr>\n",
       "      <th>22</th>\n",
       "      <td>10700</td>\n",
       "      <td>No</td>\n",
       "      <td>NA1</td>\n",
       "      <td>NA2</td>\n",
       "      <td>NA3</td>\n",
       "      <td>NA4</td>\n",
       "      <td>NA5</td>\n",
       "      <td>NaN</td>\n",
       "      <td>NA9</td>\n",
       "      <td>NA8</td>\n",
       "      <td>...</td>\n",
       "      <td>NA2</td>\n",
       "      <td>NA3</td>\n",
       "      <td>NA4</td>\n",
       "      <td>NaN</td>\n",
       "      <td>NaN</td>\n",
       "      <td>16</td>\n",
       "      <td>No</td>\n",
       "      <td>Doctoral Univ. Higher Reserach</td>\n",
       "      <td>Bachelors</td>\n",
       "      <td>Doctoral</td>\n",
       "    </tr>\n",
       "    <tr>\n",
       "      <th>23</th>\n",
       "      <td>10740</td>\n",
       "      <td>No</td>\n",
       "      <td>Valid Skip</td>\n",
       "      <td>Valid Skip</td>\n",
       "      <td>Valid Skip</td>\n",
       "      <td>Valid Skip</td>\n",
       "      <td>Valid Skip</td>\n",
       "      <td>NaN</td>\n",
       "      <td>Valid Skip</td>\n",
       "      <td>Valid Skip</td>\n",
       "      <td>...</td>\n",
       "      <td>NA3</td>\n",
       "      <td>NA4</td>\n",
       "      <td>NA5</td>\n",
       "      <td>NaN</td>\n",
       "      <td>NaN</td>\n",
       "      <td>16</td>\n",
       "      <td>No</td>\n",
       "      <td>Doctoral Univ. Higher Reserach</td>\n",
       "      <td>Bachelors</td>\n",
       "      <td>Doctoral</td>\n",
       "    </tr>\n",
       "    <tr>\n",
       "      <th>24</th>\n",
       "      <td>10770</td>\n",
       "      <td>No</td>\n",
       "      <td>Valid Skip</td>\n",
       "      <td>Valid Skip</td>\n",
       "      <td>Valid Skip</td>\n",
       "      <td>Valid Skip</td>\n",
       "      <td>Valid Skip</td>\n",
       "      <td>NaN</td>\n",
       "      <td>Valid Skip</td>\n",
       "      <td>Valid Skip</td>\n",
       "      <td>...</td>\n",
       "      <td>NA4</td>\n",
       "      <td>NA5</td>\n",
       "      <td>NA6</td>\n",
       "      <td>NaN</td>\n",
       "      <td>NaN</td>\n",
       "      <td>6</td>\n",
       "      <td>No</td>\n",
       "      <td>Associates - All</td>\n",
       "      <td>Associates</td>\n",
       "      <td>Associates</td>\n",
       "    </tr>\n",
       "    <tr>\n",
       "      <th>25</th>\n",
       "      <td>10820</td>\n",
       "      <td>Yes</td>\n",
       "      <td>Unchecked</td>\n",
       "      <td>Unchecked</td>\n",
       "      <td>Unchecked</td>\n",
       "      <td>Unchecked</td>\n",
       "      <td>Checked</td>\n",
       "      <td>NaN</td>\n",
       "      <td>Unchecked</td>\n",
       "      <td>Unchecked</td>\n",
       "      <td>...</td>\n",
       "      <td>Unchecked</td>\n",
       "      <td>Unchecked</td>\n",
       "      <td>Unchecked</td>\n",
       "      <td>NaN</td>\n",
       "      <td>NaN</td>\n",
       "      <td>18</td>\n",
       "      <td>No</td>\n",
       "      <td>Masters Colleges- Larger Programs</td>\n",
       "      <td>Bachelors</td>\n",
       "      <td>Masters</td>\n",
       "    </tr>\n",
       "    <tr>\n",
       "      <th>26</th>\n",
       "      <td>10830</td>\n",
       "      <td>Yes</td>\n",
       "      <td>Unchecked</td>\n",
       "      <td>Unchecked</td>\n",
       "      <td>Unchecked</td>\n",
       "      <td>Unchecked</td>\n",
       "      <td>Checked</td>\n",
       "      <td>NaN</td>\n",
       "      <td>Unchecked</td>\n",
       "      <td>Unchecked</td>\n",
       "      <td>...</td>\n",
       "      <td>Unchecked</td>\n",
       "      <td>Unchecked</td>\n",
       "      <td>Unchecked</td>\n",
       "      <td>NaN</td>\n",
       "      <td>NaN</td>\n",
       "      <td>18</td>\n",
       "      <td>No</td>\n",
       "      <td>Masters Colleges- Larger Programs</td>\n",
       "      <td>Bachelors</td>\n",
       "      <td>Masters</td>\n",
       "    </tr>\n",
       "    <tr>\n",
       "      <th>27</th>\n",
       "      <td>10870</td>\n",
       "      <td>Yes</td>\n",
       "      <td>Unchecked</td>\n",
       "      <td>Unchecked</td>\n",
       "      <td>Unchecked</td>\n",
       "      <td>Unchecked</td>\n",
       "      <td>Checked</td>\n",
       "      <td>NaN</td>\n",
       "      <td>Unchecked</td>\n",
       "      <td>Unchecked</td>\n",
       "      <td>...</td>\n",
       "      <td>Unchecked</td>\n",
       "      <td>Unchecked</td>\n",
       "      <td>Unchecked</td>\n",
       "      <td>NaN</td>\n",
       "      <td>NaN</td>\n",
       "      <td>21</td>\n",
       "      <td>No</td>\n",
       "      <td>Baccalaureate Colleges: Art &amp; Science Focus</td>\n",
       "      <td>Bachelors</td>\n",
       "      <td>Bachelors</td>\n",
       "    </tr>\n",
       "    <tr>\n",
       "      <th>28</th>\n",
       "      <td>10890</td>\n",
       "      <td>Yes</td>\n",
       "      <td>Unchecked</td>\n",
       "      <td>Unchecked</td>\n",
       "      <td>Unchecked</td>\n",
       "      <td>Unchecked</td>\n",
       "      <td>Checked</td>\n",
       "      <td>NaN</td>\n",
       "      <td>Checked</td>\n",
       "      <td>Checked</td>\n",
       "      <td>...</td>\n",
       "      <td>Unchecked</td>\n",
       "      <td>Unchecked</td>\n",
       "      <td>Unchecked</td>\n",
       "      <td>NaN</td>\n",
       "      <td>NaN</td>\n",
       "      <td>21</td>\n",
       "      <td>No</td>\n",
       "      <td>Baccalaureate Colleges: Art &amp; Science Focus</td>\n",
       "      <td>Bachelors</td>\n",
       "      <td>Bachelors</td>\n",
       "    </tr>\n",
       "    <tr>\n",
       "      <th>29</th>\n",
       "      <td>10900</td>\n",
       "      <td>Yes</td>\n",
       "      <td>Unchecked</td>\n",
       "      <td>Unchecked</td>\n",
       "      <td>Unchecked</td>\n",
       "      <td>Unchecked</td>\n",
       "      <td>Checked</td>\n",
       "      <td>NaN</td>\n",
       "      <td>Checked</td>\n",
       "      <td>Checked</td>\n",
       "      <td>...</td>\n",
       "      <td>Unchecked</td>\n",
       "      <td>Unchecked</td>\n",
       "      <td>Unchecked</td>\n",
       "      <td>NaN</td>\n",
       "      <td>This survey is too long. I have a desire to he...</td>\n",
       "      <td>21</td>\n",
       "      <td>No</td>\n",
       "      <td>Baccalaureate Colleges: Art &amp; Science Focus</td>\n",
       "      <td>Bachelors</td>\n",
       "      <td>Bachelors</td>\n",
       "    </tr>\n",
       "    <tr>\n",
       "      <th>...</th>\n",
       "      <td>...</td>\n",
       "      <td>...</td>\n",
       "      <td>...</td>\n",
       "      <td>...</td>\n",
       "      <td>...</td>\n",
       "      <td>...</td>\n",
       "      <td>...</td>\n",
       "      <td>...</td>\n",
       "      <td>...</td>\n",
       "      <td>...</td>\n",
       "      <td>...</td>\n",
       "      <td>...</td>\n",
       "      <td>...</td>\n",
       "      <td>...</td>\n",
       "      <td>...</td>\n",
       "      <td>...</td>\n",
       "      <td>...</td>\n",
       "      <td>...</td>\n",
       "      <td>...</td>\n",
       "      <td>...</td>\n",
       "      <td>...</td>\n",
       "    </tr>\n",
       "    <tr>\n",
       "      <th>1216</th>\n",
       "      <td>49820</td>\n",
       "      <td>Yes</td>\n",
       "      <td>Checked</td>\n",
       "      <td>Unchecked</td>\n",
       "      <td>Unchecked</td>\n",
       "      <td>Unchecked</td>\n",
       "      <td>Unchecked</td>\n",
       "      <td>BS with computational emphasis</td>\n",
       "      <td>Checked</td>\n",
       "      <td>Checked</td>\n",
       "      <td>...</td>\n",
       "      <td>Unchecked</td>\n",
       "      <td>Unchecked</td>\n",
       "      <td>Unchecked</td>\n",
       "      <td>NaN</td>\n",
       "      <td>NaN</td>\n",
       "      <td>18</td>\n",
       "      <td>No</td>\n",
       "      <td>Masters Colleges- Larger Programs</td>\n",
       "      <td>Bachelors</td>\n",
       "      <td>Masters</td>\n",
       "    </tr>\n",
       "    <tr>\n",
       "      <th>1217</th>\n",
       "      <td>49830</td>\n",
       "      <td>Yes</td>\n",
       "      <td>Unchecked</td>\n",
       "      <td>Unchecked</td>\n",
       "      <td>Unchecked</td>\n",
       "      <td>Unchecked</td>\n",
       "      <td>Checked</td>\n",
       "      <td>NaN</td>\n",
       "      <td>Checked</td>\n",
       "      <td>Checked</td>\n",
       "      <td>...</td>\n",
       "      <td>Unchecked</td>\n",
       "      <td>Unchecked</td>\n",
       "      <td>Unchecked</td>\n",
       "      <td>NaN</td>\n",
       "      <td>NaN</td>\n",
       "      <td>18</td>\n",
       "      <td>No</td>\n",
       "      <td>Masters Colleges- Larger Programs</td>\n",
       "      <td>Bachelors</td>\n",
       "      <td>Masters</td>\n",
       "    </tr>\n",
       "    <tr>\n",
       "      <th>1218</th>\n",
       "      <td>49850</td>\n",
       "      <td>Yes</td>\n",
       "      <td>Unchecked</td>\n",
       "      <td>Unchecked</td>\n",
       "      <td>Unchecked</td>\n",
       "      <td>Unchecked</td>\n",
       "      <td>Checked</td>\n",
       "      <td>NaN</td>\n",
       "      <td>Checked</td>\n",
       "      <td>Checked</td>\n",
       "      <td>...</td>\n",
       "      <td>Unchecked</td>\n",
       "      <td>Unchecked</td>\n",
       "      <td>Checked</td>\n",
       "      <td>NaN</td>\n",
       "      <td>NaN</td>\n",
       "      <td>18</td>\n",
       "      <td>No</td>\n",
       "      <td>Masters Colleges- Larger Programs</td>\n",
       "      <td>Bachelors</td>\n",
       "      <td>Masters</td>\n",
       "    </tr>\n",
       "    <tr>\n",
       "      <th>1219</th>\n",
       "      <td>49880</td>\n",
       "      <td>Yes</td>\n",
       "      <td>Unchecked</td>\n",
       "      <td>Unchecked</td>\n",
       "      <td>Unchecked</td>\n",
       "      <td>Unchecked</td>\n",
       "      <td>Checked</td>\n",
       "      <td>NaN</td>\n",
       "      <td>Checked</td>\n",
       "      <td>Checked</td>\n",
       "      <td>...</td>\n",
       "      <td>Unchecked</td>\n",
       "      <td>Unchecked</td>\n",
       "      <td>Unchecked</td>\n",
       "      <td>NaN</td>\n",
       "      <td>NaN</td>\n",
       "      <td>18</td>\n",
       "      <td>No</td>\n",
       "      <td>Masters Colleges- Larger Programs</td>\n",
       "      <td>Bachelors</td>\n",
       "      <td>Masters</td>\n",
       "    </tr>\n",
       "    <tr>\n",
       "      <th>1220</th>\n",
       "      <td>49890</td>\n",
       "      <td>No</td>\n",
       "      <td>Valid Skip</td>\n",
       "      <td>Valid Skip</td>\n",
       "      <td>Valid Skip</td>\n",
       "      <td>Valid Skip</td>\n",
       "      <td>Valid Skip</td>\n",
       "      <td>NaN</td>\n",
       "      <td>Valid Skip</td>\n",
       "      <td>Valid Skip</td>\n",
       "      <td>...</td>\n",
       "      <td>Unchecked</td>\n",
       "      <td>Unchecked</td>\n",
       "      <td>Unchecked</td>\n",
       "      <td>NaN</td>\n",
       "      <td>NaN</td>\n",
       "      <td>18</td>\n",
       "      <td>No</td>\n",
       "      <td>Masters Colleges- Larger Programs</td>\n",
       "      <td>Bachelors</td>\n",
       "      <td>Masters</td>\n",
       "    </tr>\n",
       "    <tr>\n",
       "      <th>1221</th>\n",
       "      <td>49910</td>\n",
       "      <td>Yes</td>\n",
       "      <td>Unchecked</td>\n",
       "      <td>Unchecked</td>\n",
       "      <td>Unchecked</td>\n",
       "      <td>Unchecked</td>\n",
       "      <td>Checked</td>\n",
       "      <td>NaN</td>\n",
       "      <td>Checked</td>\n",
       "      <td>Unchecked</td>\n",
       "      <td>...</td>\n",
       "      <td>Unchecked</td>\n",
       "      <td>Unchecked</td>\n",
       "      <td>Unchecked</td>\n",
       "      <td>NaN</td>\n",
       "      <td>NaN</td>\n",
       "      <td>18</td>\n",
       "      <td>No</td>\n",
       "      <td>Masters Colleges- Larger Programs</td>\n",
       "      <td>Bachelors</td>\n",
       "      <td>Masters</td>\n",
       "    </tr>\n",
       "    <tr>\n",
       "      <th>1222</th>\n",
       "      <td>49920</td>\n",
       "      <td>No</td>\n",
       "      <td>Valid Skip</td>\n",
       "      <td>Valid Skip</td>\n",
       "      <td>Valid Skip</td>\n",
       "      <td>Valid Skip</td>\n",
       "      <td>Valid Skip</td>\n",
       "      <td>NaN</td>\n",
       "      <td>Valid Skip</td>\n",
       "      <td>Valid Skip</td>\n",
       "      <td>...</td>\n",
       "      <td>Unchecked</td>\n",
       "      <td>Unchecked</td>\n",
       "      <td>Unchecked</td>\n",
       "      <td>NaN</td>\n",
       "      <td>NaN</td>\n",
       "      <td>18</td>\n",
       "      <td>No</td>\n",
       "      <td>Masters Colleges- Larger Programs</td>\n",
       "      <td>Bachelors</td>\n",
       "      <td>Masters</td>\n",
       "    </tr>\n",
       "    <tr>\n",
       "      <th>1223</th>\n",
       "      <td>49940</td>\n",
       "      <td>Yes</td>\n",
       "      <td>Unchecked</td>\n",
       "      <td>Unchecked</td>\n",
       "      <td>Unchecked</td>\n",
       "      <td>Unchecked</td>\n",
       "      <td>Checked</td>\n",
       "      <td>NaN</td>\n",
       "      <td>Checked</td>\n",
       "      <td>Unchecked</td>\n",
       "      <td>...</td>\n",
       "      <td>Unchecked</td>\n",
       "      <td>Unchecked</td>\n",
       "      <td>Unchecked</td>\n",
       "      <td>NaN</td>\n",
       "      <td>I wish that AIP/APS/AAPT proposed suggestions ...</td>\n",
       "      <td>18</td>\n",
       "      <td>No</td>\n",
       "      <td>Masters Colleges- Larger Programs</td>\n",
       "      <td>Bachelors</td>\n",
       "      <td>Masters</td>\n",
       "    </tr>\n",
       "    <tr>\n",
       "      <th>1224</th>\n",
       "      <td>49960</td>\n",
       "      <td>No</td>\n",
       "      <td>Valid Skip</td>\n",
       "      <td>Valid Skip</td>\n",
       "      <td>Valid Skip</td>\n",
       "      <td>Valid Skip</td>\n",
       "      <td>Valid Skip</td>\n",
       "      <td>NaN</td>\n",
       "      <td>Valid Skip</td>\n",
       "      <td>Valid Skip</td>\n",
       "      <td>...</td>\n",
       "      <td>Unchecked</td>\n",
       "      <td>Unchecked</td>\n",
       "      <td>Unchecked</td>\n",
       "      <td>NaN</td>\n",
       "      <td>NaN</td>\n",
       "      <td>18</td>\n",
       "      <td>No</td>\n",
       "      <td>Masters Colleges- Larger Programs</td>\n",
       "      <td>Bachelors</td>\n",
       "      <td>Masters</td>\n",
       "    </tr>\n",
       "    <tr>\n",
       "      <th>1225</th>\n",
       "      <td>49970</td>\n",
       "      <td>Yes</td>\n",
       "      <td>Unchecked</td>\n",
       "      <td>Unchecked</td>\n",
       "      <td>Unchecked</td>\n",
       "      <td>Unchecked</td>\n",
       "      <td>Checked</td>\n",
       "      <td>NaN</td>\n",
       "      <td>Unchecked</td>\n",
       "      <td>Unchecked</td>\n",
       "      <td>...</td>\n",
       "      <td>Unchecked</td>\n",
       "      <td>Unchecked</td>\n",
       "      <td>Unchecked</td>\n",
       "      <td>NaN</td>\n",
       "      <td>When push comes to shove at small universities...</td>\n",
       "      <td>18</td>\n",
       "      <td>No</td>\n",
       "      <td>Masters Colleges- Larger Programs</td>\n",
       "      <td>Bachelors</td>\n",
       "      <td>Masters</td>\n",
       "    </tr>\n",
       "    <tr>\n",
       "      <th>1226</th>\n",
       "      <td>49980</td>\n",
       "      <td>Yes</td>\n",
       "      <td>Unchecked</td>\n",
       "      <td>Unchecked</td>\n",
       "      <td>Unchecked</td>\n",
       "      <td>Unchecked</td>\n",
       "      <td>Checked</td>\n",
       "      <td>NaN</td>\n",
       "      <td>Checked</td>\n",
       "      <td>Checked</td>\n",
       "      <td>...</td>\n",
       "      <td>Unchecked</td>\n",
       "      <td>Unchecked</td>\n",
       "      <td>Unchecked</td>\n",
       "      <td>NaN</td>\n",
       "      <td>NaN</td>\n",
       "      <td>18</td>\n",
       "      <td>No</td>\n",
       "      <td>Masters Colleges- Larger Programs</td>\n",
       "      <td>Bachelors</td>\n",
       "      <td>Masters</td>\n",
       "    </tr>\n",
       "    <tr>\n",
       "      <th>1227</th>\n",
       "      <td>50040</td>\n",
       "      <td>No</td>\n",
       "      <td>Valid Skip</td>\n",
       "      <td>Valid Skip</td>\n",
       "      <td>Valid Skip</td>\n",
       "      <td>Valid Skip</td>\n",
       "      <td>Valid Skip</td>\n",
       "      <td>NaN</td>\n",
       "      <td>Valid Skip</td>\n",
       "      <td>Valid Skip</td>\n",
       "      <td>...</td>\n",
       "      <td>Unchecked</td>\n",
       "      <td>Unchecked</td>\n",
       "      <td>Unchecked</td>\n",
       "      <td>NaN</td>\n",
       "      <td>NaN</td>\n",
       "      <td>19</td>\n",
       "      <td>No</td>\n",
       "      <td>Masters Colleges- Medium &amp; Small Programs</td>\n",
       "      <td>Bachelors</td>\n",
       "      <td>Masters</td>\n",
       "    </tr>\n",
       "    <tr>\n",
       "      <th>1228</th>\n",
       "      <td>50060</td>\n",
       "      <td>Yes</td>\n",
       "      <td>Unchecked</td>\n",
       "      <td>Unchecked</td>\n",
       "      <td>Unchecked</td>\n",
       "      <td>Unchecked</td>\n",
       "      <td>Checked</td>\n",
       "      <td>NaN</td>\n",
       "      <td>Checked</td>\n",
       "      <td>Checked</td>\n",
       "      <td>...</td>\n",
       "      <td>Unchecked</td>\n",
       "      <td>Unchecked</td>\n",
       "      <td>Unchecked</td>\n",
       "      <td>NaN</td>\n",
       "      <td>NaN</td>\n",
       "      <td>3</td>\n",
       "      <td>No</td>\n",
       "      <td>Associates - All</td>\n",
       "      <td>Associates</td>\n",
       "      <td>Associates</td>\n",
       "    </tr>\n",
       "    <tr>\n",
       "      <th>1229</th>\n",
       "      <td>50090</td>\n",
       "      <td>No</td>\n",
       "      <td>Valid Skip</td>\n",
       "      <td>Valid Skip</td>\n",
       "      <td>Valid Skip</td>\n",
       "      <td>Valid Skip</td>\n",
       "      <td>Valid Skip</td>\n",
       "      <td>NaN</td>\n",
       "      <td>Valid Skip</td>\n",
       "      <td>Valid Skip</td>\n",
       "      <td>...</td>\n",
       "      <td>Unchecked</td>\n",
       "      <td>Unchecked</td>\n",
       "      <td>Unchecked</td>\n",
       "      <td>NaN</td>\n",
       "      <td>NaN</td>\n",
       "      <td>16</td>\n",
       "      <td>No</td>\n",
       "      <td>Doctoral Univ. Higher Reserach</td>\n",
       "      <td>Phd</td>\n",
       "      <td>Doctoral</td>\n",
       "    </tr>\n",
       "    <tr>\n",
       "      <th>1230</th>\n",
       "      <td>50110</td>\n",
       "      <td>Yes</td>\n",
       "      <td>Unchecked</td>\n",
       "      <td>Unchecked</td>\n",
       "      <td>Unchecked</td>\n",
       "      <td>Unchecked</td>\n",
       "      <td>Checked</td>\n",
       "      <td>NaN</td>\n",
       "      <td>Checked</td>\n",
       "      <td>Checked</td>\n",
       "      <td>...</td>\n",
       "      <td>Unchecked</td>\n",
       "      <td>Unchecked</td>\n",
       "      <td>Unchecked</td>\n",
       "      <td>NaN</td>\n",
       "      <td>NaN</td>\n",
       "      <td>16</td>\n",
       "      <td>No</td>\n",
       "      <td>Doctoral Univ. Higher Reserach</td>\n",
       "      <td>Phd</td>\n",
       "      <td>Doctoral</td>\n",
       "    </tr>\n",
       "    <tr>\n",
       "      <th>1231</th>\n",
       "      <td>50140</td>\n",
       "      <td>Yes</td>\n",
       "      <td>Unchecked</td>\n",
       "      <td>Unchecked</td>\n",
       "      <td>Unchecked</td>\n",
       "      <td>Unchecked</td>\n",
       "      <td>Checked</td>\n",
       "      <td>NaN</td>\n",
       "      <td>Checked</td>\n",
       "      <td>Unchecked</td>\n",
       "      <td>...</td>\n",
       "      <td>Unchecked</td>\n",
       "      <td>Unchecked</td>\n",
       "      <td>Unchecked</td>\n",
       "      <td>NaN</td>\n",
       "      <td>In questions regarding race or gender I answer...</td>\n",
       "      <td>16</td>\n",
       "      <td>No</td>\n",
       "      <td>Doctoral Univ. Higher Reserach</td>\n",
       "      <td>Phd</td>\n",
       "      <td>Doctoral</td>\n",
       "    </tr>\n",
       "    <tr>\n",
       "      <th>1232</th>\n",
       "      <td>50150</td>\n",
       "      <td>No</td>\n",
       "      <td>Valid Skip</td>\n",
       "      <td>Valid Skip</td>\n",
       "      <td>Valid Skip</td>\n",
       "      <td>Valid Skip</td>\n",
       "      <td>Valid Skip</td>\n",
       "      <td>NaN</td>\n",
       "      <td>Valid Skip</td>\n",
       "      <td>Valid Skip</td>\n",
       "      <td>...</td>\n",
       "      <td>Unchecked</td>\n",
       "      <td>Unchecked</td>\n",
       "      <td>Unchecked</td>\n",
       "      <td>NaN</td>\n",
       "      <td>NaN</td>\n",
       "      <td>16</td>\n",
       "      <td>No</td>\n",
       "      <td>Doctoral Univ. Higher Reserach</td>\n",
       "      <td>Phd</td>\n",
       "      <td>Doctoral</td>\n",
       "    </tr>\n",
       "    <tr>\n",
       "      <th>1233</th>\n",
       "      <td>50160</td>\n",
       "      <td>Yes</td>\n",
       "      <td>Unchecked</td>\n",
       "      <td>Unchecked</td>\n",
       "      <td>Unchecked</td>\n",
       "      <td>Checked</td>\n",
       "      <td>Unchecked</td>\n",
       "      <td>courses in computational physics</td>\n",
       "      <td>Unchecked</td>\n",
       "      <td>Unchecked</td>\n",
       "      <td>...</td>\n",
       "      <td>Unchecked</td>\n",
       "      <td>Unchecked</td>\n",
       "      <td>Unchecked</td>\n",
       "      <td>NaN</td>\n",
       "      <td>I have observed that in computational physics ...</td>\n",
       "      <td>16</td>\n",
       "      <td>No</td>\n",
       "      <td>Doctoral Univ. Higher Reserach</td>\n",
       "      <td>Phd</td>\n",
       "      <td>Doctoral</td>\n",
       "    </tr>\n",
       "    <tr>\n",
       "      <th>1234</th>\n",
       "      <td>50180</td>\n",
       "      <td>Yes</td>\n",
       "      <td>Unchecked</td>\n",
       "      <td>Unchecked</td>\n",
       "      <td>Unchecked</td>\n",
       "      <td>Unchecked</td>\n",
       "      <td>Checked</td>\n",
       "      <td>NaN</td>\n",
       "      <td>Checked</td>\n",
       "      <td>Checked</td>\n",
       "      <td>...</td>\n",
       "      <td>Unchecked</td>\n",
       "      <td>Unchecked</td>\n",
       "      <td>Checked</td>\n",
       "      <td>NaN</td>\n",
       "      <td>NaN</td>\n",
       "      <td>16</td>\n",
       "      <td>No</td>\n",
       "      <td>Doctoral Univ. Higher Reserach</td>\n",
       "      <td>Phd</td>\n",
       "      <td>Doctoral</td>\n",
       "    </tr>\n",
       "    <tr>\n",
       "      <th>1235</th>\n",
       "      <td>50220</td>\n",
       "      <td>Yes</td>\n",
       "      <td>NA1</td>\n",
       "      <td>NA2</td>\n",
       "      <td>NA3</td>\n",
       "      <td>NA4</td>\n",
       "      <td>NA5</td>\n",
       "      <td>NaN</td>\n",
       "      <td>NA7</td>\n",
       "      <td>NA8</td>\n",
       "      <td>...</td>\n",
       "      <td>NA175</td>\n",
       "      <td>NA176</td>\n",
       "      <td>NA177</td>\n",
       "      <td>NaN</td>\n",
       "      <td>NaN</td>\n",
       "      <td>16</td>\n",
       "      <td>No</td>\n",
       "      <td>Doctoral Univ. Higher Reserach</td>\n",
       "      <td>Phd</td>\n",
       "      <td>Doctoral</td>\n",
       "    </tr>\n",
       "    <tr>\n",
       "      <th>1236</th>\n",
       "      <td>50570</td>\n",
       "      <td>Yes</td>\n",
       "      <td>NA1</td>\n",
       "      <td>NA2</td>\n",
       "      <td>NA3</td>\n",
       "      <td>NA4</td>\n",
       "      <td>NA5</td>\n",
       "      <td>NaN</td>\n",
       "      <td>Checked</td>\n",
       "      <td>Unchecked</td>\n",
       "      <td>...</td>\n",
       "      <td>Unchecked</td>\n",
       "      <td>Unchecked</td>\n",
       "      <td>Unchecked</td>\n",
       "      <td>NaN</td>\n",
       "      <td>NaN</td>\n",
       "      <td>16</td>\n",
       "      <td>No</td>\n",
       "      <td>Doctoral Univ. Higher Reserach</td>\n",
       "      <td>Phd</td>\n",
       "      <td>Doctoral</td>\n",
       "    </tr>\n",
       "    <tr>\n",
       "      <th>1237</th>\n",
       "      <td>60000</td>\n",
       "      <td>Yes</td>\n",
       "      <td>Unchecked</td>\n",
       "      <td>Unchecked</td>\n",
       "      <td>Unchecked</td>\n",
       "      <td>Unchecked</td>\n",
       "      <td>Checked</td>\n",
       "      <td>NaN</td>\n",
       "      <td>Checked</td>\n",
       "      <td>Checked</td>\n",
       "      <td>...</td>\n",
       "      <td>NA112</td>\n",
       "      <td>NA113</td>\n",
       "      <td>NA114</td>\n",
       "      <td>NaN</td>\n",
       "      <td>NaN</td>\n",
       "      <td>2</td>\n",
       "      <td>No</td>\n",
       "      <td>Associates - All</td>\n",
       "      <td>Associates</td>\n",
       "      <td>Associates</td>\n",
       "    </tr>\n",
       "    <tr>\n",
       "      <th>1238</th>\n",
       "      <td>60060</td>\n",
       "      <td>Yes</td>\n",
       "      <td>Unchecked</td>\n",
       "      <td>Unchecked</td>\n",
       "      <td>Unchecked</td>\n",
       "      <td>Unchecked</td>\n",
       "      <td>Checked</td>\n",
       "      <td>NaN</td>\n",
       "      <td>Checked</td>\n",
       "      <td>Checked</td>\n",
       "      <td>...</td>\n",
       "      <td>Unchecked</td>\n",
       "      <td>Unchecked</td>\n",
       "      <td>Unchecked</td>\n",
       "      <td>NaN</td>\n",
       "      <td>NaN</td>\n",
       "      <td>1</td>\n",
       "      <td>No</td>\n",
       "      <td>Associates - All</td>\n",
       "      <td>Associates</td>\n",
       "      <td>Associates</td>\n",
       "    </tr>\n",
       "    <tr>\n",
       "      <th>1239</th>\n",
       "      <td>19790000</td>\n",
       "      <td>Yes</td>\n",
       "      <td>Unchecked</td>\n",
       "      <td>Unchecked</td>\n",
       "      <td>Unchecked</td>\n",
       "      <td>Checked</td>\n",
       "      <td>Unchecked</td>\n",
       "      <td>one course</td>\n",
       "      <td>Unchecked</td>\n",
       "      <td>Unchecked</td>\n",
       "      <td>...</td>\n",
       "      <td>NA157</td>\n",
       "      <td>NA158</td>\n",
       "      <td>NA159</td>\n",
       "      <td>NaN</td>\n",
       "      <td>NaN</td>\n",
       "      <td>22</td>\n",
       "      <td>No</td>\n",
       "      <td>Baccalaureate Colleges: Diverse Fields + Special</td>\n",
       "      <td>Bachelors</td>\n",
       "      <td>Bachelors</td>\n",
       "    </tr>\n",
       "    <tr>\n",
       "      <th>1240</th>\n",
       "      <td>231203000</td>\n",
       "      <td>Yes</td>\n",
       "      <td>Unchecked</td>\n",
       "      <td>Unchecked</td>\n",
       "      <td>Unchecked</td>\n",
       "      <td>Unchecked</td>\n",
       "      <td>Checked</td>\n",
       "      <td>NaN</td>\n",
       "      <td>Unchecked</td>\n",
       "      <td>Unchecked</td>\n",
       "      <td>...</td>\n",
       "      <td>Unchecked</td>\n",
       "      <td>Unchecked</td>\n",
       "      <td>Unchecked</td>\n",
       "      <td>NaN</td>\n",
       "      <td>NaN</td>\n",
       "      <td>22</td>\n",
       "      <td>No</td>\n",
       "      <td>Baccalaureate Colleges: Diverse Fields + Special</td>\n",
       "      <td>Bachelors</td>\n",
       "      <td>Bachelors</td>\n",
       "    </tr>\n",
       "    <tr>\n",
       "      <th>1241</th>\n",
       "      <td>551954000</td>\n",
       "      <td>No</td>\n",
       "      <td>Valid Skip</td>\n",
       "      <td>Valid Skip</td>\n",
       "      <td>Valid Skip</td>\n",
       "      <td>Valid Skip</td>\n",
       "      <td>Valid Skip</td>\n",
       "      <td>NaN</td>\n",
       "      <td>Valid Skip</td>\n",
       "      <td>Valid Skip</td>\n",
       "      <td>...</td>\n",
       "      <td>Unchecked</td>\n",
       "      <td>Unchecked</td>\n",
       "      <td>Unchecked</td>\n",
       "      <td>NaN</td>\n",
       "      <td>NaN</td>\n",
       "      <td>22</td>\n",
       "      <td>No</td>\n",
       "      <td>Baccalaureate Colleges: Diverse Fields + Special</td>\n",
       "      <td>Bachelors</td>\n",
       "      <td>Bachelors</td>\n",
       "    </tr>\n",
       "    <tr>\n",
       "      <th>1242</th>\n",
       "      <td>406594000</td>\n",
       "      <td>Yes</td>\n",
       "      <td>Unchecked</td>\n",
       "      <td>Unchecked</td>\n",
       "      <td>Unchecked</td>\n",
       "      <td>Unchecked</td>\n",
       "      <td>Checked</td>\n",
       "      <td>NaN</td>\n",
       "      <td>Unchecked</td>\n",
       "      <td>Unchecked</td>\n",
       "      <td>...</td>\n",
       "      <td>Unchecked</td>\n",
       "      <td>Unchecked</td>\n",
       "      <td>Unchecked</td>\n",
       "      <td>NaN</td>\n",
       "      <td>NaN</td>\n",
       "      <td>22</td>\n",
       "      <td>No</td>\n",
       "      <td>Baccalaureate Colleges: Diverse Fields + Special</td>\n",
       "      <td>Bachelors</td>\n",
       "      <td>Bachelors</td>\n",
       "    </tr>\n",
       "    <tr>\n",
       "      <th>1243</th>\n",
       "      <td>677759000</td>\n",
       "      <td>Yes</td>\n",
       "      <td>Unchecked</td>\n",
       "      <td>Unchecked</td>\n",
       "      <td>Unchecked</td>\n",
       "      <td>Unchecked</td>\n",
       "      <td>Checked</td>\n",
       "      <td>NaN</td>\n",
       "      <td>NA1</td>\n",
       "      <td>NA1</td>\n",
       "      <td>...</td>\n",
       "      <td>NA95</td>\n",
       "      <td>NA96</td>\n",
       "      <td>NA97</td>\n",
       "      <td>NaN</td>\n",
       "      <td>NaN</td>\n",
       "      <td>22</td>\n",
       "      <td>No</td>\n",
       "      <td>Baccalaureate Colleges: Diverse Fields + Special</td>\n",
       "      <td>Bachelors</td>\n",
       "      <td>Bachelors</td>\n",
       "    </tr>\n",
       "    <tr>\n",
       "      <th>1244</th>\n",
       "      <td>908371000</td>\n",
       "      <td>Yes</td>\n",
       "      <td>Unchecked</td>\n",
       "      <td>Unchecked</td>\n",
       "      <td>Unchecked</td>\n",
       "      <td>Checked</td>\n",
       "      <td>Unchecked</td>\n",
       "      <td>Class</td>\n",
       "      <td>Checked</td>\n",
       "      <td>Checked</td>\n",
       "      <td>...</td>\n",
       "      <td>NA1</td>\n",
       "      <td>NA0</td>\n",
       "      <td>NA1</td>\n",
       "      <td>NaN</td>\n",
       "      <td>NaN</td>\n",
       "      <td>22</td>\n",
       "      <td>No</td>\n",
       "      <td>Baccalaureate Colleges: Diverse Fields + Special</td>\n",
       "      <td>Bachelors</td>\n",
       "      <td>Bachelors</td>\n",
       "    </tr>\n",
       "    <tr>\n",
       "      <th>1245</th>\n",
       "      <td>978022000</td>\n",
       "      <td>No</td>\n",
       "      <td>Valid Skip</td>\n",
       "      <td>Valid Skip</td>\n",
       "      <td>Valid Skip</td>\n",
       "      <td>Valid Skip</td>\n",
       "      <td>Valid Skip</td>\n",
       "      <td>NaN</td>\n",
       "      <td>Valid Skip</td>\n",
       "      <td>Valid Skip</td>\n",
       "      <td>...</td>\n",
       "      <td>Unchecked</td>\n",
       "      <td>Unchecked</td>\n",
       "      <td>Unchecked</td>\n",
       "      <td>NaN</td>\n",
       "      <td>NaN</td>\n",
       "      <td>22</td>\n",
       "      <td>No</td>\n",
       "      <td>Baccalaureate Colleges: Diverse Fields + Special</td>\n",
       "      <td>Bachelors</td>\n",
       "      <td>Bachelors</td>\n",
       "    </tr>\n",
       "  </tbody>\n",
       "</table>\n",
       "<p>1246 rows × 186 columns</p>\n",
       "</div>"
      ],
      "text/plain": [
       "             id  \\\n",
       "0         10120   \n",
       "1         10200   \n",
       "2         10220   \n",
       "3         10240   \n",
       "4         10270   \n",
       "5         10280   \n",
       "6         10290   \n",
       "7         10310   \n",
       "8         10320   \n",
       "9         10350   \n",
       "10        10390   \n",
       "11        10410   \n",
       "12        10460   \n",
       "13        10470   \n",
       "14        10500   \n",
       "15        10510   \n",
       "16        10520   \n",
       "17        10570   \n",
       "18        10590   \n",
       "19        10630   \n",
       "20        10640   \n",
       "21        10660   \n",
       "22        10700   \n",
       "23        10740   \n",
       "24        10770   \n",
       "25        10820   \n",
       "26        10830   \n",
       "27        10870   \n",
       "28        10890   \n",
       "29        10900   \n",
       "...         ...   \n",
       "1216      49820   \n",
       "1217      49830   \n",
       "1218      49850   \n",
       "1219      49880   \n",
       "1220      49890   \n",
       "1221      49910   \n",
       "1222      49920   \n",
       "1223      49940   \n",
       "1224      49960   \n",
       "1225      49970   \n",
       "1226      49980   \n",
       "1227      50040   \n",
       "1228      50060   \n",
       "1229      50090   \n",
       "1230      50110   \n",
       "1231      50140   \n",
       "1232      50150   \n",
       "1233      50160   \n",
       "1234      50180   \n",
       "1235      50220   \n",
       "1236      50570   \n",
       "1237      60000   \n",
       "1238      60060   \n",
       "1239   19790000   \n",
       "1240  231203000   \n",
       "1241  551954000   \n",
       "1242  406594000   \n",
       "1243  677759000   \n",
       "1244  908371000   \n",
       "1245  978022000   \n",
       "\n",
       "     Given this broad definition of computation, do you have any experience teaching computation to undergraduate physics students?  \\\n",
       "0                                                    No                                                                               \n",
       "1                                                    No                                                                               \n",
       "2                                                    No                                                                               \n",
       "3                                                    No                                                                               \n",
       "4                                                    No                                                                               \n",
       "5                                                   Yes                                                                               \n",
       "6                                                    No                                                                               \n",
       "7                                                    No                                                                               \n",
       "8                                                   Yes                                                                               \n",
       "9                                                    No                                                                               \n",
       "10                                                  Yes                                                                               \n",
       "11                                                  Yes                                                                               \n",
       "12                                                   No                                                                               \n",
       "13                                                  Yes                                                                               \n",
       "14                                                   No                                                                               \n",
       "15                                                  Yes                                                                               \n",
       "16                                                   No                                                                               \n",
       "17                                                  Yes                                                                               \n",
       "18                                                   No                                                                               \n",
       "19                                                   No                                                                               \n",
       "20                                                   No                                                                               \n",
       "21                                                  Yes                                                                               \n",
       "22                                                   No                                                                               \n",
       "23                                                   No                                                                               \n",
       "24                                                   No                                                                               \n",
       "25                                                  Yes                                                                               \n",
       "26                                                  Yes                                                                               \n",
       "27                                                  Yes                                                                               \n",
       "28                                                  Yes                                                                               \n",
       "29                                                  Yes                                                                               \n",
       "...                                                 ...                                                                               \n",
       "1216                                                Yes                                                                               \n",
       "1217                                                Yes                                                                               \n",
       "1218                                                Yes                                                                               \n",
       "1219                                                Yes                                                                               \n",
       "1220                                                 No                                                                               \n",
       "1221                                                Yes                                                                               \n",
       "1222                                                 No                                                                               \n",
       "1223                                                Yes                                                                               \n",
       "1224                                                 No                                                                               \n",
       "1225                                                Yes                                                                               \n",
       "1226                                                Yes                                                                               \n",
       "1227                                                 No                                                                               \n",
       "1228                                                Yes                                                                               \n",
       "1229                                                 No                                                                               \n",
       "1230                                                Yes                                                                               \n",
       "1231                                                Yes                                                                               \n",
       "1232                                                 No                                                                               \n",
       "1233                                                Yes                                                                               \n",
       "1234                                                Yes                                                                               \n",
       "1235                                                Yes                                                                               \n",
       "1236                                                Yes                                                                               \n",
       "1237                                                Yes                                                                               \n",
       "1238                                                Yes                                                                               \n",
       "1239                                                Yes                                                                               \n",
       "1240                                                Yes                                                                               \n",
       "1241                                                 No                                                                               \n",
       "1242                                                Yes                                                                               \n",
       "1243                                                Yes                                                                               \n",
       "1244                                                Yes                                                                               \n",
       "1245                                                 No                                                                               \n",
       "\n",
       "     Which of the following programs in computational physics are offered as part of the undergraduate curriculum? -A BS/BA degree in computational physics  \\\n",
       "0                                            Valid Skip                                                                                                       \n",
       "1                                            Valid Skip                                                                                                       \n",
       "2                                            Valid Skip                                                                                                       \n",
       "3                                            Valid Skip                                                                                                       \n",
       "4                                            Valid Skip                                                                                                       \n",
       "5                                             Unchecked                                                                                                       \n",
       "6                                            Valid Skip                                                                                                       \n",
       "7                                            Valid Skip                                                                                                       \n",
       "8                                             Unchecked                                                                                                       \n",
       "9                                            Valid Skip                                                                                                       \n",
       "10                                            Unchecked                                                                                                       \n",
       "11                                            Unchecked                                                                                                       \n",
       "12                                                NA175                                                                                                       \n",
       "13                                            Unchecked                                                                                                       \n",
       "14                                                NA175                                                                                                       \n",
       "15                                            Unchecked                                                                                                       \n",
       "16                                           Valid Skip                                                                                                       \n",
       "17                                            Unchecked                                                                                                       \n",
       "18                                           Valid Skip                                                                                                       \n",
       "19                                                  NA1                                                                                                       \n",
       "20                                           Valid Skip                                                                                                       \n",
       "21                                            Unchecked                                                                                                       \n",
       "22                                                  NA1                                                                                                       \n",
       "23                                           Valid Skip                                                                                                       \n",
       "24                                           Valid Skip                                                                                                       \n",
       "25                                            Unchecked                                                                                                       \n",
       "26                                            Unchecked                                                                                                       \n",
       "27                                            Unchecked                                                                                                       \n",
       "28                                            Unchecked                                                                                                       \n",
       "29                                            Unchecked                                                                                                       \n",
       "...                                                 ...                                                                                                       \n",
       "1216                                            Checked                                                                                                       \n",
       "1217                                          Unchecked                                                                                                       \n",
       "1218                                          Unchecked                                                                                                       \n",
       "1219                                          Unchecked                                                                                                       \n",
       "1220                                         Valid Skip                                                                                                       \n",
       "1221                                          Unchecked                                                                                                       \n",
       "1222                                         Valid Skip                                                                                                       \n",
       "1223                                          Unchecked                                                                                                       \n",
       "1224                                         Valid Skip                                                                                                       \n",
       "1225                                          Unchecked                                                                                                       \n",
       "1226                                          Unchecked                                                                                                       \n",
       "1227                                         Valid Skip                                                                                                       \n",
       "1228                                          Unchecked                                                                                                       \n",
       "1229                                         Valid Skip                                                                                                       \n",
       "1230                                          Unchecked                                                                                                       \n",
       "1231                                          Unchecked                                                                                                       \n",
       "1232                                         Valid Skip                                                                                                       \n",
       "1233                                          Unchecked                                                                                                       \n",
       "1234                                          Unchecked                                                                                                       \n",
       "1235                                                NA1                                                                                                       \n",
       "1236                                                NA1                                                                                                       \n",
       "1237                                          Unchecked                                                                                                       \n",
       "1238                                          Unchecked                                                                                                       \n",
       "1239                                          Unchecked                                                                                                       \n",
       "1240                                          Unchecked                                                                                                       \n",
       "1241                                         Valid Skip                                                                                                       \n",
       "1242                                          Unchecked                                                                                                       \n",
       "1243                                          Unchecked                                                                                                       \n",
       "1244                                          Unchecked                                                                                                       \n",
       "1245                                         Valid Skip                                                                                                       \n",
       "\n",
       "     Which of the following programs in computational physics are offered as part of the undergraduate curriculum? - A minor in computational physics  \\\n",
       "0                                            Valid Skip                                                                                                 \n",
       "1                                            Valid Skip                                                                                                 \n",
       "2                                            Valid Skip                                                                                                 \n",
       "3                                            Valid Skip                                                                                                 \n",
       "4                                            Valid Skip                                                                                                 \n",
       "5                                             Unchecked                                                                                                 \n",
       "6                                            Valid Skip                                                                                                 \n",
       "7                                            Valid Skip                                                                                                 \n",
       "8                                             Unchecked                                                                                                 \n",
       "9                                            Valid Skip                                                                                                 \n",
       "10                                            Unchecked                                                                                                 \n",
       "11                                            Unchecked                                                                                                 \n",
       "12                                                NA174                                                                                                 \n",
       "13                                            Unchecked                                                                                                 \n",
       "14                                                NA174                                                                                                 \n",
       "15                                            Unchecked                                                                                                 \n",
       "16                                           Valid Skip                                                                                                 \n",
       "17                                            Unchecked                                                                                                 \n",
       "18                                           Valid Skip                                                                                                 \n",
       "19                                                  NA2                                                                                                 \n",
       "20                                           Valid Skip                                                                                                 \n",
       "21                                            Unchecked                                                                                                 \n",
       "22                                                  NA2                                                                                                 \n",
       "23                                           Valid Skip                                                                                                 \n",
       "24                                           Valid Skip                                                                                                 \n",
       "25                                            Unchecked                                                                                                 \n",
       "26                                            Unchecked                                                                                                 \n",
       "27                                            Unchecked                                                                                                 \n",
       "28                                            Unchecked                                                                                                 \n",
       "29                                            Unchecked                                                                                                 \n",
       "...                                                 ...                                                                                                 \n",
       "1216                                          Unchecked                                                                                                 \n",
       "1217                                          Unchecked                                                                                                 \n",
       "1218                                          Unchecked                                                                                                 \n",
       "1219                                          Unchecked                                                                                                 \n",
       "1220                                         Valid Skip                                                                                                 \n",
       "1221                                          Unchecked                                                                                                 \n",
       "1222                                         Valid Skip                                                                                                 \n",
       "1223                                          Unchecked                                                                                                 \n",
       "1224                                         Valid Skip                                                                                                 \n",
       "1225                                          Unchecked                                                                                                 \n",
       "1226                                          Unchecked                                                                                                 \n",
       "1227                                         Valid Skip                                                                                                 \n",
       "1228                                          Unchecked                                                                                                 \n",
       "1229                                         Valid Skip                                                                                                 \n",
       "1230                                          Unchecked                                                                                                 \n",
       "1231                                          Unchecked                                                                                                 \n",
       "1232                                         Valid Skip                                                                                                 \n",
       "1233                                          Unchecked                                                                                                 \n",
       "1234                                          Unchecked                                                                                                 \n",
       "1235                                                NA2                                                                                                 \n",
       "1236                                                NA2                                                                                                 \n",
       "1237                                          Unchecked                                                                                                 \n",
       "1238                                          Unchecked                                                                                                 \n",
       "1239                                          Unchecked                                                                                                 \n",
       "1240                                          Unchecked                                                                                                 \n",
       "1241                                         Valid Skip                                                                                                 \n",
       "1242                                          Unchecked                                                                                                 \n",
       "1243                                          Unchecked                                                                                                 \n",
       "1244                                          Unchecked                                                                                                 \n",
       "1245                                         Valid Skip                                                                                                 \n",
       "\n",
       "     Which of the following programs in computational physics are offered as part of the undergraduate curriculum? - A certificate in computational physics  \\\n",
       "0                                            Valid Skip                                                                                                       \n",
       "1                                            Valid Skip                                                                                                       \n",
       "2                                            Valid Skip                                                                                                       \n",
       "3                                            Valid Skip                                                                                                       \n",
       "4                                            Valid Skip                                                                                                       \n",
       "5                                             Unchecked                                                                                                       \n",
       "6                                            Valid Skip                                                                                                       \n",
       "7                                            Valid Skip                                                                                                       \n",
       "8                                             Unchecked                                                                                                       \n",
       "9                                            Valid Skip                                                                                                       \n",
       "10                                            Unchecked                                                                                                       \n",
       "11                                            Unchecked                                                                                                       \n",
       "12                                                NA173                                                                                                       \n",
       "13                                            Unchecked                                                                                                       \n",
       "14                                                NA173                                                                                                       \n",
       "15                                            Unchecked                                                                                                       \n",
       "16                                           Valid Skip                                                                                                       \n",
       "17                                            Unchecked                                                                                                       \n",
       "18                                           Valid Skip                                                                                                       \n",
       "19                                                  NA3                                                                                                       \n",
       "20                                           Valid Skip                                                                                                       \n",
       "21                                            Unchecked                                                                                                       \n",
       "22                                                  NA3                                                                                                       \n",
       "23                                           Valid Skip                                                                                                       \n",
       "24                                           Valid Skip                                                                                                       \n",
       "25                                            Unchecked                                                                                                       \n",
       "26                                            Unchecked                                                                                                       \n",
       "27                                            Unchecked                                                                                                       \n",
       "28                                            Unchecked                                                                                                       \n",
       "29                                            Unchecked                                                                                                       \n",
       "...                                                 ...                                                                                                       \n",
       "1216                                          Unchecked                                                                                                       \n",
       "1217                                          Unchecked                                                                                                       \n",
       "1218                                          Unchecked                                                                                                       \n",
       "1219                                          Unchecked                                                                                                       \n",
       "1220                                         Valid Skip                                                                                                       \n",
       "1221                                          Unchecked                                                                                                       \n",
       "1222                                         Valid Skip                                                                                                       \n",
       "1223                                          Unchecked                                                                                                       \n",
       "1224                                         Valid Skip                                                                                                       \n",
       "1225                                          Unchecked                                                                                                       \n",
       "1226                                          Unchecked                                                                                                       \n",
       "1227                                         Valid Skip                                                                                                       \n",
       "1228                                          Unchecked                                                                                                       \n",
       "1229                                         Valid Skip                                                                                                       \n",
       "1230                                          Unchecked                                                                                                       \n",
       "1231                                          Unchecked                                                                                                       \n",
       "1232                                         Valid Skip                                                                                                       \n",
       "1233                                          Unchecked                                                                                                       \n",
       "1234                                          Unchecked                                                                                                       \n",
       "1235                                                NA3                                                                                                       \n",
       "1236                                                NA3                                                                                                       \n",
       "1237                                          Unchecked                                                                                                       \n",
       "1238                                          Unchecked                                                                                                       \n",
       "1239                                          Unchecked                                                                                                       \n",
       "1240                                          Unchecked                                                                                                       \n",
       "1241                                         Valid Skip                                                                                                       \n",
       "1242                                          Unchecked                                                                                                       \n",
       "1243                                          Unchecked                                                                                                       \n",
       "1244                                          Unchecked                                                                                                       \n",
       "1245                                         Valid Skip                                                                                                       \n",
       "\n",
       "     Which of the following programs in computational physics are offered as part of the undergraduate curriculum? - Other - please specify:  \\\n",
       "0                                            Valid Skip                                                                                        \n",
       "1                                            Valid Skip                                                                                        \n",
       "2                                            Valid Skip                                                                                        \n",
       "3                                            Valid Skip                                                                                        \n",
       "4                                            Valid Skip                                                                                        \n",
       "5                                               Checked                                                                                        \n",
       "6                                            Valid Skip                                                                                        \n",
       "7                                            Valid Skip                                                                                        \n",
       "8                                             Unchecked                                                                                        \n",
       "9                                            Valid Skip                                                                                        \n",
       "10                                            Unchecked                                                                                        \n",
       "11                                            Unchecked                                                                                        \n",
       "12                                                NA172                                                                                        \n",
       "13                                            Unchecked                                                                                        \n",
       "14                                                NA172                                                                                        \n",
       "15                                            Unchecked                                                                                        \n",
       "16                                           Valid Skip                                                                                        \n",
       "17                                            Unchecked                                                                                        \n",
       "18                                           Valid Skip                                                                                        \n",
       "19                                                  NA4                                                                                        \n",
       "20                                           Valid Skip                                                                                        \n",
       "21                                            Unchecked                                                                                        \n",
       "22                                                  NA4                                                                                        \n",
       "23                                           Valid Skip                                                                                        \n",
       "24                                           Valid Skip                                                                                        \n",
       "25                                            Unchecked                                                                                        \n",
       "26                                            Unchecked                                                                                        \n",
       "27                                            Unchecked                                                                                        \n",
       "28                                            Unchecked                                                                                        \n",
       "29                                            Unchecked                                                                                        \n",
       "...                                                 ...                                                                                        \n",
       "1216                                          Unchecked                                                                                        \n",
       "1217                                          Unchecked                                                                                        \n",
       "1218                                          Unchecked                                                                                        \n",
       "1219                                          Unchecked                                                                                        \n",
       "1220                                         Valid Skip                                                                                        \n",
       "1221                                          Unchecked                                                                                        \n",
       "1222                                         Valid Skip                                                                                        \n",
       "1223                                          Unchecked                                                                                        \n",
       "1224                                         Valid Skip                                                                                        \n",
       "1225                                          Unchecked                                                                                        \n",
       "1226                                          Unchecked                                                                                        \n",
       "1227                                         Valid Skip                                                                                        \n",
       "1228                                          Unchecked                                                                                        \n",
       "1229                                         Valid Skip                                                                                        \n",
       "1230                                          Unchecked                                                                                        \n",
       "1231                                          Unchecked                                                                                        \n",
       "1232                                         Valid Skip                                                                                        \n",
       "1233                                            Checked                                                                                        \n",
       "1234                                          Unchecked                                                                                        \n",
       "1235                                                NA4                                                                                        \n",
       "1236                                                NA4                                                                                        \n",
       "1237                                          Unchecked                                                                                        \n",
       "1238                                          Unchecked                                                                                        \n",
       "1239                                            Checked                                                                                        \n",
       "1240                                          Unchecked                                                                                        \n",
       "1241                                         Valid Skip                                                                                        \n",
       "1242                                          Unchecked                                                                                        \n",
       "1243                                          Unchecked                                                                                        \n",
       "1244                                            Checked                                                                                        \n",
       "1245                                         Valid Skip                                                                                        \n",
       "\n",
       "     Which of the following programs in computational physics are offered as part of the undergraduate curriculum? - None of the above  \\\n",
       "0                                            Valid Skip                                                                                  \n",
       "1                                            Valid Skip                                                                                  \n",
       "2                                            Valid Skip                                                                                  \n",
       "3                                            Valid Skip                                                                                  \n",
       "4                                            Valid Skip                                                                                  \n",
       "5                                             Unchecked                                                                                  \n",
       "6                                            Valid Skip                                                                                  \n",
       "7                                            Valid Skip                                                                                  \n",
       "8                                               Checked                                                                                  \n",
       "9                                            Valid Skip                                                                                  \n",
       "10                                              Checked                                                                                  \n",
       "11                                              Checked                                                                                  \n",
       "12                                                NA171                                                                                  \n",
       "13                                              Checked                                                                                  \n",
       "14                                                NA171                                                                                  \n",
       "15                                              Checked                                                                                  \n",
       "16                                           Valid Skip                                                                                  \n",
       "17                                              Checked                                                                                  \n",
       "18                                           Valid Skip                                                                                  \n",
       "19                                                  NA5                                                                                  \n",
       "20                                           Valid Skip                                                                                  \n",
       "21                                              Checked                                                                                  \n",
       "22                                                  NA5                                                                                  \n",
       "23                                           Valid Skip                                                                                  \n",
       "24                                           Valid Skip                                                                                  \n",
       "25                                              Checked                                                                                  \n",
       "26                                              Checked                                                                                  \n",
       "27                                              Checked                                                                                  \n",
       "28                                              Checked                                                                                  \n",
       "29                                              Checked                                                                                  \n",
       "...                                                 ...                                                                                  \n",
       "1216                                          Unchecked                                                                                  \n",
       "1217                                            Checked                                                                                  \n",
       "1218                                            Checked                                                                                  \n",
       "1219                                            Checked                                                                                  \n",
       "1220                                         Valid Skip                                                                                  \n",
       "1221                                            Checked                                                                                  \n",
       "1222                                         Valid Skip                                                                                  \n",
       "1223                                            Checked                                                                                  \n",
       "1224                                         Valid Skip                                                                                  \n",
       "1225                                            Checked                                                                                  \n",
       "1226                                            Checked                                                                                  \n",
       "1227                                         Valid Skip                                                                                  \n",
       "1228                                            Checked                                                                                  \n",
       "1229                                         Valid Skip                                                                                  \n",
       "1230                                            Checked                                                                                  \n",
       "1231                                            Checked                                                                                  \n",
       "1232                                         Valid Skip                                                                                  \n",
       "1233                                          Unchecked                                                                                  \n",
       "1234                                            Checked                                                                                  \n",
       "1235                                                NA5                                                                                  \n",
       "1236                                                NA5                                                                                  \n",
       "1237                                            Checked                                                                                  \n",
       "1238                                            Checked                                                                                  \n",
       "1239                                          Unchecked                                                                                  \n",
       "1240                                            Checked                                                                                  \n",
       "1241                                         Valid Skip                                                                                  \n",
       "1242                                            Checked                                                                                  \n",
       "1243                                            Checked                                                                                  \n",
       "1244                                          Unchecked                                                                                  \n",
       "1245                                         Valid Skip                                                                                  \n",
       "\n",
       "     Which of the following programs in computational physics are offered as part of the undergraduate curriculum? - Other - please specify: (TEXT)  \\\n",
       "0                                                   NaN                                                                                               \n",
       "1                                                   NaN                                                                                               \n",
       "2                                                   NaN                                                                                               \n",
       "3                                                   NaN                                                                                               \n",
       "4                                                   NaN                                                                                               \n",
       "5     Training on how to use high power computing to...                                                                                               \n",
       "6                                                   NaN                                                                                               \n",
       "7                                                   NaN                                                                                               \n",
       "8                                                   NaN                                                                                               \n",
       "9                                                   NaN                                                                                               \n",
       "10                                                  NaN                                                                                               \n",
       "11                                                  NaN                                                                                               \n",
       "12                                                  NaN                                                                                               \n",
       "13                                                  NaN                                                                                               \n",
       "14                                                  NaN                                                                                               \n",
       "15                                                  NaN                                                                                               \n",
       "16                                                  NaN                                                                                               \n",
       "17                                                  NaN                                                                                               \n",
       "18                                                  NaN                                                                                               \n",
       "19                                                  NaN                                                                                               \n",
       "20                                                  NaN                                                                                               \n",
       "21                                                  NaN                                                                                               \n",
       "22                                                  NaN                                                                                               \n",
       "23                                                  NaN                                                                                               \n",
       "24                                                  NaN                                                                                               \n",
       "25                                                  NaN                                                                                               \n",
       "26                                                  NaN                                                                                               \n",
       "27                                                  NaN                                                                                               \n",
       "28                                                  NaN                                                                                               \n",
       "29                                                  NaN                                                                                               \n",
       "...                                                 ...                                                                                               \n",
       "1216                     BS with computational emphasis                                                                                               \n",
       "1217                                                NaN                                                                                               \n",
       "1218                                                NaN                                                                                               \n",
       "1219                                                NaN                                                                                               \n",
       "1220                                                NaN                                                                                               \n",
       "1221                                                NaN                                                                                               \n",
       "1222                                                NaN                                                                                               \n",
       "1223                                                NaN                                                                                               \n",
       "1224                                                NaN                                                                                               \n",
       "1225                                                NaN                                                                                               \n",
       "1226                                                NaN                                                                                               \n",
       "1227                                                NaN                                                                                               \n",
       "1228                                                NaN                                                                                               \n",
       "1229                                                NaN                                                                                               \n",
       "1230                                                NaN                                                                                               \n",
       "1231                                                NaN                                                                                               \n",
       "1232                                                NaN                                                                                               \n",
       "1233                   courses in computational physics                                                                                               \n",
       "1234                                                NaN                                                                                               \n",
       "1235                                                NaN                                                                                               \n",
       "1236                                                NaN                                                                                               \n",
       "1237                                                NaN                                                                                               \n",
       "1238                                                NaN                                                                                               \n",
       "1239                                         one course                                                                                               \n",
       "1240                                                NaN                                                                                               \n",
       "1241                                                NaN                                                                                               \n",
       "1242                                                NaN                                                                                               \n",
       "1243                                                NaN                                                                                               \n",
       "1244                                              Class                                                                                               \n",
       "1245                                                NaN                                                                                               \n",
       "\n",
       "     How is computation taught to your undergraduate physics majors? - Introductory undergraduate physics courses that use computation  \\\n",
       "0                                            Valid Skip                                                                                  \n",
       "1                                            Valid Skip                                                                                  \n",
       "2                                            Valid Skip                                                                                  \n",
       "3                                            Valid Skip                                                                                  \n",
       "4                                            Valid Skip                                                                                  \n",
       "5                                             Unchecked                                                                                  \n",
       "6                                            Valid Skip                                                                                  \n",
       "7                                            Valid Skip                                                                                  \n",
       "8                                             Unchecked                                                                                  \n",
       "9                                            Valid Skip                                                                                  \n",
       "10                                            Unchecked                                                                                  \n",
       "11                                            Unchecked                                                                                  \n",
       "12                                                NA169                                                                                  \n",
       "13                                            Unchecked                                                                                  \n",
       "14                                                NA169                                                                                  \n",
       "15                                              Checked                                                                                  \n",
       "16                                           Valid Skip                                                                                  \n",
       "17                                              Checked                                                                                  \n",
       "18                                           Valid Skip                                                                                  \n",
       "19                                                  NA1                                                                                  \n",
       "20                                           Valid Skip                                                                                  \n",
       "21                                            Unchecked                                                                                  \n",
       "22                                                  NA9                                                                                  \n",
       "23                                           Valid Skip                                                                                  \n",
       "24                                           Valid Skip                                                                                  \n",
       "25                                            Unchecked                                                                                  \n",
       "26                                            Unchecked                                                                                  \n",
       "27                                            Unchecked                                                                                  \n",
       "28                                              Checked                                                                                  \n",
       "29                                              Checked                                                                                  \n",
       "...                                                 ...                                                                                  \n",
       "1216                                            Checked                                                                                  \n",
       "1217                                            Checked                                                                                  \n",
       "1218                                            Checked                                                                                  \n",
       "1219                                            Checked                                                                                  \n",
       "1220                                         Valid Skip                                                                                  \n",
       "1221                                            Checked                                                                                  \n",
       "1222                                         Valid Skip                                                                                  \n",
       "1223                                            Checked                                                                                  \n",
       "1224                                         Valid Skip                                                                                  \n",
       "1225                                          Unchecked                                                                                  \n",
       "1226                                            Checked                                                                                  \n",
       "1227                                         Valid Skip                                                                                  \n",
       "1228                                            Checked                                                                                  \n",
       "1229                                         Valid Skip                                                                                  \n",
       "1230                                            Checked                                                                                  \n",
       "1231                                            Checked                                                                                  \n",
       "1232                                         Valid Skip                                                                                  \n",
       "1233                                          Unchecked                                                                                  \n",
       "1234                                            Checked                                                                                  \n",
       "1235                                                NA7                                                                                  \n",
       "1236                                            Checked                                                                                  \n",
       "1237                                            Checked                                                                                  \n",
       "1238                                            Checked                                                                                  \n",
       "1239                                          Unchecked                                                                                  \n",
       "1240                                          Unchecked                                                                                  \n",
       "1241                                         Valid Skip                                                                                  \n",
       "1242                                          Unchecked                                                                                  \n",
       "1243                                                NA1                                                                                  \n",
       "1244                                            Checked                                                                                  \n",
       "1245                                         Valid Skip                                                                                  \n",
       "\n",
       "     How is computation taught to your undergraduate physics majors? - Introductory undergraduate physics courses that use computation (REQUIRED)  \\\n",
       "0                                            Valid Skip                                                                                             \n",
       "1                                            Valid Skip                                                                                             \n",
       "2                                            Valid Skip                                                                                             \n",
       "3                                            Valid Skip                                                                                             \n",
       "4                                            Valid Skip                                                                                             \n",
       "5                                             Unchecked                                                                                             \n",
       "6                                            Valid Skip                                                                                             \n",
       "7                                            Valid Skip                                                                                             \n",
       "8                                             Unchecked                                                                                             \n",
       "9                                            Valid Skip                                                                                             \n",
       "10                                            Unchecked                                                                                             \n",
       "11                                            Unchecked                                                                                             \n",
       "12                                                NA168                                                                                             \n",
       "13                                            Unchecked                                                                                             \n",
       "14                                                NA168                                                                                             \n",
       "15                                              Checked                                                                                             \n",
       "16                                           Valid Skip                                                                                             \n",
       "17                                              Checked                                                                                             \n",
       "18                                           Valid Skip                                                                                             \n",
       "19                                                  NA2                                                                                             \n",
       "20                                           Valid Skip                                                                                             \n",
       "21                                            Unchecked                                                                                             \n",
       "22                                                  NA8                                                                                             \n",
       "23                                           Valid Skip                                                                                             \n",
       "24                                           Valid Skip                                                                                             \n",
       "25                                            Unchecked                                                                                             \n",
       "26                                            Unchecked                                                                                             \n",
       "27                                            Unchecked                                                                                             \n",
       "28                                              Checked                                                                                             \n",
       "29                                              Checked                                                                                             \n",
       "...                                                 ...                                                                                             \n",
       "1216                                            Checked                                                                                             \n",
       "1217                                            Checked                                                                                             \n",
       "1218                                            Checked                                                                                             \n",
       "1219                                            Checked                                                                                             \n",
       "1220                                         Valid Skip                                                                                             \n",
       "1221                                          Unchecked                                                                                             \n",
       "1222                                         Valid Skip                                                                                             \n",
       "1223                                          Unchecked                                                                                             \n",
       "1224                                         Valid Skip                                                                                             \n",
       "1225                                          Unchecked                                                                                             \n",
       "1226                                            Checked                                                                                             \n",
       "1227                                         Valid Skip                                                                                             \n",
       "1228                                            Checked                                                                                             \n",
       "1229                                         Valid Skip                                                                                             \n",
       "1230                                            Checked                                                                                             \n",
       "1231                                          Unchecked                                                                                             \n",
       "1232                                         Valid Skip                                                                                             \n",
       "1233                                          Unchecked                                                                                             \n",
       "1234                                            Checked                                                                                             \n",
       "1235                                                NA8                                                                                             \n",
       "1236                                          Unchecked                                                                                             \n",
       "1237                                            Checked                                                                                             \n",
       "1238                                            Checked                                                                                             \n",
       "1239                                          Unchecked                                                                                             \n",
       "1240                                          Unchecked                                                                                             \n",
       "1241                                         Valid Skip                                                                                             \n",
       "1242                                          Unchecked                                                                                             \n",
       "1243                                                NA1                                                                                             \n",
       "1244                                            Checked                                                                                             \n",
       "1245                                         Valid Skip                                                                                             \n",
       "\n",
       "          ...       \\\n",
       "0         ...        \n",
       "1         ...        \n",
       "2         ...        \n",
       "3         ...        \n",
       "4         ...        \n",
       "5         ...        \n",
       "6         ...        \n",
       "7         ...        \n",
       "8         ...        \n",
       "9         ...        \n",
       "10        ...        \n",
       "11        ...        \n",
       "12        ...        \n",
       "13        ...        \n",
       "14        ...        \n",
       "15        ...        \n",
       "16        ...        \n",
       "17        ...        \n",
       "18        ...        \n",
       "19        ...        \n",
       "20        ...        \n",
       "21        ...        \n",
       "22        ...        \n",
       "23        ...        \n",
       "24        ...        \n",
       "25        ...        \n",
       "26        ...        \n",
       "27        ...        \n",
       "28        ...        \n",
       "29        ...        \n",
       "...       ...        \n",
       "1216      ...        \n",
       "1217      ...        \n",
       "1218      ...        \n",
       "1219      ...        \n",
       "1220      ...        \n",
       "1221      ...        \n",
       "1222      ...        \n",
       "1223      ...        \n",
       "1224      ...        \n",
       "1225      ...        \n",
       "1226      ...        \n",
       "1227      ...        \n",
       "1228      ...        \n",
       "1229      ...        \n",
       "1230      ...        \n",
       "1231      ...        \n",
       "1232      ...        \n",
       "1233      ...        \n",
       "1234      ...        \n",
       "1235      ...        \n",
       "1236      ...        \n",
       "1237      ...        \n",
       "1238      ...        \n",
       "1239      ...        \n",
       "1240      ...        \n",
       "1241      ...        \n",
       "1242      ...        \n",
       "1243      ...        \n",
       "1244      ...        \n",
       "1245      ...        \n",
       "\n",
       "     What is your race or ethnicity? - Hispanic or Latino/Latina  \\\n",
       "0                                             Unchecked            \n",
       "1                                               Checked            \n",
       "2                                             Unchecked            \n",
       "3                                             Unchecked            \n",
       "4                                                   NA8            \n",
       "5                                             Unchecked            \n",
       "6                                             Unchecked            \n",
       "7                                             Unchecked            \n",
       "8                                             Unchecked            \n",
       "9                                             Unchecked            \n",
       "10                                                  NA1            \n",
       "11                                            Unchecked            \n",
       "12                                                  NA1            \n",
       "13                                                  NA6            \n",
       "14                                                  NA1            \n",
       "15                                            Unchecked            \n",
       "16                                            Unchecked            \n",
       "17                                            Unchecked            \n",
       "18                                            Unchecked            \n",
       "19                                                  NA1            \n",
       "20                                                  NA0            \n",
       "21                                                  NA1            \n",
       "22                                                  NA2            \n",
       "23                                                  NA3            \n",
       "24                                                  NA4            \n",
       "25                                            Unchecked            \n",
       "26                                            Unchecked            \n",
       "27                                            Unchecked            \n",
       "28                                            Unchecked            \n",
       "29                                            Unchecked            \n",
       "...                                                 ...            \n",
       "1216                                          Unchecked            \n",
       "1217                                          Unchecked            \n",
       "1218                                          Unchecked            \n",
       "1219                                          Unchecked            \n",
       "1220                                          Unchecked            \n",
       "1221                                          Unchecked            \n",
       "1222                                          Unchecked            \n",
       "1223                                          Unchecked            \n",
       "1224                                          Unchecked            \n",
       "1225                                          Unchecked            \n",
       "1226                                          Unchecked            \n",
       "1227                                          Unchecked            \n",
       "1228                                          Unchecked            \n",
       "1229                                          Unchecked            \n",
       "1230                                          Unchecked            \n",
       "1231                                          Unchecked            \n",
       "1232                                          Unchecked            \n",
       "1233                                          Unchecked            \n",
       "1234                                          Unchecked            \n",
       "1235                                              NA175            \n",
       "1236                                          Unchecked            \n",
       "1237                                              NA112            \n",
       "1238                                          Unchecked            \n",
       "1239                                              NA157            \n",
       "1240                                          Unchecked            \n",
       "1241                                          Unchecked            \n",
       "1242                                          Unchecked            \n",
       "1243                                               NA95            \n",
       "1244                                                NA1            \n",
       "1245                                          Unchecked            \n",
       "\n",
       "     What is your race or ethnicity? - Other - please specify:  \\\n",
       "0                                             Unchecked          \n",
       "1                                             Unchecked          \n",
       "2                                             Unchecked          \n",
       "3                                             Unchecked          \n",
       "4                                                   NA9          \n",
       "5                                             Unchecked          \n",
       "6                                               Checked          \n",
       "7                                             Unchecked          \n",
       "8                                             Unchecked          \n",
       "9                                             Unchecked          \n",
       "10                                                  NA0          \n",
       "11                                            Unchecked          \n",
       "12                                                  NA0          \n",
       "13                                                  NA7          \n",
       "14                                                  NA0          \n",
       "15                                            Unchecked          \n",
       "16                                            Unchecked          \n",
       "17                                            Unchecked          \n",
       "18                                            Unchecked          \n",
       "19                                                  NA0          \n",
       "20                                                  NA1          \n",
       "21                                                  NA2          \n",
       "22                                                  NA3          \n",
       "23                                                  NA4          \n",
       "24                                                  NA5          \n",
       "25                                            Unchecked          \n",
       "26                                            Unchecked          \n",
       "27                                            Unchecked          \n",
       "28                                            Unchecked          \n",
       "29                                            Unchecked          \n",
       "...                                                 ...          \n",
       "1216                                          Unchecked          \n",
       "1217                                          Unchecked          \n",
       "1218                                          Unchecked          \n",
       "1219                                          Unchecked          \n",
       "1220                                          Unchecked          \n",
       "1221                                          Unchecked          \n",
       "1222                                          Unchecked          \n",
       "1223                                          Unchecked          \n",
       "1224                                          Unchecked          \n",
       "1225                                          Unchecked          \n",
       "1226                                          Unchecked          \n",
       "1227                                          Unchecked          \n",
       "1228                                          Unchecked          \n",
       "1229                                          Unchecked          \n",
       "1230                                          Unchecked          \n",
       "1231                                          Unchecked          \n",
       "1232                                          Unchecked          \n",
       "1233                                          Unchecked          \n",
       "1234                                          Unchecked          \n",
       "1235                                              NA176          \n",
       "1236                                          Unchecked          \n",
       "1237                                              NA113          \n",
       "1238                                          Unchecked          \n",
       "1239                                              NA158          \n",
       "1240                                          Unchecked          \n",
       "1241                                          Unchecked          \n",
       "1242                                          Unchecked          \n",
       "1243                                               NA96          \n",
       "1244                                                NA0          \n",
       "1245                                          Unchecked          \n",
       "\n",
       "     What is your race or ethnicity? - Prefer not to respond  \\\n",
       "0                                             Unchecked        \n",
       "1                                             Unchecked        \n",
       "2                                             Unchecked        \n",
       "3                                             Unchecked        \n",
       "4                                                   NA1        \n",
       "5                                             Unchecked        \n",
       "6                                             Unchecked        \n",
       "7                                               Checked        \n",
       "8                                             Unchecked        \n",
       "9                                             Unchecked        \n",
       "10                                                  NA1        \n",
       "11                                            Unchecked        \n",
       "12                                                  NA1        \n",
       "13                                                  NA8        \n",
       "14                                                  NA1        \n",
       "15                                            Unchecked        \n",
       "16                                            Unchecked        \n",
       "17                                            Unchecked        \n",
       "18                                            Unchecked        \n",
       "19                                                  NA1        \n",
       "20                                                  NA2        \n",
       "21                                                  NA3        \n",
       "22                                                  NA4        \n",
       "23                                                  NA5        \n",
       "24                                                  NA6        \n",
       "25                                            Unchecked        \n",
       "26                                            Unchecked        \n",
       "27                                            Unchecked        \n",
       "28                                            Unchecked        \n",
       "29                                            Unchecked        \n",
       "...                                                 ...        \n",
       "1216                                          Unchecked        \n",
       "1217                                          Unchecked        \n",
       "1218                                            Checked        \n",
       "1219                                          Unchecked        \n",
       "1220                                          Unchecked        \n",
       "1221                                          Unchecked        \n",
       "1222                                          Unchecked        \n",
       "1223                                          Unchecked        \n",
       "1224                                          Unchecked        \n",
       "1225                                          Unchecked        \n",
       "1226                                          Unchecked        \n",
       "1227                                          Unchecked        \n",
       "1228                                          Unchecked        \n",
       "1229                                          Unchecked        \n",
       "1230                                          Unchecked        \n",
       "1231                                          Unchecked        \n",
       "1232                                          Unchecked        \n",
       "1233                                          Unchecked        \n",
       "1234                                            Checked        \n",
       "1235                                              NA177        \n",
       "1236                                          Unchecked        \n",
       "1237                                              NA114        \n",
       "1238                                          Unchecked        \n",
       "1239                                              NA159        \n",
       "1240                                          Unchecked        \n",
       "1241                                          Unchecked        \n",
       "1242                                          Unchecked        \n",
       "1243                                               NA97        \n",
       "1244                                                NA1        \n",
       "1245                                          Unchecked        \n",
       "\n",
       "     What is your race or ethnicity? - Other - please specify: (TEXT)  \\\n",
       "0                                                   NaN                 \n",
       "1                                                   NaN                 \n",
       "2                                                   NaN                 \n",
       "3                                                   NaN                 \n",
       "4                                                   NaN                 \n",
       "5                                                   NaN                 \n",
       "6                                                 Mixed                 \n",
       "7                                                   NaN                 \n",
       "8                                                   NaN                 \n",
       "9                                                   NaN                 \n",
       "10                                                  NaN                 \n",
       "11                                                  NaN                 \n",
       "12                                                  NaN                 \n",
       "13                                                  NaN                 \n",
       "14                                                  NaN                 \n",
       "15                                                  NaN                 \n",
       "16                                                  NaN                 \n",
       "17                                                  NaN                 \n",
       "18                                                  NaN                 \n",
       "19                                                  NaN                 \n",
       "20                                                  NaN                 \n",
       "21                                                  NaN                 \n",
       "22                                                  NaN                 \n",
       "23                                                  NaN                 \n",
       "24                                                  NaN                 \n",
       "25                                                  NaN                 \n",
       "26                                                  NaN                 \n",
       "27                                                  NaN                 \n",
       "28                                                  NaN                 \n",
       "29                                                  NaN                 \n",
       "...                                                 ...                 \n",
       "1216                                                NaN                 \n",
       "1217                                                NaN                 \n",
       "1218                                                NaN                 \n",
       "1219                                                NaN                 \n",
       "1220                                                NaN                 \n",
       "1221                                                NaN                 \n",
       "1222                                                NaN                 \n",
       "1223                                                NaN                 \n",
       "1224                                                NaN                 \n",
       "1225                                                NaN                 \n",
       "1226                                                NaN                 \n",
       "1227                                                NaN                 \n",
       "1228                                                NaN                 \n",
       "1229                                                NaN                 \n",
       "1230                                                NaN                 \n",
       "1231                                                NaN                 \n",
       "1232                                                NaN                 \n",
       "1233                                                NaN                 \n",
       "1234                                                NaN                 \n",
       "1235                                                NaN                 \n",
       "1236                                                NaN                 \n",
       "1237                                                NaN                 \n",
       "1238                                                NaN                 \n",
       "1239                                                NaN                 \n",
       "1240                                                NaN                 \n",
       "1241                                                NaN                 \n",
       "1242                                                NaN                 \n",
       "1243                                                NaN                 \n",
       "1244                                                NaN                 \n",
       "1245                                                NaN                 \n",
       "\n",
       "     Is there anything else you'd like to tell us about your views on computational physics in the undergraduate curriculum?  \\\n",
       "0                                                    No                                                                        \n",
       "1                                                   NaN                                                                        \n",
       "2     I believe computational physics in the undergr...                                                                        \n",
       "3                                                  none                                                                        \n",
       "4                                                   NaN                                                                        \n",
       "5                                                   NaN                                                                        \n",
       "6                                                   NaN                                                                        \n",
       "7                                                   NaN                                                                        \n",
       "8                                                   NaN                                                                        \n",
       "9                                                   NaN                                                                        \n",
       "10                                                  NaN                                                                        \n",
       "11                                                  NaN                                                                        \n",
       "12                                                  NaN                                                                        \n",
       "13                                                  NaN                                                                        \n",
       "14                                                  NaN                                                                        \n",
       "15                                                  NaN                                                                        \n",
       "16                                                  NaN                                                                        \n",
       "17                                                  NaN                                                                        \n",
       "18                                                  NaN                                                                        \n",
       "19                                                  NaN                                                                        \n",
       "20                                                  NaN                                                                        \n",
       "21                                                  NaN                                                                        \n",
       "22                                                  NaN                                                                        \n",
       "23                                                  NaN                                                                        \n",
       "24                                                  NaN                                                                        \n",
       "25                                                  NaN                                                                        \n",
       "26                                                  NaN                                                                        \n",
       "27                                                  NaN                                                                        \n",
       "28                                                  NaN                                                                        \n",
       "29    This survey is too long. I have a desire to he...                                                                        \n",
       "...                                                 ...                                                                        \n",
       "1216                                                NaN                                                                        \n",
       "1217                                                NaN                                                                        \n",
       "1218                                                NaN                                                                        \n",
       "1219                                                NaN                                                                        \n",
       "1220                                                NaN                                                                        \n",
       "1221                                                NaN                                                                        \n",
       "1222                                                NaN                                                                        \n",
       "1223  I wish that AIP/APS/AAPT proposed suggestions ...                                                                        \n",
       "1224                                                NaN                                                                        \n",
       "1225  When push comes to shove at small universities...                                                                        \n",
       "1226                                                NaN                                                                        \n",
       "1227                                                NaN                                                                        \n",
       "1228                                                NaN                                                                        \n",
       "1229                                                NaN                                                                        \n",
       "1230                                                NaN                                                                        \n",
       "1231  In questions regarding race or gender I answer...                                                                        \n",
       "1232                                                NaN                                                                        \n",
       "1233  I have observed that in computational physics ...                                                                        \n",
       "1234                                                NaN                                                                        \n",
       "1235                                                NaN                                                                        \n",
       "1236                                                NaN                                                                        \n",
       "1237                                                NaN                                                                        \n",
       "1238                                                NaN                                                                        \n",
       "1239                                                NaN                                                                        \n",
       "1240                                                NaN                                                                        \n",
       "1241                                                NaN                                                                        \n",
       "1242                                                NaN                                                                        \n",
       "1243                                                NaN                                                                        \n",
       "1244                                                NaN                                                                        \n",
       "1245                                                NaN                                                                        \n",
       "\n",
       "     BASIC2015 HBCUfact                                      ModClassfact  \\\n",
       "0           18      Yes                 Masters Colleges- Larger Programs   \n",
       "1            1       No                                  Associates - All   \n",
       "2            1       No                                  Associates - All   \n",
       "3           20      Yes         Masters Colleges- Medium & Small Programs   \n",
       "4           20      Yes         Masters Colleges- Medium & Small Programs   \n",
       "5           20      Yes         Masters Colleges- Medium & Small Programs   \n",
       "6           20      Yes         Masters Colleges- Medium & Small Programs   \n",
       "7           16       No                    Doctoral Univ. Higher Reserach   \n",
       "8           16       No                    Doctoral Univ. Higher Reserach   \n",
       "9           16       No                    Doctoral Univ. Higher Reserach   \n",
       "10          16       No                    Doctoral Univ. Higher Reserach   \n",
       "11          16       No                    Doctoral Univ. Higher Reserach   \n",
       "12          16       No                    Doctoral Univ. Higher Reserach   \n",
       "13          16       No                    Doctoral Univ. Higher Reserach   \n",
       "14          16       No                    Doctoral Univ. Higher Reserach   \n",
       "15          16       No                    Doctoral Univ. Higher Reserach   \n",
       "16          16       No                    Doctoral Univ. Higher Reserach   \n",
       "17          16       No                    Doctoral Univ. Higher Reserach   \n",
       "18          18       No                 Masters Colleges- Larger Programs   \n",
       "19          16       No                    Doctoral Univ. Higher Reserach   \n",
       "20          16       No                    Doctoral Univ. Higher Reserach   \n",
       "21          16       No                    Doctoral Univ. Higher Reserach   \n",
       "22          16       No                    Doctoral Univ. Higher Reserach   \n",
       "23          16       No                    Doctoral Univ. Higher Reserach   \n",
       "24           6       No                                  Associates - All   \n",
       "25          18       No                 Masters Colleges- Larger Programs   \n",
       "26          18       No                 Masters Colleges- Larger Programs   \n",
       "27          21       No       Baccalaureate Colleges: Art & Science Focus   \n",
       "28          21       No       Baccalaureate Colleges: Art & Science Focus   \n",
       "29          21       No       Baccalaureate Colleges: Art & Science Focus   \n",
       "...        ...      ...                                               ...   \n",
       "1216        18       No                 Masters Colleges- Larger Programs   \n",
       "1217        18       No                 Masters Colleges- Larger Programs   \n",
       "1218        18       No                 Masters Colleges- Larger Programs   \n",
       "1219        18       No                 Masters Colleges- Larger Programs   \n",
       "1220        18       No                 Masters Colleges- Larger Programs   \n",
       "1221        18       No                 Masters Colleges- Larger Programs   \n",
       "1222        18       No                 Masters Colleges- Larger Programs   \n",
       "1223        18       No                 Masters Colleges- Larger Programs   \n",
       "1224        18       No                 Masters Colleges- Larger Programs   \n",
       "1225        18       No                 Masters Colleges- Larger Programs   \n",
       "1226        18       No                 Masters Colleges- Larger Programs   \n",
       "1227        19       No         Masters Colleges- Medium & Small Programs   \n",
       "1228         3       No                                  Associates - All   \n",
       "1229        16       No                    Doctoral Univ. Higher Reserach   \n",
       "1230        16       No                    Doctoral Univ. Higher Reserach   \n",
       "1231        16       No                    Doctoral Univ. Higher Reserach   \n",
       "1232        16       No                    Doctoral Univ. Higher Reserach   \n",
       "1233        16       No                    Doctoral Univ. Higher Reserach   \n",
       "1234        16       No                    Doctoral Univ. Higher Reserach   \n",
       "1235        16       No                    Doctoral Univ. Higher Reserach   \n",
       "1236        16       No                    Doctoral Univ. Higher Reserach   \n",
       "1237         2       No                                  Associates - All   \n",
       "1238         1       No                                  Associates - All   \n",
       "1239        22       No  Baccalaureate Colleges: Diverse Fields + Special   \n",
       "1240        22       No  Baccalaureate Colleges: Diverse Fields + Special   \n",
       "1241        22       No  Baccalaureate Colleges: Diverse Fields + Special   \n",
       "1242        22       No  Baccalaureate Colleges: Diverse Fields + Special   \n",
       "1243        22       No  Baccalaureate Colleges: Diverse Fields + Special   \n",
       "1244        22       No  Baccalaureate Colleges: Diverse Fields + Special   \n",
       "1245        22       No  Baccalaureate Colleges: Diverse Fields + Special   \n",
       "\n",
       "     Phy.Degfact ModClass2fact  \n",
       "0            Phd       Masters  \n",
       "1     Associates    Associates  \n",
       "2     Associates    Associates  \n",
       "3      Bachelors       Masters  \n",
       "4      Bachelors       Masters  \n",
       "5      Bachelors       Masters  \n",
       "6      Bachelors       Masters  \n",
       "7            Phd      Doctoral  \n",
       "8            Phd      Doctoral  \n",
       "9            Phd      Doctoral  \n",
       "10           Phd      Doctoral  \n",
       "11           Phd      Doctoral  \n",
       "12           Phd      Doctoral  \n",
       "13           Phd      Doctoral  \n",
       "14           Phd      Doctoral  \n",
       "15           Phd      Doctoral  \n",
       "16           Phd      Doctoral  \n",
       "17           Phd      Doctoral  \n",
       "18     Bachelors       Masters  \n",
       "19     Bachelors      Doctoral  \n",
       "20     Bachelors      Doctoral  \n",
       "21     Bachelors      Doctoral  \n",
       "22     Bachelors      Doctoral  \n",
       "23     Bachelors      Doctoral  \n",
       "24    Associates    Associates  \n",
       "25     Bachelors       Masters  \n",
       "26     Bachelors       Masters  \n",
       "27     Bachelors     Bachelors  \n",
       "28     Bachelors     Bachelors  \n",
       "29     Bachelors     Bachelors  \n",
       "...          ...           ...  \n",
       "1216   Bachelors       Masters  \n",
       "1217   Bachelors       Masters  \n",
       "1218   Bachelors       Masters  \n",
       "1219   Bachelors       Masters  \n",
       "1220   Bachelors       Masters  \n",
       "1221   Bachelors       Masters  \n",
       "1222   Bachelors       Masters  \n",
       "1223   Bachelors       Masters  \n",
       "1224   Bachelors       Masters  \n",
       "1225   Bachelors       Masters  \n",
       "1226   Bachelors       Masters  \n",
       "1227   Bachelors       Masters  \n",
       "1228  Associates    Associates  \n",
       "1229         Phd      Doctoral  \n",
       "1230         Phd      Doctoral  \n",
       "1231         Phd      Doctoral  \n",
       "1232         Phd      Doctoral  \n",
       "1233         Phd      Doctoral  \n",
       "1234         Phd      Doctoral  \n",
       "1235         Phd      Doctoral  \n",
       "1236         Phd      Doctoral  \n",
       "1237  Associates    Associates  \n",
       "1238  Associates    Associates  \n",
       "1239   Bachelors     Bachelors  \n",
       "1240   Bachelors     Bachelors  \n",
       "1241   Bachelors     Bachelors  \n",
       "1242   Bachelors     Bachelors  \n",
       "1243   Bachelors     Bachelors  \n",
       "1244   Bachelors     Bachelors  \n",
       "1245   Bachelors     Bachelors  \n",
       "\n",
       "[1246 rows x 186 columns]"
      ]
     },
     "execution_count": 5,
     "metadata": {},
     "output_type": "execute_result"
    }
   ],
   "source": [
    "data"
   ]
  },
  {
   "cell_type": "code",
   "execution_count": 6,
   "metadata": {
    "collapsed": false
   },
   "outputs": [],
   "source": [
    "Comp_Teaching_Exp_YN = [] #Creates an empty list to be used with the first question \n",
    "for row in data.values[:,1]:\n",
    "    Comp_Teaching_Exp_YN.append(row) #Fills the list"
   ]
  },
  {
   "cell_type": "code",
   "execution_count": 7,
   "metadata": {
    "collapsed": false
   },
   "outputs": [
    {
     "name": "stdout",
     "output_type": "stream",
     "text": [
      "751\n"
     ]
    }
   ],
   "source": [
    "Comp_Teaching_Exp_Y = Comp_Teaching_Exp_YN.count(\"Yes\")\n",
    "print(Comp_Teaching_Exp_Y)"
   ]
  },
  {
   "cell_type": "code",
   "execution_count": 8,
   "metadata": {
    "collapsed": false
   },
   "outputs": [
    {
     "data": {
      "text/plain": [
       "495"
      ]
     },
     "execution_count": 8,
     "metadata": {},
     "output_type": "execute_result"
    }
   ],
   "source": [
    "Comp_Teaching_Exp_N = 1246-Comp_Teaching_Exp_Y\n",
    "Comp_Teaching_Exp_N"
   ]
  },
  {
   "cell_type": "code",
   "execution_count": 9,
   "metadata": {
    "collapsed": false
   },
   "outputs": [],
   "source": [
    "Deg_Comp_Phy_YN = []\n",
    "for row in data.values[:,2]:\n",
    "    Deg_Comp_Phy_YN.append(row)"
   ]
  },
  {
   "cell_type": "code",
   "execution_count": 10,
   "metadata": {
    "collapsed": false
   },
   "outputs": [
    {
     "name": "stdout",
     "output_type": "stream",
     "text": [
      "82\n",
      "0.0722466960352423\n"
     ]
    }
   ],
   "source": [
    "Deg_Comp_Phy_Y = Deg_Comp_Phy_YN.count(\"Checked\") #The number of respondents who said their institution offers a degree in Computiational Physics\n",
    "print(Deg_Comp_Phy_Y)\n",
    "print(Deg_Comp_Phy_Y/(Deg_Comp_Phy_YN.count(\"Unchecked\")+Deg_Comp_Phy_YN.count(\"Valid Skip\")+Deg_Comp_Phy_Y))"
   ]
  },
  {
   "cell_type": "code",
   "execution_count": 11,
   "metadata": {
    "collapsed": false
   },
   "outputs": [],
   "source": [
    "Minor_Comp_Phy_YN = []\n",
    "for row in data.values[:,3]:\n",
    "    Minor_Comp_Phy_YN.append(row)"
   ]
  },
  {
   "cell_type": "code",
   "execution_count": 12,
   "metadata": {
    "collapsed": false
   },
   "outputs": [
    {
     "name": "stdout",
     "output_type": "stream",
     "text": [
      "29\n",
      "0.02555066079295154\n"
     ]
    }
   ],
   "source": [
    "Minor_Comp_Phy_Y = Minor_Comp_Phy_YN.count(\"Checked\") #The Number of Respondents who answered that their institution offers a minor in Computational Physics\n",
    "print(Minor_Comp_Phy_Y)\n",
    "print(Minor_Comp_Phy_Y/(Minor_Comp_Phy_Y+Minor_Comp_Phy_YN.count(\"Unchecked\")+Minor_Comp_Phy_YN.count(\"Valid Skip\")))"
   ]
  },
  {
   "cell_type": "code",
   "execution_count": 13,
   "metadata": {
    "collapsed": false
   },
   "outputs": [
    {
     "name": "stdout",
     "output_type": "stream",
     "text": [
      "15\n",
      "0.013215859030837005\n"
     ]
    }
   ],
   "source": [
    "Cert_Comp_Phy_YN = []\n",
    "for row in data.values[:,4]:\n",
    "    Cert_Comp_Phy_YN.append(row)\n",
    "Cert_Comp_Phy_Y = Cert_Comp_Phy_YN.count(\"Checked\") #Number of respondents who answered that their institution offers a certificate in Computational Physics\n",
    "print(Cert_Comp_Phy_Y)\n",
    "print(Cert_Comp_Phy_Y/(Cert_Comp_Phy_Y+Cert_Comp_Phy_YN.count(\"Unchecked\")+Cert_Comp_Phy_YN.count(\"Valid Skip\")))"
   ]
  },
  {
   "cell_type": "code",
   "execution_count": 14,
   "metadata": {
    "collapsed": false
   },
   "outputs": [
    {
     "name": "stdout",
     "output_type": "stream",
     "text": [
      "82\n",
      "0.0722466960352423\n"
     ]
    }
   ],
   "source": [
    "Other_Comp_Phy_YN = []\n",
    "for row in data.values[:,5]:\n",
    "    Other_Comp_Phy_YN.append(row)\n",
    "Other_Comp_Phy_Y = Other_Comp_Phy_YN.count(\"Checked\") #Number of respondents who answered that their institution offers some other program in Computational Physics\n",
    "print(Other_Comp_Phy_Y)\n",
    "print(Other_Comp_Phy_Y/(Other_Comp_Phy_Y+Other_Comp_Phy_YN.count(\"Unchecked\")+Other_Comp_Phy_YN.count(\"Valid Skip\")))"
   ]
  },
  {
   "cell_type": "code",
   "execution_count": 15,
   "metadata": {
    "collapsed": false
   },
   "outputs": [
    {
     "name": "stdout",
     "output_type": "stream",
     "text": [
      "531\n",
      "0.46784140969162996\n"
     ]
    }
   ],
   "source": [
    "None_Above_Prog = []\n",
    "for row in data.values[:,6]:\n",
    "    None_Above_Prog.append(row)\n",
    "None_Above_Prog_Y = None_Above_Prog.count(\"Checked\") #Number of respondents who answered that their institution offers none of the above programs in Computational Physics\n",
    "print(None_Above_Prog_Y)\n",
    "print(None_Above_Prog_Y/(None_Above_Prog_Y+None_Above_Prog.count(\"Unchecked\")+None_Above_Prog.count(\"Valid Skip\")))"
   ]
  },
  {
   "cell_type": "code",
   "execution_count": 16,
   "metadata": {
    "collapsed": false
   },
   "outputs": [
    {
     "name": "stdout",
     "output_type": "stream",
     "text": [
      "On the first question there were 111 non-responses.\n",
      "The Response Rate was 0.9109149277688604\n"
     ]
    }
   ],
   "source": [
    "Non_Response_Prog = 1246-None_Above_Prog_Y-None_Above_Prog.count(\"Unchecked\")-None_Above_Prog.count(\"Valid Skip\")\n",
    "Response_Rate_Prog = 1-Non_Response_Prog/(Non_Response_Prog+None_Above_Prog_Y+None_Above_Prog.count(\"Unchecked\")+None_Above_Prog.count(\"Valid Skip\"))\n",
    "print('On the first question there were',Non_Response_Prog,'non-responses.')\n",
    "print('The Response Rate was',Response_Rate_Prog)\n",
    "#cell 804"
   ]
  },
  {
   "cell_type": "code",
   "execution_count": 17,
   "metadata": {
    "collapsed": false
   },
   "outputs": [],
   "source": [
    "Prog_Ans = ['Degree', 'Minor', 'Certificate', 'Other', 'None of the Above']\n",
    "test = [1,2,3,4,5]\n",
    "Prog_Ans_Dist = [Deg_Comp_Phy_Y, Minor_Comp_Phy_Y, Cert_Comp_Phy_Y, Other_Comp_Phy_Y, None_Above_Prog]"
   ]
  },
  {
   "cell_type": "markdown",
   "metadata": {},
   "source": [
    "Question 3:\n",
    "\n",
    "How is computation taught to your undergraduate physics majors?"
   ]
  },
  {
   "cell_type": "code",
   "execution_count": 18,
   "metadata": {
    "collapsed": false
   },
   "outputs": [
    {
     "name": "stdout",
     "output_type": "stream",
     "text": [
      "Of the 690 people who answered this question 59.27536231884058 percent said they teach computation using introductory physics courses. That is 409 people.\n"
     ]
    },
    {
     "data": {
      "text/plain": [
       "([<matplotlib.axis.XTick at 0xa7f57b8>, <matplotlib.axis.XTick at 0xa7f5d68>],\n",
       " <a list of 2 Text xticklabel objects>)"
      ]
     },
     "execution_count": 18,
     "metadata": {},
     "output_type": "execute_result"
    },
    {
     "data": {
      "image/png": "[encoded data removed]",
      "text/plain": [
       "<matplotlib.figure.Figure at 0x9971eb8>"
      ]
     },
     "metadata": {},
     "output_type": "display_data"
    }
   ],
   "source": [
    "#This is for column I\n",
    "How_Taught_Intro_Course = []\n",
    "for row in data.values[:,8]:\n",
    "    How_Taught_Intro_Course.append(row)\n",
    "How_Taught_Intro_Course_Y = How_Taught_Intro_Course.count(\"Checked\") #Introductory undergraduate physics courses that use computation\n",
    "Percentage_Yes_Intro=100*How_Taught_Intro_Course_Y/(How_Taught_Intro_Course_Y+How_Taught_Intro_Course.count(\"Unchecked\"))\n",
    "print(\"Of the\",How_Taught_Intro_Course_Y+How_Taught_Intro_Course.count(\"Unchecked\"),\"people who answered this question\",Percentage_Yes_Intro,\"percent said they teach computation using introductory physics courses. That is\",How_Taught_Intro_Course_Y,\"people.\")\n",
    "x=[1,2]\n",
    "y=[How_Taught_Intro_Course_Y,How_Taught_Intro_Course.count(\"Unchecked\")]\n",
    "fig = plt.figure(figsize=(4,6))\n",
    "plt.bar(x,y,width=.25)\n",
    "plt.ylabel('Number of people')\n",
    "plt.title('Teach Using Introductory Physics Course?')\n",
    "labels=['yes','no']\n",
    "plt.xticks(x,labels)\n"
   ]
  },
  {
   "cell_type": "code",
   "execution_count": 19,
   "metadata": {
    "collapsed": false
   },
   "outputs": [
    {
     "name": "stdout",
     "output_type": "stream",
     "text": [
      "There are 328 that teach computation from required introductory physics courses.\n",
      "That is 80.19559902200488 percent of the 409 that that said they teach computation in introductory physics courses\n"
     ]
    }
   ],
   "source": [
    "#This is for column J\n",
    "Intro_Course_Required = []\n",
    "for row in data.values[:,9]:\n",
    "    Intro_Course_Required.append(row)\n",
    "Intro_Course_Required_Y = Intro_Course_Required.count(\"Checked\") #Required introductory undergraduate physics courses that use computation\n",
    "Percentage_Required_Intro=100*Intro_Course_Required_Y/How_Taught_Intro_Course_Y\n",
    "print(\"There are\" ,Intro_Course_Required_Y, \"that teach computation from required introductory physics courses.\")\n",
    "print(\"That is\",Percentage_Required_Intro,\"percent of the 409 that that said they teach computation in introductory physics courses\")"
   ]
  },
  {
   "cell_type": "code",
   "execution_count": 20,
   "metadata": {
    "collapsed": false
   },
   "outputs": [
    {
     "name": "stdout",
     "output_type": "stream",
     "text": [
      "There are 106 that teach computation from elective introductory physics courses.\n",
      "That is 25.91687041564792 percent of the 409 that that said they teach computation in introductory physics courses\n"
     ]
    },
    {
     "data": {
      "text/plain": [
       "<matplotlib.text.Text at 0x6739e48>"
      ]
     },
     "execution_count": 20,
     "metadata": {},
     "output_type": "execute_result"
    },
    {
     "data": {
      "image/png": "[encoded data removed]",
      "text/plain": [
       "<matplotlib.figure.Figure at 0xb9c9a58>"
      ]
     },
     "metadata": {},
     "output_type": "display_data"
    }
   ],
   "source": [
    "#This is for column K\n",
    "Intro_Course_Elective = []\n",
    "for row in data.values[:,10]:\n",
    "    Intro_Course_Elective.append(row)\n",
    "Intro_Course_Elective_Y = Intro_Course_Elective.count(\"Checked\") #Required introductory undergraduate physics courses that use computation\n",
    "Percentage_Elective_Intro=100*Intro_Course_Elective_Y/How_Taught_Intro_Course_Y\n",
    "print(\"There are\" ,Intro_Course_Elective_Y, \"that teach computation from elective introductory physics courses.\")\n",
    "print(\"That is\",Percentage_Elective_Intro,\"percent of the 409 that that said they teach computation in introductory physics courses\")\n",
    "x=[1,2]\n",
    "y=[Percentage_Required_Intro,Percentage_Elective_Intro]\n",
    "plt.bar(x,y,width=.25)\n",
    "labels=['required','elective']\n",
    "plt.xticks(x,labels)\n",
    "plt.ylabel('Percentage')\n",
    "plt.title('Intro courses that use computational modeling')"
   ]
  },
  {
   "cell_type": "markdown",
   "metadata": {},
   "source": [
    "Note that The percentages do not add up to 100 because there are physics departments that have both electives and required courses that use computation."
   ]
  },
  {
   "cell_type": "code",
   "execution_count": 21,
   "metadata": {
    "collapsed": false
   },
   "outputs": [
    {
     "name": "stdout",
     "output_type": "stream",
     "text": [
      "Of the 690 people who answered this question 77.68115942028986 percent said they teach computation using advanced physics courses. That is 536 people.\n"
     ]
    },
    {
     "data": {
      "text/plain": [
       "([<matplotlib.axis.XTick at 0x66b6ef0>, <matplotlib.axis.XTick at 0x66984a8>],\n",
       " <a list of 2 Text xticklabel objects>)"
      ]
     },
     "execution_count": 21,
     "metadata": {},
     "output_type": "execute_result"
    },
    {
     "data": {
      "image/png": "[encoded data removed]",
      "text/plain": [
       "<matplotlib.figure.Figure at 0xa5d0ef0>"
      ]
     },
     "metadata": {},
     "output_type": "display_data"
    }
   ],
   "source": [
    "#This is for column L\n",
    "How_Taught_Advanced_Course = []\n",
    "for row in data.values[:,11]:\n",
    "    How_Taught_Advanced_Course.append(row)\n",
    "How_Taught_Advanced_Course_Y = How_Taught_Advanced_Course.count(\"Checked\") #Advanced undergraduate physics courses that use computation\n",
    "Percentage_Yes_Advanced=100*How_Taught_Advanced_Course_Y/(How_Taught_Advanced_Course_Y+How_Taught_Advanced_Course.count(\"Unchecked\"))\n",
    "print(\"Of the\",How_Taught_Advanced_Course_Y+How_Taught_Advanced_Course.count(\"Unchecked\"),\"people who answered this question\",Percentage_Yes_Advanced,\"percent said they teach computation using advanced physics courses. That is\",How_Taught_Advanced_Course_Y,\"people.\")\n",
    "x=[1,2]\n",
    "y=[How_Taught_Advanced_Course_Y,How_Taught_Advanced_Course.count(\"Unchecked\")]\n",
    "fig = plt.figure(figsize=(4,6))\n",
    "plt.bar(x,y,width=.25)\n",
    "plt.ylabel('Number of people')\n",
    "plt.title('Teach Using Advanced Physics Course?')\n",
    "labels=['yes','no']\n",
    "plt.xticks(x,labels)"
   ]
  },
  {
   "cell_type": "code",
   "execution_count": 22,
   "metadata": {
    "collapsed": false
   },
   "outputs": [
    {
     "name": "stdout",
     "output_type": "stream",
     "text": [
      "There are 353 that teach computation from required advanced physics courses.\n",
      "That is 65.85820895522389 percent of the 536 that that said they teach computation in advanced physics courses\n"
     ]
    }
   ],
   "source": [
    "#This is for column M\n",
    "Advanced_Course_Required = []\n",
    "for row in data.values[:,12]:\n",
    "    Advanced_Course_Required.append(row)\n",
    "Advanced_Course_Required_Y = Advanced_Course_Required.count(\"Checked\") #Required advanced undergraduate physics courses that use computation\n",
    "Percentage_Required_Advanced=100*Advanced_Course_Required_Y/How_Taught_Advanced_Course_Y\n",
    "print(\"There are\" ,Advanced_Course_Required_Y, \"that teach computation from required advanced physics courses.\")\n",
    "print(\"That is\",Percentage_Required_Advanced,\"percent of the 536 that that said they teach computation in advanced physics courses\")"
   ]
  },
  {
   "cell_type": "code",
   "execution_count": 23,
   "metadata": {
    "collapsed": false
   },
   "outputs": [
    {
     "name": "stdout",
     "output_type": "stream",
     "text": [
      "There are 293 that teach computation from required advanced physics courses.\n",
      "That is 54.66417910447761 percent of the 536 that that said they teach computation in advanced physics courses\n"
     ]
    },
    {
     "data": {
      "text/plain": [
       "<matplotlib.text.Text at 0x675a668>"
      ]
     },
     "execution_count": 23,
     "metadata": {},
     "output_type": "execute_result"
    },
    {
     "data": {
      "image/png": "[encoded data removed]",
      "text/plain": [
       "<matplotlib.figure.Figure at 0x6690c88>"
      ]
     },
     "metadata": {},
     "output_type": "display_data"
    }
   ],
   "source": [
    "#This is for column N\n",
    "Advanced_Course_Elective = []\n",
    "for row in data.values[:,13]:\n",
    "    Advanced_Course_Elective.append(row)\n",
    "Advanced_Course_Elective_Y = Advanced_Course_Elective.count(\"Checked\") #elective advanced undergraduate physics courses that use computation\n",
    "Percentage_Elective_Advanced=100*Advanced_Course_Elective_Y/How_Taught_Advanced_Course_Y\n",
    "print(\"There are\" ,Advanced_Course_Elective_Y, \"that teach computation from required advanced physics courses.\")\n",
    "print(\"That is\",Percentage_Elective_Advanced,\"percent of the 536 that that said they teach computation in advanced physics courses\")\n",
    "x=[1,2]\n",
    "y=[Percentage_Required_Advanced,Percentage_Elective_Advanced]\n",
    "plt.bar(x,y,width=.25)\n",
    "labels=['required','elective']\n",
    "plt.xticks(x,labels)\n",
    "plt.ylabel('Percentage')\n",
    "plt.title('Advanced courses that use computational modeling')"
   ]
  },
  {
   "cell_type": "code",
   "execution_count": 24,
   "metadata": {
    "collapsed": false
   },
   "outputs": [
    {
     "name": "stdout",
     "output_type": "stream",
     "text": [
      "Of the 690 people who answered this question 80.72463768115942 percent said they teach computation using research experience. That is 557 people.\n"
     ]
    },
    {
     "data": {
      "text/plain": [
       "([<matplotlib.axis.XTick at 0x67550b8>, <matplotlib.axis.XTick at 0x67114a8>],\n",
       " <a list of 2 Text xticklabel objects>)"
      ]
     },
     "execution_count": 24,
     "metadata": {},
     "output_type": "execute_result"
    },
    {
     "data": {
      "image/png": "[encoded data removed]",
      "text/plain": [
       "<matplotlib.figure.Figure at 0x664a390>"
      ]
     },
     "metadata": {},
     "output_type": "display_data"
    }
   ],
   "source": [
    "#This is for column O\n",
    "How_Taught_Research_Experience = []\n",
    "for row in data.values[:,14]:\n",
    "    How_Taught_Research_Experience.append(row)\n",
    "How_Taught_Research_Experience_Y = How_Taught_Research_Experience.count(\"Checked\") #Undergraduate physics research that use computation\n",
    "Percentage_Yes_Research=100*How_Taught_Research_Experience_Y/(How_Taught_Research_Experience_Y+How_Taught_Research_Experience.count(\"Unchecked\"))\n",
    "print(\"Of the\",How_Taught_Research_Experience_Y+How_Taught_Research_Experience.count(\"Unchecked\"),\"people who answered this question\",Percentage_Yes_Research,\"percent said they teach computation using research experience. That is\",How_Taught_Research_Experience_Y,\"people.\")\n",
    "x=[1,2]\n",
    "y=[How_Taught_Research_Experience_Y,How_Taught_Research_Experience.count(\"Unchecked\")]\n",
    "fig = plt.figure(figsize=(4,6))\n",
    "plt.bar(x,y,width=.25)\n",
    "plt.ylabel('Number of people')\n",
    "plt.title('Teach Using Research experience?')\n",
    "labels=['yes','no']\n",
    "plt.xticks(x,labels)"
   ]
  },
  {
   "cell_type": "code",
   "execution_count": 25,
   "metadata": {
    "collapsed": false
   },
   "outputs": [
    {
     "name": "stdout",
     "output_type": "stream",
     "text": [
      "There are 100 that teach computation from required physics research.\n",
      "That is 17.953321364452425 percent of the 557 that said they teach computation in research\n"
     ]
    }
   ],
   "source": [
    "#This is for column P\n",
    "Research_Required = []\n",
    "for row in data.values[:,15]:\n",
    "    Research_Required.append(row)\n",
    "Research_Required_Y = Research_Required.count(\"Checked\") #Required research that uses computation\n",
    "Percentage_Required_Research=100*Research_Required_Y/How_Taught_Research_Experience_Y\n",
    "print(\"There are\" ,Research_Required_Y, \"that teach computation from required physics research.\")\n",
    "print(\"That is\",Percentage_Required_Research,\"percent of the 557 that said they teach computation in research\")"
   ]
  },
  {
   "cell_type": "code",
   "execution_count": 26,
   "metadata": {
    "collapsed": false
   },
   "outputs": [
    {
     "name": "stdout",
     "output_type": "stream",
     "text": [
      "There are 386 that teach computation from elective physics research.\n",
      "That is 69.29982046678636 percent of the 557 that said they teach computation in research\n"
     ]
    },
    {
     "data": {
      "text/plain": [
       "<matplotlib.text.Text at 0xba02860>"
      ]
     },
     "execution_count": 26,
     "metadata": {},
     "output_type": "execute_result"
    },
    {
     "data": {
      "image/png": "[encoded data removed]",
      "text/plain": [
       "<matplotlib.figure.Figure at 0x66a2f60>"
      ]
     },
     "metadata": {},
     "output_type": "display_data"
    }
   ],
   "source": [
    "#This is for column Q\n",
    "Research_Elective = []\n",
    "for row in data.values[:,16]:\n",
    "    Research_Elective.append(row)\n",
    "Research_Elective_Y = Research_Elective.count(\"Checked\") #elective research that uses computation\n",
    "Percentage_Elective_Research=100*Research_Elective_Y/How_Taught_Research_Experience_Y\n",
    "print(\"There are\" ,Research_Elective_Y, \"that teach computation from elective physics research.\")\n",
    "print(\"That is\",Percentage_Elective_Research,\"percent of the 557 that said they teach computation in research\")\n",
    "x=[1,2]\n",
    "y=[Percentage_Required_Research,Percentage_Elective_Research]\n",
    "plt.bar(x,y,width=.25)\n",
    "labels=['required','elective']\n",
    "plt.xticks(x,labels)\n",
    "plt.ylabel('Percentage')\n",
    "plt.title('Research Experience that use computational modeling')"
   ]
  },
  {
   "cell_type": "code",
   "execution_count": 27,
   "metadata": {
    "collapsed": false
   },
   "outputs": [
    {
     "name": "stdout",
     "output_type": "stream",
     "text": [
      "Of the 690 people who answered this question 1.4492753623188406 percent said they do not teach computation. That is 10 people.\n"
     ]
    },
    {
     "data": {
      "text/plain": [
       "([<matplotlib.axis.XTick at 0x67cf710>, <matplotlib.axis.XTick at 0x67cf828>],\n",
       " <a list of 2 Text xticklabel objects>)"
      ]
     },
     "execution_count": 27,
     "metadata": {},
     "output_type": "execute_result"
    },
    {
     "data": {
      "image/png": "[encoded data removed]",
      "text/plain": [
       "<matplotlib.figure.Figure at 0x6764c50>"
      ]
     },
     "metadata": {},
     "output_type": "display_data"
    }
   ],
   "source": [
    "#This is for column R\n",
    "How_Taught_Not_Taught = []\n",
    "for row in data.values[:,17]:\n",
    "    How_Taught_Not_Taught.append(row)\n",
    "How_Taught_Not_Taught_Y = How_Taught_Not_Taught.count(\"Checked\") #Undergraduate physics research that do not use computation\n",
    "Percentage_Not=100*How_Taught_Not_Taught_Y/(How_Taught_Not_Taught_Y+How_Taught_Not_Taught.count(\"Unchecked\"))\n",
    "print(\"Of the\",How_Taught_Not_Taught_Y+How_Taught_Not_Taught.count(\"Unchecked\"),\"people who answered this question\",Percentage_Not,\"percent said they do not teach computation. That is\",How_Taught_Not_Taught_Y,\"people.\")\n",
    "x=[1,2]\n",
    "y=[How_Taught_Not_Taught_Y,How_Taught_Not_Taught.count(\"Unchecked\")]\n",
    "fig = plt.figure(figsize=(4,6))\n",
    "plt.bar(x,y,width=.25)\n",
    "plt.ylabel('Number of people')\n",
    "plt.title('Teach computation?')\n",
    "labels=['no','yes']\n",
    "plt.xticks(x,labels)"
   ]
  },
  {
   "cell_type": "code",
   "execution_count": 28,
   "metadata": {
    "collapsed": false
   },
   "outputs": [
    {
     "name": "stdout",
     "output_type": "stream",
     "text": [
      "Of the 690 people who answered this question 7.246376811594203 percent said they teach computation some other way. That is 50 people.\n"
     ]
    },
    {
     "data": {
      "text/plain": [
       "([<matplotlib.axis.XTick at 0xb91c940>, <matplotlib.axis.XTick at 0x67f10f0>],\n",
       " <a list of 2 Text xticklabel objects>)"
      ]
     },
     "execution_count": 28,
     "metadata": {},
     "output_type": "execute_result"
    },
    {
     "data": {
      "image/png": "[encoded data removed]",
      "text/plain": [
       "<matplotlib.figure.Figure at 0xb921cc0>"
      ]
     },
     "metadata": {},
     "output_type": "display_data"
    }
   ],
   "source": [
    "#This is for column S\n",
    "How_Taught_Other = []\n",
    "for row in data.values[:,18]:\n",
    "    How_Taught_Other.append(row)\n",
    "How_Taught_Other_Y = How_Taught_Other.count(\"Checked\") #Undergraduate physics research that do computation an other way\n",
    "Percentage_Other=100*How_Taught_Other_Y/(How_Taught_Other_Y+How_Taught_Other.count(\"Unchecked\"))\n",
    "print(\"Of the\",How_Taught_Other_Y+How_Taught_Other.count(\"Unchecked\"),\"people who answered this question\",Percentage_Other,\"percent said they teach computation some other way. That is\",How_Taught_Other_Y,\"people.\")\n",
    "x=[1,2]\n",
    "y=[How_Taught_Other_Y,How_Taught_Other.count(\"Unchecked\")]\n",
    "fig = plt.figure(figsize=(4,6))\n",
    "plt.bar(x,y,width=.25)\n",
    "plt.ylabel('Number of people')\n",
    "plt.title('Teach Some Other Way?')\n",
    "labels=['yes','no']\n",
    "plt.xticks(x,labels)"
   ]
  },
  {
   "cell_type": "code",
   "execution_count": 29,
   "metadata": {
    "collapsed": false
   },
   "outputs": [
    {
     "data": {
      "text/plain": [
       "<matplotlib.text.Text at 0xbe28390>"
      ]
     },
     "execution_count": 29,
     "metadata": {},
     "output_type": "execute_result"
    },
    {
     "data": {
      "image/png": "[encoded data removed]",
      "text/plain": [
       "<matplotlib.figure.Figure at 0xa4a2e10>"
      ]
     },
     "metadata": {},
     "output_type": "display_data"
    }
   ],
   "source": [
    "#yes intro percent\n",
    "Percentage_Yes_Intro\n",
    "#yes advanced percent\n",
    "Percentage_Yes_Advanced\n",
    "#yes research percent\n",
    "Percentage_Yes_Research\n",
    "#none percent\n",
    "Percentage_Not\n",
    "#Other percent\n",
    "Percentage_Other\n",
    "x=[1,2,3,4,5]\n",
    "y=[Percentage_Yes_Intro,Percentage_Yes_Advanced,Percentage_Yes_Research,Percentage_Not,Percentage_Other]\n",
    "fig=plt.figure(figsize=(10,6))\n",
    "plt.bar(x,y)\n",
    "labels=['Intro Course','Advanced Course','Research Experience','None','Other']\n",
    "plt.xticks(x,labels)\n",
    "plt.title('Percentage that use computational modeling')\n",
    "plt.ylabel('Percentage out of 100')\n"
   ]
  },
  {
   "cell_type": "code",
   "execution_count": 48,
   "metadata": {
    "collapsed": false
   },
   "outputs": [
    {
     "data": {
      "text/plain": [
       "<matplotlib.text.Text at 0xe43ce48>"
      ]
     },
     "execution_count": 48,
     "metadata": {},
     "output_type": "execute_result"
    },
    {
     "data": {
      "image/png": "[encoded data removed]",
      "text/plain": [
       "<matplotlib.figure.Figure at 0xe20d390>"
      ]
     },
     "metadata": {},
     "output_type": "display_data"
    }
   ],
   "source": [
    "x=[1,2,3,4,5,6]\n",
    "y=[Percentage_Required_Intro,Percentage_Elective_Intro,Percentage_Required_Advanced,Percentage_Elective_Advanced,Percentage_Required_Research,Percentage_Elective_Research]\n",
    "fig=plt.figure(figsize=(10,5))\n",
    "plt.bar(x,y,width=.45)\n",
    "labels=['required Intro','elective Intro','required Advanced','elective Advanced','required research','elective research']\n",
    "plt.xticks(x,labels,rotation=20)\n",
    "plt.ylabel('Percentage')\n",
    "plt.title('percentage for required and elective')\n"
   ]
  },
  {
   "cell_type": "markdown",
   "metadata": {
    "collapsed": true
   },
   "source": [
    "Question 6: Think about the class you most recently taught that included computation. Did the students use computation to solve physics problems in your undergraduate course?"
   ]
  },
  {
   "cell_type": "code",
   "execution_count": 31,
   "metadata": {
    "collapsed": false
   },
   "outputs": [
    {
     "name": "stdout",
     "output_type": "stream",
     "text": [
      "Of the 621 people who answered this question 57.1658615136876 percent said the undergads solved physics problems in the undergraduate course by answering homework questions about computation. That is 355 people.\n"
     ]
    },
    {
     "data": {
      "text/plain": [
       "([<matplotlib.axis.XTick at 0xbef7320>, <matplotlib.axis.XTick at 0xbe54160>],\n",
       " <a list of 2 Text xticklabel objects>)"
      ]
     },
     "execution_count": 31,
     "metadata": {},
     "output_type": "execute_result"
    },
    {
     "data": {
      "image/png": "[encoded data removed]",
      "text/plain": [
       "<matplotlib.figure.Figure at 0xbe765f8>"
      ]
     },
     "metadata": {},
     "output_type": "display_data"
    }
   ],
   "source": [
    "# Column AG column 32\n",
    "Hw_About_Computation = []\n",
    "for row in data.values[:,32]:\n",
    "    Hw_About_Computation.append(row)\n",
    "Hw_About_Computation_Y = Hw_About_Computation.count(\"Yes\")\n",
    "Percentage_Hw=100*Hw_About_Computation_Y/(Hw_About_Computation_Y+Hw_About_Computation.count(\"No\"))\n",
    "print(\"Of the\",Hw_About_Computation_Y+Hw_About_Computation.count(\"No\"),\"people who answered this question\",Percentage_Hw,\"percent said the undergads solved physics problems in the undergraduate course by answering homework questions about computation. That is\",Hw_About_Computation_Y,\"people.\")\n",
    "x=[1,2]\n",
    "y=[Hw_About_Computation_Y,Hw_About_Computation.count(\"No\")]\n",
    "fig = plt.figure(figsize=(4,6))\n",
    "plt.bar(x,y,width=.25)\n",
    "plt.ylabel('Number of people')\n",
    "plt.title('Courses with homework questions about computation')\n",
    "labels=['yes','no']\n",
    "plt.xticks(x,labels)"
   ]
  },
  {
   "cell_type": "code",
   "execution_count": 32,
   "metadata": {
    "collapsed": false
   },
   "outputs": [
    {
     "name": "stdout",
     "output_type": "stream",
     "text": [
      "Of the 599 people who answered this question 22.203672787979965 percent said the undergads solved physics problems in the undergraduate course by having interactive activities about computation. That is 133 people.\n"
     ]
    },
    {
     "data": {
      "text/plain": [
       "([<matplotlib.axis.XTick at 0xc22f710>, <matplotlib.axis.XTick at 0xbf9a630>],\n",
       " <a list of 2 Text xticklabel objects>)"
      ]
     },
     "execution_count": 32,
     "metadata": {},
     "output_type": "execute_result"
    },
    {
     "data": {
      "image/png": "[encoded data removed]",
      "text/plain": [
       "<matplotlib.figure.Figure at 0xc1b2e48>"
      ]
     },
     "metadata": {},
     "output_type": "display_data"
    }
   ],
   "source": [
    "# Column AH column 33 Through completing interactive activities in class\n",
    "Interactive_Activities = []\n",
    "for row in data.values[:,33]:\n",
    "    Interactive_Activities.append(row)\n",
    "Interactive_Activities_Y = Interactive_Activities.count(\"Yes\")\n",
    "Percentage_Interactive_Activities=100*Interactive_Activities_Y/(Interactive_Activities_Y+Interactive_Activities.count(\"No\"))\n",
    "print(\"Of the\",Interactive_Activities_Y+Interactive_Activities.count(\"No\"),\"people who answered this question\",Percentage_Interactive_Activities,\"percent said the undergads solved physics problems in the undergraduate course by having interactive activities about computation. That is\",Interactive_Activities_Y,\"people.\")\n",
    "x=[1,2]\n",
    "y=[Interactive_Activities_Y,Interactive_Activities.count(\"No\")]\n",
    "fig = plt.figure(figsize=(4,6))\n",
    "plt.bar(x,y,width=.25)\n",
    "plt.ylabel('Number of people')\n",
    "plt.title('Courses with Interactive Activites about computation')\n",
    "labels=['yes','no']\n",
    "plt.xticks(x,labels)"
   ]
  },
  {
   "cell_type": "code",
   "execution_count": 33,
   "metadata": {
    "collapsed": false
   },
   "outputs": [
    {
     "name": "stdout",
     "output_type": "stream",
     "text": [
      "Of the 597 people who answered this question 22.110552763819097 percent said the undergads solved physics problems in the undergraduate course by having Exam questions about computation. That is 132 people.\n"
     ]
    },
    {
     "data": {
      "text/plain": [
       "([<matplotlib.axis.XTick at 0xc29fc18>, <matplotlib.axis.XTick at 0xc2ab470>],\n",
       " <a list of 2 Text xticklabel objects>)"
      ]
     },
     "execution_count": 33,
     "metadata": {},
     "output_type": "execute_result"
    },
    {
     "data": {
      "image/png": "[encoded data removed]",
      "text/plain": [
       "<matplotlib.figure.Figure at 0xc1f21d0>"
      ]
     },
     "metadata": {},
     "output_type": "display_data"
    }
   ],
   "source": [
    "# Column AI column 34 Answering exam questions about computation\n",
    "Exam_Questions = []\n",
    "for row in data.values[:,34]:\n",
    "    Exam_Questions.append(row)\n",
    "Exam_Questions_Y = Exam_Questions.count(\"Yes\")\n",
    "Percentage_Exam_Questions=100*Exam_Questions_Y/(Exam_Questions_Y+Exam_Questions.count(\"No\"))\n",
    "print(\"Of the\",Exam_Questions_Y+Exam_Questions.count(\"No\"),\"people who answered this question\",Percentage_Exam_Questions,\"percent said the undergads solved physics problems in the undergraduate course by having Exam questions about computation. That is\",Exam_Questions_Y,\"people.\")\n",
    "x=[1,2]\n",
    "y=[Exam_Questions_Y,Exam_Questions.count(\"No\")]\n",
    "fig = plt.figure(figsize=(4,6))\n",
    "plt.bar(x,y,width=.25)\n",
    "plt.ylabel('Number of people')\n",
    "plt.title('Courses with Exam Questions about computation')\n",
    "labels=['yes','no']\n",
    "plt.xticks(x,labels)"
   ]
  },
  {
   "cell_type": "code",
   "execution_count": 34,
   "metadata": {
    "collapsed": false
   },
   "outputs": [
    {
     "name": "stdout",
     "output_type": "stream",
     "text": [
      "Of the 606 people who answered this question 52.805280528052805 percent said the undergads solved physics problems in the undergraduate course by having a pre-constructed simulation to solve homework problems about computation. That is 320 people.\n"
     ]
    },
    {
     "data": {
      "text/plain": [
       "([<matplotlib.axis.XTick at 0xc21a4e0>, <matplotlib.axis.XTick at 0xc2abe48>],\n",
       " <a list of 2 Text xticklabel objects>)"
      ]
     },
     "execution_count": 34,
     "metadata": {},
     "output_type": "execute_result"
    },
    {
     "data": {
      "image/png": "[encoded data removed]",
      "text/plain": [
       "<matplotlib.figure.Figure at 0x67e6518>"
      ]
     },
     "metadata": {},
     "output_type": "display_data"
    }
   ],
   "source": [
    "# Column AJ column 35 Using a pre-constructed simulation to solve homework problems\n",
    "Hw_Simulation = []\n",
    "for row in data.values[:,35]:\n",
    "    Hw_Simulation.append(row)\n",
    "Hw_Simulation_Y = Hw_Simulation.count(\"Yes\")\n",
    "Percentage_Hw_Simulation=100*Hw_Simulation_Y/(Hw_Simulation_Y+Hw_Simulation.count(\"No\"))\n",
    "print(\"Of the\",Hw_Simulation_Y+Hw_Simulation.count(\"No\"),\"people who answered this question\",Percentage_Hw_Simulation,\"percent said the undergads solved physics problems in the undergraduate course by having a pre-constructed simulation to solve homework problems about computation. That is\",Hw_Simulation_Y,\"people.\")\n",
    "x=[1,2]\n",
    "y=[Hw_Simulation_Y,Hw_Simulation.count(\"No\")]\n",
    "fig = plt.figure(figsize=(4,6))\n",
    "plt.bar(x,y,width=.25)\n",
    "plt.ylabel('Number of people')\n",
    "plt.title('Courses with pre-constructed simulation')\n",
    "labels=['yes','no']\n",
    "plt.xticks(x,labels)"
   ]
  },
  {
   "cell_type": "code",
   "execution_count": 37,
   "metadata": {
    "collapsed": false
   },
   "outputs": [
    {
     "name": "stdout",
     "output_type": "stream",
     "text": [
      "Of the 604 people who answered this question 46.35761589403973 percent said the undergads solved physics problems in the undergraduate course by having an in class simulation involving computation. That is 280 people.\n"
     ]
    },
    {
     "data": {
      "text/plain": [
       "([<matplotlib.axis.XTick at 0xc835ac8>, <matplotlib.axis.XTick at 0xc854f28>],\n",
       " <a list of 2 Text xticklabel objects>)"
      ]
     },
     "execution_count": 37,
     "metadata": {},
     "output_type": "execute_result"
    },
    {
     "data": {
      "image/png": "[encoded data removed]",
      "text/plain": [
       "<matplotlib.figure.Figure at 0xc821e10>"
      ]
     },
     "metadata": {},
     "output_type": "display_data"
    }
   ],
   "source": [
    "# Column AK column 36 Creating/developing a simulation of some physical phenomenon in class\n",
    "Class_Simulation = []\n",
    "for row in data.values[:,36]:\n",
    "    Class_Simulation.append(row)\n",
    "Class_Simulation_Y = Class_Simulation.count(\"Yes\")\n",
    "Percentage_Class_Simulation=100*Class_Simulation_Y/(Class_Simulation_Y+Class_Simulation.count(\"No\"))\n",
    "print(\"Of the\",Class_Simulation_Y+Class_Simulation.count(\"No\"),\"people who answered this question\",Percentage_Class_Simulation,\"percent said the undergads solved physics problems in the undergraduate course by having an in class simulation involving computation. That is\",Class_Simulation_Y,\"people.\")\n",
    "x=[1,2]\n",
    "y=[Class_Simulation_Y,Class_Simulation.count(\"No\")]\n",
    "fig = plt.figure(figsize=(4,6))\n",
    "plt.bar(x,y,width=.25)\n",
    "plt.ylabel('Number of people')\n",
    "plt.title('Courses with simulation in class')\n",
    "labels=['yes','no']\n",
    "plt.xticks(x,labels)"
   ]
  },
  {
   "cell_type": "code",
   "execution_count": 38,
   "metadata": {
    "collapsed": false
   },
   "outputs": [
    {
     "name": "stdout",
     "output_type": "stream",
     "text": [
      "Of the 603 people who answered this question 58.872305140961856 percent said the undergads solved physics problems in the undergraduate course by having an out of class simulation involving computation. That is 355 people.\n"
     ]
    },
    {
     "data": {
      "text/plain": [
       "([<matplotlib.axis.XTick at 0xc8ac470>, <matplotlib.axis.XTick at 0xc8ace48>],\n",
       " <a list of 2 Text xticklabel objects>)"
      ]
     },
     "execution_count": 38,
     "metadata": {},
     "output_type": "execute_result"
    },
    {
     "data": {
      "image/png": "[encoded data removed]",
      "text/plain": [
       "<matplotlib.figure.Figure at 0xc835518>"
      ]
     },
     "metadata": {},
     "output_type": "display_data"
    }
   ],
   "source": [
    "\n",
    "# Column AL column 37 Creating/developing a simulation of some physical phenomenon outside of class\n",
    "Outside_Class_Simulation = []\n",
    "for row in data.values[:,37]:\n",
    "    Outside_Class_Simulation.append(row)\n",
    "Outside_Class_Simulation_Y = Outside_Class_Simulation.count(\"Yes\")\n",
    "Percentage_Outside_Class_Simulation=100*Outside_Class_Simulation_Y/(Outside_Class_Simulation_Y+Outside_Class_Simulation.count(\"No\"))\n",
    "print(\"Of the\",Outside_Class_Simulation_Y+Outside_Class_Simulation.count(\"No\"),\"people who answered this question\",Percentage_Outside_Class_Simulation,\"percent said the undergads solved physics problems in the undergraduate course by having an out of class simulation involving computation. That is\",Outside_Class_Simulation_Y,\"people.\")\n",
    "x=[1,2]\n",
    "y=[Outside_Class_Simulation_Y,Outside_Class_Simulation.count(\"No\")]\n",
    "fig = plt.figure(figsize=(4,6))\n",
    "plt.bar(x,y,width=.25)\n",
    "plt.ylabel('Number of people')\n",
    "plt.title('Courses with simulation out of class')\n",
    "labels=['yes','no']\n",
    "plt.xticks(x,labels)"
   ]
  },
  {
   "cell_type": "code",
   "execution_count": 39,
   "metadata": {
    "collapsed": false
   },
   "outputs": [
    {
     "name": "stdout",
     "output_type": "stream",
     "text": [
      "Of the 604 people who answered this question 58.27814569536424 percent said the undergads solved physics problems in the undergraduate course by having a course project involving computation. That is 352 people.\n"
     ]
    },
    {
     "data": {
      "text/plain": [
       "([<matplotlib.axis.XTick at 0xc93bf60>, <matplotlib.axis.XTick at 0xc956c50>],\n",
       " <a list of 2 Text xticklabel objects>)"
      ]
     },
     "execution_count": 39,
     "metadata": {},
     "output_type": "execute_result"
    },
    {
     "data": {
      "image/png": "[encoded data removed]",
      "text/plain": [
       "<matplotlib.figure.Figure at 0xc9299b0>"
      ]
     },
     "metadata": {},
     "output_type": "display_data"
    }
   ],
   "source": [
    "\n",
    "# Column AM column 38 Completing a course project where they model some physical phenomenon with computation\n",
    "Course_Project = []\n",
    "for row in data.values[:,38]:\n",
    "    Course_Project.append(row)\n",
    "Course_Project_Y = Course_Project.count(\"Yes\")\n",
    "Percentage_Course_Project=100*Course_Project_Y/(Course_Project_Y+Course_Project.count(\"No\"))\n",
    "print(\"Of the\",Course_Project_Y+Course_Project.count(\"No\"),\"people who answered this question\",Percentage_Course_Project,\"percent said the undergads solved physics problems in the undergraduate course by having a course project involving computation. That is\",Course_Project_Y,\"people.\")\n",
    "x=[1,2]\n",
    "y=[Course_Project_Y,Course_Project.count(\"No\")]\n",
    "fig = plt.figure(figsize=(4,6))\n",
    "plt.bar(x,y,width=.25)\n",
    "plt.ylabel('Number of people')\n",
    "plt.title('Courses with Course Project')\n",
    "labels=['yes','no']\n",
    "plt.xticks(x,labels)"
   ]
  },
  {
   "cell_type": "code",
   "execution_count": 40,
   "metadata": {
    "collapsed": false
   },
   "outputs": [
    {
     "name": "stdout",
     "output_type": "stream",
     "text": [
      "Of the 140 people who answered this question 51.42857142857143 percent said the undergads solved physics problems in the undergraduate course some other way involving computation. That is 72 people.\n"
     ]
    },
    {
     "data": {
      "text/plain": [
       "([<matplotlib.axis.XTick at 0xc641c50>, <matplotlib.axis.XTick at 0xc6412b0>],\n",
       " <a list of 2 Text xticklabel objects>)"
      ]
     },
     "execution_count": 40,
     "metadata": {},
     "output_type": "execute_result"
    },
    {
     "data": {
      "image/png": "[encoded data removed]",
      "text/plain": [
       "<matplotlib.figure.Figure at 0xc8484e0>"
      ]
     },
     "metadata": {},
     "output_type": "display_data"
    }
   ],
   "source": [
    "# Column AN column 39 Other\n",
    "Solve_Computation_Other = []\n",
    "for row in data.values[:,39]:\n",
    "    Solve_Computation_Other.append(row)\n",
    "Solve_Computation_Other_Y = Solve_Computation_Other.count(\"Yes\")\n",
    "Percentage_Solve_Computation_Other=100*Solve_Computation_Other_Y/(Solve_Computation_Other_Y+Solve_Computation_Other.count(\"No\"))\n",
    "print(\"Of the\",Solve_Computation_Other_Y+Solve_Computation_Other.count(\"No\"),\"people who answered this question\",Percentage_Solve_Computation_Other,\"percent said the undergads solved physics problems in the undergraduate course some other way involving computation. That is\",Solve_Computation_Other_Y,\"people.\")\n",
    "x=[1,2]\n",
    "y=[Solve_Computation_Other_Y,Solve_Computation_Other.count(\"No\")]\n",
    "fig = plt.figure(figsize=(4,6))\n",
    "plt.bar(x,y,width=.25)\n",
    "plt.ylabel('Number of people')\n",
    "plt.title('Some other way')\n",
    "labels=['yes','no']\n",
    "plt.xticks(x,labels)"
   ]
  },
  {
   "cell_type": "code",
   "execution_count": 49,
   "metadata": {
    "collapsed": false
   },
   "outputs": [
    {
     "data": {
      "text/plain": [
       "<matplotlib.text.Text at 0xe4c8fd0>"
      ]
     },
     "execution_count": 49,
     "metadata": {},
     "output_type": "execute_result"
    },
    {
     "data": {
      "image/png": "[encoded data removed]",
      "text/plain": [
       "<matplotlib.figure.Figure at 0xe24c860>"
      ]
     },
     "metadata": {},
     "output_type": "display_data"
    }
   ],
   "source": [
    "#hw\n",
    "Percentage_Hw\n",
    "#interactive activites\n",
    "Percentage_Interactive_Activities\n",
    "#exam questions\n",
    "Percentage_Exam_Questions\n",
    "#hw simulation\n",
    "Percentage_Hw_Simulation\n",
    "#class simulation\n",
    "Percentage_Class_Simulation\n",
    "#outside class simulation\n",
    "Percentage_Outside_Class_Simulation\n",
    "#course project\n",
    "Percentage_Course_Project\n",
    "#other\n",
    "Percentage_Solve_Computation_Other\n",
    "x=[1,2,3,4,5,6,7,8]\n",
    "y=[Percentage_Hw, Percentage_Interactive_Activities, Percentage_Exam_Questions, Percentage_Hw_Simulation, Percentage_Class_Simulation, Percentage_Outside_Class_Simulation, Percentage_Course_Project, Percentage_Solve_Computation_Other]\n",
    "fig=plt.figure(figsize=(15,7))\n",
    "plt.bar(x,y,width=.5)\n",
    "labels=['Homework','Interactive Activities','Exam Questions','HW Simulation','Class Simulation','Outside class Simulation','Course Project','Other']\n",
    "plt.xticks(x,labels,rotation=25)\n",
    "plt.title('Percentage of the students that use computation to solve physics problems in the undergraduate course')\n",
    "plt.ylabel('Percentage out of 100')\n"
   ]
  },
  {
   "cell_type": "markdown",
   "metadata": {},
   "source": [
    "Question 11: Does your university/college/department have a site license for"
   ]
  },
  {
   "cell_type": "code",
   "execution_count": 50,
   "metadata": {
    "collapsed": false
   },
   "outputs": [
    {
     "name": "stdout",
     "output_type": "stream",
     "text": [
      "Of the 526 people who answered this question 82.12927756653993 percent said the university has a site license for Matlab. That is 432 people.\n"
     ]
    },
    {
     "data": {
      "text/plain": [
       "([<matplotlib.axis.XTick at 0xe576b70>, <matplotlib.axis.XTick at 0xe595f98>],\n",
       " <a list of 2 Text xticklabel objects>)"
      ]
     },
     "execution_count": 50,
     "metadata": {},
     "output_type": "execute_result"
    },
    {
     "data": {
      "image/png": "[encoded data removed]",
      "text/plain": [
       "<matplotlib.figure.Figure at 0xe0c2be0>"
      ]
     },
     "metadata": {},
     "output_type": "display_data"
    }
   ],
   "source": [
    "# Column BE column 56 Matlab\n",
    "Site_License_Matlab = []\n",
    "for row in data.values[:,56]:\n",
    "    Site_License_Matlab.append(row)\n",
    "Site_License_Matlab_Y = Site_License_Matlab.count(\"Yes\")\n",
    "Percentage_Site_License_Matlab=100*Site_License_Matlab_Y/(Site_License_Matlab_Y+Site_License_Matlab.count(\"No\"))\n",
    "print(\"Of the\",Site_License_Matlab_Y+Site_License_Matlab.count(\"No\"),\"people who answered this question\",Percentage_Site_License_Matlab,\"percent said the university has a site license for Matlab. That is\",Site_License_Matlab_Y,\"people.\")\n",
    "x=[1,2]\n",
    "y=[Site_License_Matlab_Y,Site_License_Matlab.count(\"No\")]\n",
    "fig = plt.figure(figsize=(4,6))\n",
    "plt.bar(x,y,width=.25)\n",
    "plt.ylabel('Number of people')\n",
    "plt.title('University has Site Liscense for Matlab?')\n",
    "labels=['yes','no']\n",
    "plt.xticks(x,labels)"
   ]
  },
  {
   "cell_type": "code",
   "execution_count": 51,
   "metadata": {
    "collapsed": false
   },
   "outputs": [
    {
     "name": "stdout",
     "output_type": "stream",
     "text": [
      "Of the 538 people who answered this question 81.04089219330855 percent said the university has a site license for Mathematica. That is 436 people.\n"
     ]
    },
    {
     "data": {
      "text/plain": [
       "([<matplotlib.axis.XTick at 0xe4aec88>, <matplotlib.axis.XTick at 0xdc44da0>],\n",
       " <a list of 2 Text xticklabel objects>)"
      ]
     },
     "execution_count": 51,
     "metadata": {},
     "output_type": "execute_result"
    },
    {
     "data": {
      "image/png": "[encoded data removed]",
      "text/plain": [
       "<matplotlib.figure.Figure at 0xe487c50>"
      ]
     },
     "metadata": {},
     "output_type": "display_data"
    }
   ],
   "source": [
    "# Column BF column 57 Mathematica\n",
    "Site_License_Mathematica = []\n",
    "for row in data.values[:,57]:\n",
    "    Site_License_Mathematica.append(row)\n",
    "Site_License_Mathematica_Y = Site_License_Mathematica.count(\"Yes\")\n",
    "Percentage_Site_License_Mathematica=100*Site_License_Mathematica_Y/(Site_License_Mathematica_Y+Site_License_Mathematica.count(\"No\"))\n",
    "print(\"Of the\",Site_License_Mathematica_Y+Site_License_Mathematica.count(\"No\"),\"people who answered this question\",Percentage_Site_License_Mathematica,\"percent said the university has a site license for Mathematica. That is\",Site_License_Mathematica_Y,\"people.\")\n",
    "x=[1,2]\n",
    "y=[Site_License_Mathematica_Y,Site_License_Mathematica.count(\"No\")]\n",
    "fig = plt.figure(figsize=(4,6))\n",
    "plt.bar(x,y,width=.25)\n",
    "plt.ylabel('Number of people')\n",
    "plt.title('University has Site Liscense for Mathematica?')\n",
    "labels=['yes','no']\n",
    "plt.xticks(x,labels)"
   ]
  },
  {
   "cell_type": "code",
   "execution_count": 52,
   "metadata": {
    "collapsed": false
   },
   "outputs": [
    {
     "name": "stdout",
     "output_type": "stream",
     "text": [
      "Of the 335 people who answered this question 44.17910447761194 percent said the university has a site license for Maple. That is 148 people.\n"
     ]
    },
    {
     "data": {
      "text/plain": [
       "([<matplotlib.axis.XTick at 0xe56f748>, <matplotlib.axis.XTick at 0xe9ea2b0>],\n",
       " <a list of 2 Text xticklabel objects>)"
      ]
     },
     "execution_count": 52,
     "metadata": {},
     "output_type": "execute_result"
    },
    {
     "data": {
      "image/png": "[encoded data removed]",
      "text/plain": [
       "<matplotlib.figure.Figure at 0xc918d68>"
      ]
     },
     "metadata": {},
     "output_type": "display_data"
    }
   ],
   "source": [
    "# Column BG column 58 Maple\n",
    "Site_License_Maple = []\n",
    "for row in data.values[:,58]:\n",
    "    Site_License_Maple.append(row)\n",
    "Site_License_Maple_Y = Site_License_Maple.count(\"Yes\")\n",
    "Percentage_Site_License_Maple=100*Site_License_Maple_Y/(Site_License_Maple_Y+Site_License_Maple.count(\"No\"))\n",
    "print(\"Of the\",Site_License_Maple_Y+Site_License_Maple.count(\"No\"),\"people who answered this question\",Percentage_Site_License_Maple,\"percent said the university has a site license for Maple. That is\",Site_License_Maple_Y,\"people.\")\n",
    "x=[1,2]\n",
    "y=[Site_License_Maple_Y,Site_License_Maple.count(\"No\")]\n",
    "fig = plt.figure(figsize=(4,6))\n",
    "plt.bar(x,y,width=.25)\n",
    "plt.ylabel('Number of people')\n",
    "plt.title('University has Site Liscense for Maple?')\n",
    "labels=['yes','no']\n",
    "plt.xticks(x,labels)"
   ]
  },
  {
   "cell_type": "code",
   "execution_count": 53,
   "metadata": {
    "collapsed": false
   },
   "outputs": [
    {
     "name": "stdout",
     "output_type": "stream",
     "text": [
      "Of the 52 people who answered this question 84.61538461538461 percent said the university has a site license for something otherthan the options listed. That is 44 people.\n"
     ]
    },
    {
     "data": {
      "text/plain": [
       "([<matplotlib.axis.XTick at 0xea4eb38>, <matplotlib.axis.XTick at 0xe9ea8d0>],\n",
       " <a list of 2 Text xticklabel objects>)"
      ]
     },
     "execution_count": 53,
     "metadata": {},
     "output_type": "execute_result"
    },
    {
     "data": {
      "image/png": "[encoded data removed]",
      "text/plain": [
       "<matplotlib.figure.Figure at 0xe9fda90>"
      ]
     },
     "metadata": {},
     "output_type": "display_data"
    }
   ],
   "source": [
    "# Column BH column 59 Other\n",
    "Site_License_Other = []\n",
    "for row in data.values[:,59]:\n",
    "    Site_License_Other.append(row)\n",
    "Site_License_Other_Y = Site_License_Other.count(\"Yes\")\n",
    "Percentage_Site_License_Other=100*Site_License_Other_Y/(Site_License_Other_Y+Site_License_Other.count(\"No\"))\n",
    "print(\"Of the\",Site_License_Other_Y+Site_License_Other.count(\"No\"),\"people who answered this question\",Percentage_Site_License_Other,\"percent said the university has a site license for something otherthan the options listed. That is\",Site_License_Other_Y,\"people.\")\n",
    "x=[1,2]\n",
    "y=[Site_License_Other_Y,Site_License_Other.count(\"No\")]\n",
    "fig = plt.figure(figsize=(4,6))\n",
    "plt.bar(x,y,width=.25)\n",
    "plt.ylabel('Number of people')\n",
    "plt.title('University has Site Liscense for something else?')\n",
    "labels=['yes','no']\n",
    "plt.xticks(x,labels)"
   ]
  },
  {
   "cell_type": "code",
   "execution_count": 56,
   "metadata": {
    "collapsed": false
   },
   "outputs": [
    {
     "data": {
      "text/plain": [
       "<matplotlib.text.Text at 0xef13048>"
      ]
     },
     "execution_count": 56,
     "metadata": {},
     "output_type": "execute_result"
    },
    {
     "data": {
      "image/png": "[encoded data removed]",
      "text/plain": [
       "<matplotlib.figure.Figure at 0xedbac18>"
      ]
     },
     "metadata": {},
     "output_type": "display_data"
    }
   ],
   "source": [
    "#Matlab\n",
    "Percentage_Site_License_Matlab\n",
    "#Mathematica\n",
    "Percentage_Site_License_Mathematica\n",
    "#Maple\n",
    "Percentage_Site_License_Maple\n",
    "#Other\n",
    "Percentage_Site_License_Other\n",
    "x=[1,2,3,4]\n",
    "y=[Percentage_Site_License_Matlab,Percentage_Site_License_Mathematica,Percentage_Site_License_Maple,Percentage_Site_License_Other]\n",
    "fig=plt.figure(figsize=(10,6))\n",
    "plt.bar(x,y,width=.5)\n",
    "labels=['Matlab','Mathematica','Maple','Other']\n",
    "plt.xticks(x,labels)\n",
    "plt.title('Percentage that have a site license of the Ones that answered')\n",
    "plt.ylabel('Percentage out of 100')\n"
   ]
  },
  {
   "cell_type": "markdown",
   "metadata": {},
   "source": [
    "Question 13: In your department, how well supported is computation by:"
   ]
  },
  {
   "cell_type": "code",
   "execution_count": 70,
   "metadata": {
    "collapsed": false
   },
   "outputs": [
    {
     "name": "stdout",
     "output_type": "stream",
     "text": [
      "630 This many people answered the question\n"
     ]
    },
    {
     "data": {
      "text/plain": [
       "([<matplotlib.axis.XTick at 0x107e82b0>,\n",
       "  <matplotlib.axis.XTick at 0x107d1dd8>,\n",
       "  <matplotlib.axis.XTick at 0x1049e358>,\n",
       "  <matplotlib.axis.XTick at 0x1085cdd8>,\n",
       "  <matplotlib.axis.XTick at 0x108647f0>],\n",
       " <a list of 5 Text xticklabel objects>)"
      ]
     },
     "execution_count": 70,
     "metadata": {},
     "output_type": "execute_result"
    },
    {
     "data": {
      "image/png": "[encoded data removed]",
      "text/plain": [
       "<matplotlib.figure.Figure at 0xbf9f438>"
      ]
     },
     "metadata": {},
     "output_type": "display_data"
    }
   ],
   "source": [
    "# Column BK column 62 The university administration\n",
    "Supported_University_Administration = []\n",
    "for row in data.values[:,62]:\n",
    "    Supported_University_Administration.append(row)\n",
    "Supported_University_Administration_Very_Strong = Supported_University_Administration.count(\"Very strongly supported\")\n",
    "Supported_University_Administration_Strong= Supported_University_Administration.count(\"Strongly supported\")\n",
    "Supported_University_Administration_Somewhat= Supported_University_Administration.count(\"Somewhat supported\")\n",
    "Supported_University_Administration_Not= Supported_University_Administration.count(\"Not supported\")\n",
    "Supported_University_Administration_Unknown= Supported_University_Administration.count(\"I don't know\")\n",
    "Answered=Supported_University_Administration_Very_Strong+Supported_University_Administration_Strong+Supported_University_Administration_Somewhat+Supported_University_Administration_Not+Supported_University_Administration_Unknown\n",
    "print(Answered,'This many people answered the question')\n",
    "x=[1,2,3,4,5]\n",
    "y=[Supported_University_Administration_Very_Strong,Supported_University_Administration_Strong,Supported_University_Administration_Somewhat,Supported_University_Administration_Not,Supported_University_Administration_Unknown]\n",
    "fig = plt.figure(figsize=(15,6))\n",
    "plt.bar(x,y,width=.5)\n",
    "plt.ylabel('Number of people')\n",
    "plt.title('Support by university administration for computation')\n",
    "labels=['Supported University Administration Very Strong','Supported University Administration Strong','Supported University Administration Somewhat','Supported University Administration Not','Supported University Administration Unknown']\n",
    "plt.xticks(x,labels,rotation=25)\n"
   ]
  },
  {
   "cell_type": "code",
   "execution_count": 69,
   "metadata": {
    "collapsed": false
   },
   "outputs": [
    {
     "name": "stdout",
     "output_type": "stream",
     "text": [
      "628 This many people answered the question\n"
     ]
    },
    {
     "data": {
      "text/plain": [
       "([<matplotlib.axis.XTick at 0x103e3b70>,\n",
       "  <matplotlib.axis.XTick at 0x10406128>,\n",
       "  <matplotlib.axis.XTick at 0x1048ee10>,\n",
       "  <matplotlib.axis.XTick at 0x107cad68>,\n",
       "  <matplotlib.axis.XTick at 0x107d1780>],\n",
       " <a list of 5 Text xticklabel objects>)"
      ]
     },
     "execution_count": 69,
     "metadata": {},
     "output_type": "execute_result"
    },
    {
     "data": {
      "image/png": "[encoded data removed]",
      "text/plain": [
       "<matplotlib.figure.Figure at 0x1040e550>"
      ]
     },
     "metadata": {},
     "output_type": "display_data"
    }
   ],
   "source": [
    "# Column BL column 63 The department administration\n",
    "Supported_department_Administration = []\n",
    "for row in data.values[:,63]:\n",
    "    Supported_department_Administration.append(row)\n",
    "Supported_department_Administration_Very_Strong = Supported_department_Administration.count(\"Very strongly supported\")\n",
    "Supported_department_Administration_Strong= Supported_department_Administration.count(\"Strongly supported\")\n",
    "Supported_department_Administration_Somewhat= Supported_department_Administration.count(\"Somewhat supported\")\n",
    "Supported_department_Administration_Not= Supported_department_Administration.count(\"Not supported\")\n",
    "Supported_department_Administration_Unknown= Supported_department_Administration.count(\"I don't know\")\n",
    "Answered_2=Supported_department_Administration_Very_Strong+Supported_department_Administration_Strong+Supported_department_Administration_Somewhat+Supported_department_Administration_Not+Supported_department_Administration_Unknown\n",
    "print(Answered_2,'This many people answered the question')\n",
    "x=[1,2,3,4,5]\n",
    "y=[Supported_department_Administration_Very_Strong,Supported_department_Administration_Strong,Supported_department_Administration_Somewhat,Supported_department_Administration_Not,Supported_department_Administration_Unknown]\n",
    "fig = plt.figure(figsize=(12,6))\n",
    "plt.bar(x,y,width=.5)\n",
    "plt.ylabel('Number of people')\n",
    "plt.title('Support by department administration for computation')\n",
    "labels=['Supported department Administration Very Strong','Supported department Administration Strong','Supported department Administration Somewhat','Supported department Administration Not','Supported department Administration Unknown']\n",
    "plt.xticks(x,labels,rotation=25)"
   ]
  },
  {
   "cell_type": "code",
   "execution_count": 71,
   "metadata": {
    "collapsed": false
   },
   "outputs": [
    {
     "name": "stdout",
     "output_type": "stream",
     "text": [
      "630 This many people answered the question\n"
     ]
    },
    {
     "data": {
      "text/plain": [
       "([<matplotlib.axis.XTick at 0xf02d470>,\n",
       "  <matplotlib.axis.XTick at 0x107d7780>,\n",
       "  <matplotlib.axis.XTick at 0x10877a58>,\n",
       "  <matplotlib.axis.XTick at 0x108fb588>,\n",
       "  <matplotlib.axis.XTick at 0x108fbf60>],\n",
       " <a list of 5 Text xticklabel objects>)"
      ]
     },
     "execution_count": 71,
     "metadata": {},
     "output_type": "execute_result"
    },
    {
     "data": {
      "image/png": "[encoded data removed]",
      "text/plain": [
       "<matplotlib.figure.Figure at 0x103d83c8>"
      ]
     },
     "metadata": {},
     "output_type": "display_data"
    }
   ],
   "source": [
    "# Column BM column 64 Physics faculty members\n",
    "Supported_Faculty = []\n",
    "for row in data.values[:,64]:\n",
    "    Supported_Faculty.append(row)\n",
    "Supported_Faculty_Very_Strong = Supported_Faculty.count(\"Very strongly supported\")\n",
    "Supported_Faculty_Strong= Supported_Faculty.count(\"Strongly supported\")\n",
    "Supported_Faculty_Somewhat= Supported_Faculty.count(\"Somewhat supported\")\n",
    "Supported_Faculty_Not= Supported_Faculty.count(\"Not supported\")\n",
    "Supported_Faculty_Unknown= Supported_Faculty.count(\"I don't know\")\n",
    "Answered_3=Supported_Faculty_Very_Strong+Supported_Faculty_Strong+Supported_Faculty_Somewhat+Supported_Faculty_Not+Supported_Faculty_Unknown\n",
    "print(Answered_3,'This many people answered the question')\n",
    "x=[1,2,3,4,5]\n",
    "y=[Supported_Faculty_Very_Strong,Supported_Faculty_Strong,Supported_Faculty_Somewhat,Supported_Faculty_Not,Supported_Faculty_Unknown]\n",
    "fig = plt.figure(figsize=(12,6))\n",
    "plt.bar(x,y,width=.5)\n",
    "plt.ylabel('Number of people')\n",
    "plt.title('Support by faculty for computation')\n",
    "labels=['Supported by faculty Very Strong','Supported by faculty Strong','Supported by faculty Somewhat','Supported by faculty Not','Supported by faculty Unknown']\n",
    "plt.xticks(x,labels,rotation=25)"
   ]
  },
  {
   "cell_type": "markdown",
   "metadata": {},
   "source": [
    "Question 15: Which of the following resources are provided by your institution to support faculty to include computational physics in your undergraduate curriculum?"
   ]
  },
  {
   "cell_type": "code",
   "execution_count": 76,
   "metadata": {
    "collapsed": false
   },
   "outputs": [
    {
     "name": "stdout",
     "output_type": "stream",
     "text": [
      "Of the 606 people who answered this question 30.528052805280527 percent said they have lab access provided by the institution to support faculty to include computational physics in the undergraduate curriculum. That is 185 people.\n"
     ]
    },
    {
     "data": {
      "text/plain": [
       "([<matplotlib.axis.XTick at 0x112b4780>, <matplotlib.axis.XTick at 0xc62d780>],\n",
       " <a list of 2 Text xticklabel objects>)"
      ]
     },
     "execution_count": 76,
     "metadata": {},
     "output_type": "execute_result"
    },
    {
     "data": {
      "image/png": "[encoded data removed]",
      "text/plain": [
       "<matplotlib.figure.Figure at 0x103b5828>"
      ]
     },
     "metadata": {},
     "output_type": "display_data"
    }
   ],
   "source": [
    "#This is for column BS 70 Access to a lab\n",
    "Resource_Provided_Lab_Access = []\n",
    "for row in data.values[:,70]:\n",
    "    Resource_Provided_Lab_Access.append(row)\n",
    "Resource_Provided_Lab_Access_Y = Resource_Provided_Lab_Access.count(\"Checked\") \n",
    "Percentage_Resource_Provided_Lab_Access=100*Resource_Provided_Lab_Access_Y/(Resource_Provided_Lab_Access_Y+Resource_Provided_Lab_Access.count(\"Unchecked\"))\n",
    "print(\"Of the\",Resource_Provided_Lab_Access_Y+Resource_Provided_Lab_Access.count(\"Unchecked\"),\"people who answered this question\",Percentage_Resource_Provided_Lab_Access,\"percent said they have lab access provided by the institution to support faculty to include computational physics in the undergraduate curriculum. That is\",Resource_Provided_Lab_Access_Y,\"people.\")\n",
    "x=[1,2]\n",
    "y=[Resource_Provided_Lab_Access_Y,Resource_Provided_Lab_Access.count(\"Unchecked\")]\n",
    "fig = plt.figure(figsize=(4,4))\n",
    "plt.bar(x,y,width=.25)\n",
    "plt.ylabel('Number of people')\n",
    "plt.title('Access to Lab?')\n",
    "labels=['yes','no']\n",
    "plt.xticks(x,labels)"
   ]
  },
  {
   "cell_type": "code",
   "execution_count": 77,
   "metadata": {
    "collapsed": false
   },
   "outputs": [
    {
     "name": "stdout",
     "output_type": "stream",
     "text": [
      "Of the 606 people who answered this question 70.95709570957095 percent said they have specialized software provided by the institution to support faculty to include computational physics in the undergraduate curriculum. That is 430 people.\n"
     ]
    },
    {
     "data": {
      "text/plain": [
       "([<matplotlib.axis.XTick at 0x1045c518>,\n",
       "  <matplotlib.axis.XTick at 0x10c577b8>],\n",
       " <a list of 2 Text xticklabel objects>)"
      ]
     },
     "execution_count": 77,
     "metadata": {},
     "output_type": "execute_result"
    },
    {
     "data": {
      "image/png": "[encoded data removed]",
      "text/plain": [
       "<matplotlib.figure.Figure at 0x112ca0b8>"
      ]
     },
     "metadata": {},
     "output_type": "display_data"
    }
   ],
   "source": [
    "#This is for column BT 71 Access to specialized software\n",
    "Resource_Provided_Software = []\n",
    "for row in data.values[:,71]:\n",
    "    Resource_Provided_Software.append(row)\n",
    "Resource_Provided_Software_Y = Resource_Provided_Software.count(\"Checked\") \n",
    "Percentage_Resource_Provided_Software=100*Resource_Provided_Software_Y/(Resource_Provided_Software_Y+Resource_Provided_Software.count(\"Unchecked\"))\n",
    "print(\"Of the\",Resource_Provided_Software_Y+Resource_Provided_Software.count(\"Unchecked\"),\"people who answered this question\",Percentage_Resource_Provided_Software,\"percent said they have specialized software provided by the institution to support faculty to include computational physics in the undergraduate curriculum. That is\",Resource_Provided_Software_Y,\"people.\")\n",
    "x=[1,2]\n",
    "y=[Resource_Provided_Software_Y,Resource_Provided_Software.count(\"Unchecked\")]\n",
    "fig = plt.figure(figsize=(4,4))\n",
    "plt.bar(x,y,width=.25)\n",
    "plt.ylabel('Number of people')\n",
    "plt.title('Access to Software?')\n",
    "labels=['yes','no']\n",
    "plt.xticks(x,labels)"
   ]
  },
  {
   "cell_type": "code",
   "execution_count": 78,
   "metadata": {
    "collapsed": false
   },
   "outputs": [
    {
     "name": "stdout",
     "output_type": "stream",
     "text": [
      "Of the 606 people who answered this question 29.372937293729372 percent said they have specialized hardware provided by the institution to support faculty to include computational physics in the undergraduate curriculum. That is 178 people.\n"
     ]
    },
    {
     "data": {
      "text/plain": [
       "([<matplotlib.axis.XTick at 0x113d57b8>,\n",
       "  <matplotlib.axis.XTick at 0x113d5780>],\n",
       " <a list of 2 Text xticklabel objects>)"
      ]
     },
     "execution_count": 78,
     "metadata": {},
     "output_type": "execute_result"
    },
    {
     "data": {
      "image/png": "[encoded data removed]",
      "text/plain": [
       "<matplotlib.figure.Figure at 0x11369f28>"
      ]
     },
     "metadata": {},
     "output_type": "display_data"
    }
   ],
   "source": [
    "#This is for column BU 72 Access to specialized hardware\n",
    "Resource_Provided_Hardware = []\n",
    "for row in data.values[:,72]:\n",
    "    Resource_Provided_Hardware.append(row)\n",
    "Resource_Provided_Hardware_Y = Resource_Provided_Hardware.count(\"Checked\") \n",
    "Percentage_Resource_Provided_Hardware=100*Resource_Provided_Hardware_Y/(Resource_Provided_Hardware_Y+Resource_Provided_Hardware.count(\"Unchecked\"))\n",
    "print(\"Of the\",Resource_Provided_Hardware_Y+Resource_Provided_Hardware.count(\"Unchecked\"),\"people who answered this question\",Percentage_Resource_Provided_Hardware,\"percent said they have specialized hardware provided by the institution to support faculty to include computational physics in the undergraduate curriculum. That is\",Resource_Provided_Hardware_Y,\"people.\")\n",
    "x=[1,2]\n",
    "y=[Resource_Provided_Hardware_Y,Resource_Provided_Hardware.count(\"Unchecked\")]\n",
    "fig = plt.figure(figsize=(4,4))\n",
    "plt.bar(x,y,width=.25)\n",
    "plt.ylabel('Number of people')\n",
    "plt.title('Access to Hardware?')\n",
    "labels=['yes','no']\n",
    "plt.xticks(x,labels)"
   ]
  },
  {
   "cell_type": "code",
   "execution_count": 79,
   "metadata": {
    "collapsed": false
   },
   "outputs": [
    {
     "name": "stdout",
     "output_type": "stream",
     "text": [
      "Of the 606 people who answered this question 9.405940594059405 percent said they have research funds provided by the institution to support faculty to include computational physics in the undergraduate curriculum. That is 57 people.\n"
     ]
    },
    {
     "data": {
      "text/plain": [
       "([<matplotlib.axis.XTick at 0x113e64a8>,\n",
       "  <matplotlib.axis.XTick at 0x11467eb8>],\n",
       " <a list of 2 Text xticklabel objects>)"
      ]
     },
     "execution_count": 79,
     "metadata": {},
     "output_type": "execute_result"
    },
    {
     "data": {
      "image/png": "[encoded data removed]",
      "text/plain": [
       "<matplotlib.figure.Figure at 0x114472e8>"
      ]
     },
     "metadata": {},
     "output_type": "display_data"
    }
   ],
   "source": [
    "#This is for column BV 73 Additional research funds\n",
    "Resource_Provided_Research_Funds = []\n",
    "for row in data.values[:,73]:\n",
    "    Resource_Provided_Research_Funds.append(row)\n",
    "Resource_Provided_Research_Funds_Y = Resource_Provided_Research_Funds.count(\"Checked\") \n",
    "Percentage_Resource_Provided_Research_Funds=100*Resource_Provided_Research_Funds_Y/(Resource_Provided_Research_Funds_Y+Resource_Provided_Research_Funds.count(\"Unchecked\"))\n",
    "print(\"Of the\",Resource_Provided_Research_Funds_Y+Resource_Provided_Research_Funds.count(\"Unchecked\"),\"people who answered this question\",Percentage_Resource_Provided_Research_Funds,\"percent said they have research funds provided by the institution to support faculty to include computational physics in the undergraduate curriculum. That is\",Resource_Provided_Research_Funds_Y,\"people.\")\n",
    "x=[1,2]\n",
    "y=[Resource_Provided_Research_Funds_Y,Resource_Provided_Research_Funds.count(\"Unchecked\")]\n",
    "fig = plt.figure(figsize=(4,4))\n",
    "plt.bar(x,y,width=.25)\n",
    "plt.ylabel('Number of people')\n",
    "plt.title('Access to Research Funds?')\n",
    "labels=['yes','no']\n",
    "plt.xticks(x,labels)"
   ]
  },
  {
   "cell_type": "code",
   "execution_count": 81,
   "metadata": {
    "collapsed": false
   },
   "outputs": [
    {
     "name": "stdout",
     "output_type": "stream",
     "text": [
      "Of the 606 people who answered this question 1.4851485148514851 percent said they have release time to learn computer methods provided by the institution to support faculty to include computational physics in the undergraduate curriculum. That is 9 people.\n"
     ]
    },
    {
     "data": {
      "text/plain": [
       "([<matplotlib.axis.XTick at 0x113cd2b0>,\n",
       "  <matplotlib.axis.XTick at 0x1157dcf8>],\n",
       " <a list of 2 Text xticklabel objects>)"
      ]
     },
     "execution_count": 81,
     "metadata": {},
     "output_type": "execute_result"
    },
    {
     "data": {
      "image/png": "[encoded data removed]",
      "text/plain": [
       "<matplotlib.figure.Figure at 0x115595c0>"
      ]
     },
     "metadata": {},
     "output_type": "display_data"
    }
   ],
   "source": [
    "#This is for column BW 74 Release time to learn new computer methods and/or tools\n",
    "Resource_Provided_Release_Time_Methods = []\n",
    "for row in data.values[:,74]:\n",
    "    Resource_Provided_Release_Time_Methods.append(row)\n",
    "Resource_Provided_Release_Time_Methods_Y = Resource_Provided_Release_Time_Methods.count(\"Checked\") \n",
    "Percentage_Resource_Provided_Release_Time_Methods=100*Resource_Provided_Release_Time_Methods_Y/(Resource_Provided_Release_Time_Methods_Y+Resource_Provided_Release_Time_Methods.count(\"Unchecked\"))\n",
    "print(\"Of the\",Resource_Provided_Release_Time_Methods_Y+Resource_Provided_Release_Time_Methods.count(\"Unchecked\"),\"people who answered this question\",Percentage_Resource_Provided_Release_Time_Methods,\"percent said they have release time to learn computer methods provided by the institution to support faculty to include computational physics in the undergraduate curriculum. That is\",Resource_Provided_Release_Time_Methods_Y,\"people.\")\n",
    "x=[1,2]\n",
    "y=[Resource_Provided_Release_Time_Methods_Y,Resource_Provided_Release_Time_Methods.count(\"Unchecked\")]\n",
    "fig = plt.figure(figsize=(4,4))\n",
    "plt.bar(x,y,width=.25)\n",
    "plt.ylabel('Number of people')\n",
    "plt.title('Access to Release Time to Learn Computer Methods?')\n",
    "labels=['yes','no']\n",
    "plt.xticks(x,labels)"
   ]
  },
  {
   "cell_type": "code",
   "execution_count": 82,
   "metadata": {
    "collapsed": false
   },
   "outputs": [
    {
     "name": "stdout",
     "output_type": "stream",
     "text": [
      "Of the 606 people who answered this question 6.930693069306931 percent said they have training provided by the institution to support faculty to include computational physics in the undergraduate curriculum. That is 42 people.\n"
     ]
    },
    {
     "data": {
      "text/plain": [
       "([<matplotlib.axis.XTick at 0x115c3c50>,\n",
       "  <matplotlib.axis.XTick at 0x115f7128>],\n",
       " <a list of 2 Text xticklabel objects>)"
      ]
     },
     "execution_count": 82,
     "metadata": {},
     "output_type": "execute_result"
    },
    {
     "data": {
      "image/png": "[encoded data removed]",
      "text/plain": [
       "<matplotlib.figure.Figure at 0x115727b8>"
      ]
     },
     "metadata": {},
     "output_type": "display_data"
    }
   ],
   "source": [
    "#This is for column BX 75 Training on integrating computational physics in the curriculum\n",
    "Resource_Provided_Training = []\n",
    "for row in data.values[:,75]:\n",
    "    Resource_Provided_Training.append(row)\n",
    "Resource_Provided_Training_Y = Resource_Provided_Training.count(\"Checked\") \n",
    "Percentage_Resource_Provided_Training=100*Resource_Provided_Training_Y/(Resource_Provided_Training_Y+Resource_Provided_Training.count(\"Unchecked\"))\n",
    "print(\"Of the\",Resource_Provided_Training_Y+Resource_Provided_Training.count(\"Unchecked\"),\"people who answered this question\",Percentage_Resource_Provided_Training,\"percent said they have training provided by the institution to support faculty to include computational physics in the undergraduate curriculum. That is\",Resource_Provided_Training_Y,\"people.\")\n",
    "x=[1,2]\n",
    "y=[Resource_Provided_Training_Y,Resource_Provided_Training.count(\"Unchecked\")]\n",
    "fig = plt.figure(figsize=(4,4))\n",
    "plt.bar(x,y,width=.25)\n",
    "plt.ylabel('Number of people')\n",
    "plt.title('Access to Training?')\n",
    "labels=['yes','no']\n",
    "plt.xticks(x,labels)"
   ]
  },
  {
   "cell_type": "code",
   "execution_count": 83,
   "metadata": {
    "collapsed": false
   },
   "outputs": [
    {
     "name": "stdout",
     "output_type": "stream",
     "text": [
      "Of the 606 people who answered this question 18.316831683168317 percent said they have credit provided by the institution to support faculty to include computational physics in the undergraduate curriculum. That is 111 people.\n"
     ]
    },
    {
     "data": {
      "text/plain": [
       "([<matplotlib.axis.XTick at 0x11551128>,\n",
       "  <matplotlib.axis.XTick at 0x10bdf438>],\n",
       " <a list of 2 Text xticklabel objects>)"
      ]
     },
     "execution_count": 83,
     "metadata": {},
     "output_type": "execute_result"
    },
    {
     "data": {
      "image/png": "[encoded data removed]",
      "text/plain": [
       "<matplotlib.figure.Figure at 0x11608358>"
      ]
     },
     "metadata": {},
     "output_type": "display_data"
    }
   ],
   "source": [
    "#This is for column BY 76 Credit towards tenure and promotion\n",
    "Resource_Provided_Credit = []\n",
    "for row in data.values[:,76]:\n",
    "    Resource_Provided_Credit.append(row)\n",
    "Resource_Provided_Credit_Y = Resource_Provided_Credit.count(\"Checked\") \n",
    "Percentage_Resource_Provided_Credit=100*Resource_Provided_Credit_Y/(Resource_Provided_Credit_Y+Resource_Provided_Credit.count(\"Unchecked\"))\n",
    "print(\"Of the\",Resource_Provided_Credit_Y+Resource_Provided_Credit.count(\"Unchecked\"),\"people who answered this question\",Percentage_Resource_Provided_Credit,\"percent said they have credit provided by the institution to support faculty to include computational physics in the undergraduate curriculum. That is\",Resource_Provided_Credit_Y,\"people.\")\n",
    "x=[1,2]\n",
    "y=[Resource_Provided_Credit_Y,Resource_Provided_Credit.count(\"Unchecked\")]\n",
    "fig = plt.figure(figsize=(4,4))\n",
    "plt.bar(x,y,width=.25)\n",
    "plt.ylabel('Number of people')\n",
    "plt.title('Access to Credit?')\n",
    "labels=['yes','no']\n",
    "plt.xticks(x,labels)"
   ]
  },
  {
   "cell_type": "code",
   "execution_count": 84,
   "metadata": {
    "collapsed": false
   },
   "outputs": [
    {
     "name": "stdout",
     "output_type": "stream",
     "text": [
      "Of the 606 people who answered this question 4.785478547854786 percent said they have stipends provided by the institution to support faculty to include computational physics in the undergraduate curriculum. That is 29 people.\n"
     ]
    },
    {
     "data": {
      "text/plain": [
       "([<matplotlib.axis.XTick at 0x1167b8d0>,\n",
       "  <matplotlib.axis.XTick at 0x115fc198>],\n",
       " <a list of 2 Text xticklabel objects>)"
      ]
     },
     "execution_count": 84,
     "metadata": {},
     "output_type": "execute_result"
    },
    {
     "data": {
      "image/png": "[encoded data removed]",
      "text/plain": [
       "<matplotlib.figure.Figure at 0x1168d400>"
      ]
     },
     "metadata": {},
     "output_type": "display_data"
    }
   ],
   "source": [
    "#This is for column BZ 77 Stipends\n",
    "Resource_Provided_Stipends = []\n",
    "for row in data.values[:,77]:\n",
    "    Resource_Provided_Stipends.append(row)\n",
    "Resource_Provided_Stipends_Y = Resource_Provided_Stipends.count(\"Checked\") \n",
    "Percentage_Resource_Provided_Stipends=100*Resource_Provided_Stipends_Y/(Resource_Provided_Stipends_Y+Resource_Provided_Stipends.count(\"Unchecked\"))\n",
    "print(\"Of the\",Resource_Provided_Stipends_Y+Resource_Provided_Stipends.count(\"Unchecked\"),\"people who answered this question\",Percentage_Resource_Provided_Stipends,\"percent said they have stipends provided by the institution to support faculty to include computational physics in the undergraduate curriculum. That is\",Resource_Provided_Stipends_Y,\"people.\")\n",
    "x=[1,2]\n",
    "y=[Resource_Provided_Stipends_Y,Resource_Provided_Stipends.count(\"Unchecked\")]\n",
    "fig = plt.figure(figsize=(4,4))\n",
    "plt.bar(x,y,width=.25)\n",
    "plt.ylabel('Number of people')\n",
    "plt.title('Access to Stipends?')\n",
    "labels=['yes','no']\n",
    "plt.xticks(x,labels)"
   ]
  },
  {
   "cell_type": "code",
   "execution_count": 85,
   "metadata": {
    "collapsed": false
   },
   "outputs": [
    {
     "name": "stdout",
     "output_type": "stream",
     "text": [
      "Of the 606 people who answered this question 2.31023102310231 percent said they have Release time to develop computational exercises provided by the institution to support faculty to include computational physics in the undergraduate curriculum. That is 14 people.\n"
     ]
    },
    {
     "data": {
      "text/plain": [
       "([<matplotlib.axis.XTick at 0x11710160>,\n",
       "  <matplotlib.axis.XTick at 0x1175a3c8>],\n",
       " <a list of 2 Text xticklabel objects>)"
      ]
     },
     "execution_count": 85,
     "metadata": {},
     "output_type": "execute_result"
    },
    {
     "data": {
      "image/png": "[encoded data removed]",
      "text/plain": [
       "<matplotlib.figure.Figure at 0x11710198>"
      ]
     },
     "metadata": {},
     "output_type": "display_data"
    }
   ],
   "source": [
    "#This is for column CA 78 Release time to develop computational exercises\n",
    "Resource_Provided_Release_Time_Exercises = []\n",
    "for row in data.values[:,78]:\n",
    "    Resource_Provided_Release_Time_Exercises.append(row)\n",
    "Resource_Provided_Release_Time_Exercises_Y = Resource_Provided_Release_Time_Exercises.count(\"Checked\") \n",
    "Percentage_Resource_Provided_Release_Time_Exercises=100*Resource_Provided_Release_Time_Exercises_Y/(Resource_Provided_Release_Time_Exercises_Y+Resource_Provided_Release_Time_Exercises.count(\"Unchecked\"))\n",
    "print(\"Of the\",Resource_Provided_Release_Time_Exercises_Y+Resource_Provided_Release_Time_Exercises.count(\"Unchecked\"),\"people who answered this question\",Percentage_Resource_Provided_Release_Time_Exercises,\"percent said they have Release time to develop computational exercises provided by the institution to support faculty to include computational physics in the undergraduate curriculum. That is\",Resource_Provided_Release_Time_Exercises_Y,\"people.\")\n",
    "x=[1,2]\n",
    "y=[Resource_Provided_Release_Time_Exercises_Y,Resource_Provided_Release_Time_Exercises.count(\"Unchecked\")]\n",
    "fig = plt.figure(figsize=(4,4))\n",
    "plt.bar(x,y,width=.25)\n",
    "plt.ylabel('Number of people')\n",
    "plt.title('Access to Release time to develop computational exercises?')\n",
    "labels=['yes','no']\n",
    "plt.xticks(x,labels)"
   ]
  },
  {
   "cell_type": "code",
   "execution_count": 86,
   "metadata": {
    "collapsed": false
   },
   "outputs": [
    {
     "name": "stdout",
     "output_type": "stream",
     "text": [
      "Of the 606 people who answered this question 4.125412541254126 percent said they have Other things provided by the institution to support faculty to include computational physics in the undergraduate curriculum. That is 25 people.\n"
     ]
    },
    {
     "data": {
      "text/plain": [
       "([<matplotlib.axis.XTick at 0x1178df98>,\n",
       "  <matplotlib.axis.XTick at 0x117f0710>],\n",
       " <a list of 2 Text xticklabel objects>)"
      ]
     },
     "execution_count": 86,
     "metadata": {},
     "output_type": "execute_result"
    },
    {
     "data": {
      "image/png": "[encoded data removed]",
      "text/plain": [
       "<matplotlib.figure.Figure at 0x117e8b38>"
      ]
     },
     "metadata": {},
     "output_type": "display_data"
    }
   ],
   "source": [
    "#This is for column CB 79 Other\n",
    "Resource_Provided_Other = []\n",
    "for row in data.values[:,79]:\n",
    "    Resource_Provided_Other.append(row)\n",
    "Resource_Provided_Other_Y = Resource_Provided_Other.count(\"Checked\") \n",
    "Percentage_Resource_Provided_Other=100*Resource_Provided_Other_Y/(Resource_Provided_Other_Y+Resource_Provided_Other.count(\"Unchecked\"))\n",
    "print(\"Of the\",Resource_Provided_Other_Y+Resource_Provided_Other.count(\"Unchecked\"),\"people who answered this question\",Percentage_Resource_Provided_Other,\"percent said they have Other things provided by the institution to support faculty to include computational physics in the undergraduate curriculum. That is\",Resource_Provided_Other_Y,\"people.\")\n",
    "x=[1,2]\n",
    "y=[Resource_Provided_Other_Y,Resource_Provided_Other.count(\"Unchecked\")]\n",
    "fig = plt.figure(figsize=(4,4))\n",
    "plt.bar(x,y,width=.25)\n",
    "plt.ylabel('Number of people')\n",
    "plt.title('Access to Other?')\n",
    "labels=['yes','no']\n",
    "plt.xticks(x,labels)"
   ]
  },
  {
   "cell_type": "code",
   "execution_count": 90,
   "metadata": {
    "collapsed": false
   },
   "outputs": [
    {
     "name": "stdout",
     "output_type": "stream",
     "text": [
      "Of the 606 people who answered this question 20.957095709570957 percent said they don't have things provided by the institution to support faculty to include computational physics in the undergraduate curriculum. That is 127 people.\n"
     ]
    },
    {
     "data": {
      "text/plain": [
       "([<matplotlib.axis.XTick at 0x119d2710>,\n",
       "  <matplotlib.axis.XTick at 0x1175a438>],\n",
       " <a list of 2 Text xticklabel objects>)"
      ]
     },
     "execution_count": 90,
     "metadata": {},
     "output_type": "execute_result"
    },
    {
     "data": {
      "image/png": "[encoded data removed]",
      "text/plain": [
       "<matplotlib.figure.Figure at 0x1198d8d0>"
      ]
     },
     "metadata": {},
     "output_type": "display_data"
    }
   ],
   "source": [
    "#This is for column CC 80 None\n",
    "Resource_Provided_None = []\n",
    "for row in data.values[:,80]:\n",
    "    Resource_Provided_None.append(row)\n",
    "Resource_Provided_None_Y = Resource_Provided_None.count(\"Checked\") \n",
    "Percentage_Resource_Provided_None=100*Resource_Provided_None_Y/(Resource_Provided_None_Y+Resource_Provided_None.count(\"Unchecked\"))\n",
    "print(\"Of the\",Resource_Provided_None_Y+Resource_Provided_None.count(\"Unchecked\"),\"people who answered this question\",Percentage_Resource_Provided_None,\"percent said they don't have things provided by the institution to support faculty to include computational physics in the undergraduate curriculum. That is\",Resource_Provided_None_Y,\"people.\")\n",
    "x=[1,2]\n",
    "y=[Resource_Provided_None_Y,Resource_Provided_None.count(\"Unchecked\")]\n",
    "fig = plt.figure(figsize=(4,4))\n",
    "plt.bar(x,y,width=.25)\n",
    "plt.ylabel('Number of people')\n",
    "plt.title('Access?')\n",
    "labels=['no','yes']\n",
    "plt.xticks(x,labels)"
   ]
  },
  {
   "cell_type": "markdown",
   "metadata": {},
   "source": [
    "Question 19: The following experiences have enabled me to include computation in the undergraduate courses I teach:"
   ]
  },
  {
   "cell_type": "code",
   "execution_count": 94,
   "metadata": {
    "collapsed": false
   },
   "outputs": [
    {
     "name": "stdout",
     "output_type": "stream",
     "text": [
      "575 This many people answered the question\n",
      "94\n"
     ]
    },
    {
     "data": {
      "image/png": "[encoded data removed]",
      "text/plain": [
       "<matplotlib.figure.Figure at 0x114a9780>"
      ]
     },
     "metadata": {},
     "output_type": "display_data"
    }
   ],
   "source": [
    "# Column DD column 107 Department and/or colleagues gave support to personalize and alter individual courses.\n",
    "Colleague_Support_Alter_Course = []\n",
    "for row in data.values[:,107]:\n",
    "    Colleague_Support_Alter_Course.append(row)\n",
    "Colleague_Support_Alter_Course_Strongly_Agree = Colleague_Support_Alter_Course.count(\"Strongly agree\")\n",
    "Colleague_Support_Alter_Course_Agree= Colleague_Support_Alter_Course.count(\"Agree\")\n",
    "Colleague_Support_Alter_Course_Neither= Colleague_Support_Alter_Course.count(\"Neither agree nor disagree\")\n",
    "Colleague_Support_Alter_Course_Disagree= Colleague_Support_Alter_Course.count(\"Disagree\")\n",
    "Colleague_Support_Alter_Course_Strongly_Disagree= Colleague_Support_Alter_Course.count(\"Strongly disgaree\")\n",
    "Answered_4=Colleague_Support_Alter_Course_Strongly_Agree+Colleague_Support_Alter_Course_Agree+Colleague_Support_Alter_Course_Neither+Colleague_Support_Alter_Course_Disagree+Colleague_Support_Alter_Course_Strongly_Disagree\n",
    "print(Answered_4,'This many people answered the question')\n",
    "x=[1,2,3,4,5]\n",
    "y=[Colleague_Support_Alter_Course_Strongly_Agree,Colleague_Support_Alter_Course_Agree,Colleague_Support_Alter_Course_Neither,Colleague_Support_Alter_Course_Disagree,Colleague_Support_Alter_Course_Strongly_Disagree]\n",
    "fig = plt.figure(figsize=(15,6))\n",
    "plt.bar(x,y,width=.5)\n",
    "plt.ylabel('Number of people')\n",
    "plt.title('Colleague gave support to alter class to include computation in the course I teach')\n",
    "labels=['Strongly Agree','Agree','Neither Agree Nor Disagree','Disagree','Strongly Disgaree']\n",
    "plt.xticks(x,labels,rotation=25)\n",
    "print(Colleague_Support_Alter_Course_Strongly_Agree)"
   ]
  },
  {
   "cell_type": "code",
   "execution_count": null,
   "metadata": {
    "collapsed": true
   },
   "outputs": [],
   "source": []
  },
  {
   "cell_type": "code",
   "execution_count": null,
   "metadata": {
    "collapsed": true
   },
   "outputs": [],
   "source": []
  },
  {
   "cell_type": "code",
   "execution_count": null,
   "metadata": {
    "collapsed": true
   },
   "outputs": [],
   "source": []
  }
 ],
 "metadata": {
  "anaconda-cloud": {},
  "kernelspec": {
   "display_name": "Python 3",
   "language": "python",
   "name": "python3"
  },
  "language_info": {
   "codemirror_mode": {
    "name": "ipython",
    "version": 3
   },
   "file_extension": ".py",
   "mimetype": "text/x-python",
   "name": "python",
   "nbconvert_exporter": "python",
   "pygments_lexer": "ipython3",
   "version": "3.6.0"
  }
 },
 "nbformat": 4,
 "nbformat_minor": 1
}
