{
 "cells": [
  {
   "cell_type": "markdown",
   "metadata": {},
   "source": [
    "# Contingency Tables and Tests for Significance"
   ]
  },
  {
   "cell_type": "code",
   "execution_count": 1,
   "metadata": {
    "collapsed": true
   },
   "outputs": [],
   "source": [
    "import pandas as pd\n",
    "import numpy as np\n",
    "import matplotlib.pyplot as plt\n",
    "%matplotlib inline\n",
    "from scipy import stats\n",
    "import seaborn as sns"
   ]
  },
  {
   "cell_type": "code",
   "execution_count": 2,
   "metadata": {
    "collapsed": true
   },
   "outputs": [],
   "source": [
    "#importing the uncleaned data\n",
    "data_uncleaned=pd.read_csv('Computational Data Without Identifiers.csv')\n",
    "#importing the cleaned data\n",
    "data=pd.read_csv(r'C:\\Users\\Grant\\Desktop\\Cleaned PERL Research data.csv', encoding='latin1')\n",
    "Rows = 1246\n",
    "Inst_List_data=pd.read_csv('List of Institutions.csv')"
   ]
  },
  {
   "cell_type": "code",
   "execution_count": 66,
   "metadata": {
    "collapsed": false
   },
   "outputs": [],
   "source": [
    "def Contingency_Table(Column1, Column2,Title1,Title2):\n",
    "    #Creates an empty list to be appended\n",
    "    list1 = []\n",
    "    #Loop appends the list to be used in the table\n",
    "    for row, row2 in zip(data.values[:,Column1], data.values[:,Column2]):\n",
    "        if row == \"Checked\" and row2 ==\"Checked\" or row == \"Unchecked\" and row2 == \"Checked\" or row == \"Checked\" and row2 == \"Unchecked\" or row == \"Unchecked\" and row2 == \"Unchecked\":  \n",
    "            list1.append(row)\n",
    "        if row == \"Checked\" and row2 ==\"Yes\" or row == \"Unchecked\" and row2 == \"Yes\" or row == \"Checked\" and row2 == \"No\" or row == \"Unchecked\" and row2 == \"No\":  \n",
    "            list1.append(row)\n",
    "    #Creates a variable equal to the size of the appended list to be used in the table\n",
    "    len1 = len(list1)\n",
    "    #Creates an empty list to be appended\n",
    "    list2 = []\n",
    "    #Loop appends the list to be used in the table\n",
    "    for row, row2 in zip(data.values[:,Column2], data.values[:,Column1]):\n",
    "        if row == \"Checked\" and row2 ==\"Checked\" or row == \"Unchecked\" and row2 == \"Checked\" or row == \"Checked\" and row2 == \"Unchecked\" or row == \"Unchecked\" and row2 == \"Unchecked\":  \n",
    "            list2.append(row)\n",
    "        if row == \"Yes\" and row2 ==\"Checked\" or row == \"No\" and row2 == \"Checked\" or row == \"Yes\" and row2 == \"Unchecked\" or row == \"No\" and row2 == \"Unchecked\":  \n",
    "            list2.append(row)\n",
    "    #Creates a variable equal to the size of the appended list to be used in the table\n",
    "    len2 = len(list2)\n",
    "    #Creates and manipulates a data frame to make the contingency table\n",
    "    df = pd.DataFrame(np.array(list1).reshape(len1,1))\n",
    "    df.columns=[Title1]\n",
    "    df2 = pd.DataFrame(np.array(list2).reshape(len2,1))\n",
    "    df2.columns=[Title2]\n",
    "    #Allows the contingency table to be referrenced later on\n",
    "    global Contingency_Table_im\n",
    "    #Creates the contingency table\n",
    "    Contingency_Table_im = pd.crosstab(index=df[Title1], columns=df2[Title2], margins=True)"
   ]
  },
  {
   "cell_type": "code",
   "execution_count": 50,
   "metadata": {
    "collapsed": true
   },
   "outputs": [],
   "source": [
    "def Chi_Squared(n11,n12,n21,n22):\n",
    "    #Creates the expected values for the Chi Squared test\n",
    "    n11e = ((n11+n21)*(n11+n12))/(n11+n12+n21+n22)\n",
    "    n12e = ((n11+n12)*(n12+n22))/(n11+n12+n21+n22)\n",
    "    n21e = ((n11+n21)*(n21+n22))/(n11+n12+n21+n22)\n",
    "    n22e = ((n12+n22)*(n21+n22))/(n11+n12+n21+n22)\n",
    "    #Calculates the test statistic\n",
    "    Test_Stat = (n11-n11e)**2/n11e+(n12-n12e)**2/n12e+(n21-n21e)**2/n21e+(n22-n22e)**2/n22e\n",
    "    #Corresponding to an alpha level of .05 with one degree of freedom\n",
    "    if Test_Stat >= 3.841:\n",
    "        print(\"There is a significant difference between the distributions\")\n",
    "    else:\n",
    "        print(\"There is no significant difference between the distributions\")"
   ]
  },
  {
   "cell_type": "markdown",
   "metadata": {},
   "source": [
    "## Question 2: What Programs in Computation are Offered?\n",
    "### A Degree?"
   ]
  },
  {
   "cell_type": "code",
   "execution_count": 48,
   "metadata": {
    "collapsed": false
   },
   "outputs": [
    {
     "data": {
      "text/html": [
       "<div>\n",
       "<table border=\"1\" class=\"dataframe\">\n",
       "  <thead>\n",
       "    <tr style=\"text-align: right;\">\n",
       "      <th>Degree</th>\n",
       "      <th>Checked</th>\n",
       "      <th>Unchecked</th>\n",
       "      <th>All</th>\n",
       "    </tr>\n",
       "    <tr>\n",
       "      <th>Intro</th>\n",
       "      <th></th>\n",
       "      <th></th>\n",
       "      <th></th>\n",
       "    </tr>\n",
       "  </thead>\n",
       "  <tbody>\n",
       "    <tr>\n",
       "      <th>Checked</th>\n",
       "      <td>61</td>\n",
       "      <td>346</td>\n",
       "      <td>407</td>\n",
       "    </tr>\n",
       "    <tr>\n",
       "      <th>Unchecked</th>\n",
       "      <td>19</td>\n",
       "      <td>262</td>\n",
       "      <td>281</td>\n",
       "    </tr>\n",
       "    <tr>\n",
       "      <th>All</th>\n",
       "      <td>80</td>\n",
       "      <td>608</td>\n",
       "      <td>688</td>\n",
       "    </tr>\n",
       "  </tbody>\n",
       "</table>\n",
       "</div>"
      ],
      "text/plain": [
       "Degree     Checked  Unchecked  All\n",
       "Intro                             \n",
       "Checked         61        346  407\n",
       "Unchecked       19        262  281\n",
       "All             80        608  688"
      ]
     },
     "execution_count": 48,
     "metadata": {},
     "output_type": "execute_result"
    }
   ],
   "source": [
    "Contingency_Table(8,2,\"Intro\",\"Degree\")\n",
    "Contingency_Table_im"
   ]
  },
  {
   "cell_type": "code",
   "execution_count": 51,
   "metadata": {
    "collapsed": false
   },
   "outputs": [
    {
     "name": "stdout",
     "output_type": "stream",
     "text": [
      "There is a significant difference between the distributions\n"
     ]
    }
   ],
   "source": [
    "Chi_Squared(61,346,19,262)"
   ]
  },
  {
   "cell_type": "markdown",
   "metadata": {},
   "source": [
    "### A Minor?"
   ]
  },
  {
   "cell_type": "code",
   "execution_count": 53,
   "metadata": {
    "collapsed": false
   },
   "outputs": [
    {
     "data": {
      "text/html": [
       "<div>\n",
       "<table border=\"1\" class=\"dataframe\">\n",
       "  <thead>\n",
       "    <tr style=\"text-align: right;\">\n",
       "      <th>Minor</th>\n",
       "      <th>Checked</th>\n",
       "      <th>Unchecked</th>\n",
       "      <th>All</th>\n",
       "    </tr>\n",
       "    <tr>\n",
       "      <th>Intro</th>\n",
       "      <th></th>\n",
       "      <th></th>\n",
       "      <th></th>\n",
       "    </tr>\n",
       "  </thead>\n",
       "  <tbody>\n",
       "    <tr>\n",
       "      <th>Checked</th>\n",
       "      <td>22</td>\n",
       "      <td>385</td>\n",
       "      <td>407</td>\n",
       "    </tr>\n",
       "    <tr>\n",
       "      <th>Unchecked</th>\n",
       "      <td>5</td>\n",
       "      <td>276</td>\n",
       "      <td>281</td>\n",
       "    </tr>\n",
       "    <tr>\n",
       "      <th>All</th>\n",
       "      <td>27</td>\n",
       "      <td>661</td>\n",
       "      <td>688</td>\n",
       "    </tr>\n",
       "  </tbody>\n",
       "</table>\n",
       "</div>"
      ],
      "text/plain": [
       "Minor      Checked  Unchecked  All\n",
       "Intro                             \n",
       "Checked         22        385  407\n",
       "Unchecked        5        276  281\n",
       "All             27        661  688"
      ]
     },
     "execution_count": 53,
     "metadata": {},
     "output_type": "execute_result"
    }
   ],
   "source": [
    "Contingency_Table(8,3,\"Intro\",\"Minor\")\n",
    "Contingency_Table_im"
   ]
  },
  {
   "cell_type": "code",
   "execution_count": 54,
   "metadata": {
    "collapsed": false
   },
   "outputs": [
    {
     "name": "stdout",
     "output_type": "stream",
     "text": [
      "There is a significant difference between the distributions\n"
     ]
    }
   ],
   "source": [
    "Chi_Squared(22,385,5,276)"
   ]
  },
  {
   "cell_type": "markdown",
   "metadata": {},
   "source": [
    "### A Certificate?"
   ]
  },
  {
   "cell_type": "code",
   "execution_count": 57,
   "metadata": {
    "collapsed": false
   },
   "outputs": [
    {
     "data": {
      "text/html": [
       "<div>\n",
       "<table border=\"1\" class=\"dataframe\">\n",
       "  <thead>\n",
       "    <tr style=\"text-align: right;\">\n",
       "      <th>Certificate</th>\n",
       "      <th>Checked</th>\n",
       "      <th>Unchecked</th>\n",
       "      <th>All</th>\n",
       "    </tr>\n",
       "    <tr>\n",
       "      <th>Intro</th>\n",
       "      <th></th>\n",
       "      <th></th>\n",
       "      <th></th>\n",
       "    </tr>\n",
       "  </thead>\n",
       "  <tbody>\n",
       "    <tr>\n",
       "      <th>Checked</th>\n",
       "      <td>10</td>\n",
       "      <td>397</td>\n",
       "      <td>407</td>\n",
       "    </tr>\n",
       "    <tr>\n",
       "      <th>Unchecked</th>\n",
       "      <td>5</td>\n",
       "      <td>276</td>\n",
       "      <td>281</td>\n",
       "    </tr>\n",
       "    <tr>\n",
       "      <th>All</th>\n",
       "      <td>15</td>\n",
       "      <td>673</td>\n",
       "      <td>688</td>\n",
       "    </tr>\n",
       "  </tbody>\n",
       "</table>\n",
       "</div>"
      ],
      "text/plain": [
       "Certificate  Checked  Unchecked  All\n",
       "Intro                               \n",
       "Checked           10        397  407\n",
       "Unchecked          5        276  281\n",
       "All               15        673  688"
      ]
     },
     "execution_count": 57,
     "metadata": {},
     "output_type": "execute_result"
    }
   ],
   "source": [
    "Contingency_Table(8,4,\"Intro\",\"Certificate\")\n",
    "Contingency_Table_im"
   ]
  },
  {
   "cell_type": "code",
   "execution_count": 58,
   "metadata": {
    "collapsed": false
   },
   "outputs": [
    {
     "name": "stdout",
     "output_type": "stream",
     "text": [
      "There is no significant difference between the distributions\n"
     ]
    }
   ],
   "source": [
    "Chi_Squared(10,397,5,276)"
   ]
  },
  {
   "cell_type": "markdown",
   "metadata": {},
   "source": [
    "### Some Other Program?"
   ]
  },
  {
   "cell_type": "code",
   "execution_count": 60,
   "metadata": {
    "collapsed": false
   },
   "outputs": [
    {
     "data": {
      "text/html": [
       "<div>\n",
       "<table border=\"1\" class=\"dataframe\">\n",
       "  <thead>\n",
       "    <tr style=\"text-align: right;\">\n",
       "      <th>Other</th>\n",
       "      <th>Checked</th>\n",
       "      <th>Unchecked</th>\n",
       "      <th>All</th>\n",
       "    </tr>\n",
       "    <tr>\n",
       "      <th>Intro</th>\n",
       "      <th></th>\n",
       "      <th></th>\n",
       "      <th></th>\n",
       "    </tr>\n",
       "  </thead>\n",
       "  <tbody>\n",
       "    <tr>\n",
       "      <th>Checked</th>\n",
       "      <td>51</td>\n",
       "      <td>356</td>\n",
       "      <td>407</td>\n",
       "    </tr>\n",
       "    <tr>\n",
       "      <th>Unchecked</th>\n",
       "      <td>27</td>\n",
       "      <td>254</td>\n",
       "      <td>281</td>\n",
       "    </tr>\n",
       "    <tr>\n",
       "      <th>All</th>\n",
       "      <td>78</td>\n",
       "      <td>610</td>\n",
       "      <td>688</td>\n",
       "    </tr>\n",
       "  </tbody>\n",
       "</table>\n",
       "</div>"
      ],
      "text/plain": [
       "Other      Checked  Unchecked  All\n",
       "Intro                             \n",
       "Checked         51        356  407\n",
       "Unchecked       27        254  281\n",
       "All             78        610  688"
      ]
     },
     "execution_count": 60,
     "metadata": {},
     "output_type": "execute_result"
    }
   ],
   "source": [
    "Contingency_Table(8,5,\"Intro\",\"Other\")\n",
    "Contingency_Table_im"
   ]
  },
  {
   "cell_type": "code",
   "execution_count": 61,
   "metadata": {
    "collapsed": false
   },
   "outputs": [
    {
     "name": "stdout",
     "output_type": "stream",
     "text": [
      "There is no significant difference between the distributions\n"
     ]
    }
   ],
   "source": [
    "Chi_Squared(51,356,27,254)"
   ]
  },
  {
   "cell_type": "markdown",
   "metadata": {},
   "source": [
    "## How is Computation Taught?\n",
    "### Through Interactive Activites?"
   ]
  },
  {
   "cell_type": "code",
   "execution_count": 68,
   "metadata": {
    "collapsed": false
   },
   "outputs": [
    {
     "data": {
      "text/html": [
       "<div>\n",
       "<table border=\"1\" class=\"dataframe\">\n",
       "  <thead>\n",
       "    <tr style=\"text-align: right;\">\n",
       "      <th>Activities</th>\n",
       "      <th>No</th>\n",
       "      <th>Yes</th>\n",
       "      <th>All</th>\n",
       "    </tr>\n",
       "    <tr>\n",
       "      <th>Intro</th>\n",
       "      <th></th>\n",
       "      <th></th>\n",
       "      <th></th>\n",
       "    </tr>\n",
       "  </thead>\n",
       "  <tbody>\n",
       "    <tr>\n",
       "      <th>Checked</th>\n",
       "      <td>267</td>\n",
       "      <td>97</td>\n",
       "      <td>364</td>\n",
       "    </tr>\n",
       "    <tr>\n",
       "      <th>Unchecked</th>\n",
       "      <td>197</td>\n",
       "      <td>35</td>\n",
       "      <td>232</td>\n",
       "    </tr>\n",
       "    <tr>\n",
       "      <th>All</th>\n",
       "      <td>464</td>\n",
       "      <td>132</td>\n",
       "      <td>596</td>\n",
       "    </tr>\n",
       "  </tbody>\n",
       "</table>\n",
       "</div>"
      ],
      "text/plain": [
       "Activities   No  Yes  All\n",
       "Intro                    \n",
       "Checked     267   97  364\n",
       "Unchecked   197   35  232\n",
       "All         464  132  596"
      ]
     },
     "execution_count": 68,
     "metadata": {},
     "output_type": "execute_result"
    }
   ],
   "source": [
    "Contingency_Table(8,33,\"Intro\",\"Activities\")\n",
    "Contingency_Table_im"
   ]
  },
  {
   "cell_type": "code",
   "execution_count": 69,
   "metadata": {
    "collapsed": false
   },
   "outputs": [
    {
     "name": "stdout",
     "output_type": "stream",
     "text": [
      "There is a significant difference between the distributions\n"
     ]
    }
   ],
   "source": [
    "Chi_Squared(267,97,197,35)"
   ]
  },
  {
   "cell_type": "markdown",
   "metadata": {},
   "source": [
    "### Answering Exam Questions?"
   ]
  },
  {
   "cell_type": "code",
   "execution_count": 70,
   "metadata": {
    "collapsed": false
   },
   "outputs": [
    {
     "data": {
      "text/html": [
       "<div>\n",
       "<table border=\"1\" class=\"dataframe\">\n",
       "  <thead>\n",
       "    <tr style=\"text-align: right;\">\n",
       "      <th>Exams</th>\n",
       "      <th>No</th>\n",
       "      <th>Yes</th>\n",
       "      <th>All</th>\n",
       "    </tr>\n",
       "    <tr>\n",
       "      <th>Intro</th>\n",
       "      <th></th>\n",
       "      <th></th>\n",
       "      <th></th>\n",
       "    </tr>\n",
       "  </thead>\n",
       "  <tbody>\n",
       "    <tr>\n",
       "      <th>Checked</th>\n",
       "      <td>267</td>\n",
       "      <td>95</td>\n",
       "      <td>362</td>\n",
       "    </tr>\n",
       "    <tr>\n",
       "      <th>Unchecked</th>\n",
       "      <td>195</td>\n",
       "      <td>37</td>\n",
       "      <td>232</td>\n",
       "    </tr>\n",
       "    <tr>\n",
       "      <th>All</th>\n",
       "      <td>462</td>\n",
       "      <td>132</td>\n",
       "      <td>594</td>\n",
       "    </tr>\n",
       "  </tbody>\n",
       "</table>\n",
       "</div>"
      ],
      "text/plain": [
       "Exams       No  Yes  All\n",
       "Intro                   \n",
       "Checked    267   95  362\n",
       "Unchecked  195   37  232\n",
       "All        462  132  594"
      ]
     },
     "execution_count": 70,
     "metadata": {},
     "output_type": "execute_result"
    }
   ],
   "source": [
    "Contingency_Table(8,34,\"Intro\",\"Exams\")\n",
    "Contingency_Table_im"
   ]
  },
  {
   "cell_type": "code",
   "execution_count": 71,
   "metadata": {
    "collapsed": false
   },
   "outputs": [
    {
     "name": "stdout",
     "output_type": "stream",
     "text": [
      "There is a significant difference between the distributions\n"
     ]
    }
   ],
   "source": [
    "Chi_Squared(267,95,195,37)"
   ]
  },
  {
   "cell_type": "markdown",
   "metadata": {},
   "source": [
    "### Creating a Simulation Outside of Class?"
   ]
  },
  {
   "cell_type": "code",
   "execution_count": 72,
   "metadata": {
    "collapsed": false
   },
   "outputs": [
    {
     "data": {
      "text/html": [
       "<div>\n",
       "<table border=\"1\" class=\"dataframe\">\n",
       "  <thead>\n",
       "    <tr style=\"text-align: right;\">\n",
       "      <th>Simulation</th>\n",
       "      <th>No</th>\n",
       "      <th>Yes</th>\n",
       "      <th>All</th>\n",
       "    </tr>\n",
       "    <tr>\n",
       "      <th>Intro</th>\n",
       "      <th></th>\n",
       "      <th></th>\n",
       "      <th></th>\n",
       "    </tr>\n",
       "  </thead>\n",
       "  <tbody>\n",
       "    <tr>\n",
       "      <th>Checked</th>\n",
       "      <td>131</td>\n",
       "      <td>233</td>\n",
       "      <td>364</td>\n",
       "    </tr>\n",
       "    <tr>\n",
       "      <th>Unchecked</th>\n",
       "      <td>115</td>\n",
       "      <td>121</td>\n",
       "      <td>236</td>\n",
       "    </tr>\n",
       "    <tr>\n",
       "      <th>All</th>\n",
       "      <td>246</td>\n",
       "      <td>354</td>\n",
       "      <td>600</td>\n",
       "    </tr>\n",
       "  </tbody>\n",
       "</table>\n",
       "</div>"
      ],
      "text/plain": [
       "Simulation   No  Yes  All\n",
       "Intro                    \n",
       "Checked     131  233  364\n",
       "Unchecked   115  121  236\n",
       "All         246  354  600"
      ]
     },
     "execution_count": 72,
     "metadata": {},
     "output_type": "execute_result"
    }
   ],
   "source": [
    "Contingency_Table(8,37,\"Intro\",\"Simulation\")\n",
    "Contingency_Table_im"
   ]
  },
  {
   "cell_type": "code",
   "execution_count": 73,
   "metadata": {
    "collapsed": false
   },
   "outputs": [
    {
     "name": "stdout",
     "output_type": "stream",
     "text": [
      "There is a significant difference between the distributions\n"
     ]
    }
   ],
   "source": [
    "Chi_Squared(131,233,115,121)"
   ]
  },
  {
   "cell_type": "markdown",
   "metadata": {},
   "source": [
    "## Do Students Have Access to University Owned Workstations?"
   ]
  },
  {
   "cell_type": "code",
   "execution_count": 74,
   "metadata": {
    "collapsed": false
   },
   "outputs": [
    {
     "data": {
      "text/html": [
       "<div>\n",
       "<table border=\"1\" class=\"dataframe\">\n",
       "  <thead>\n",
       "    <tr style=\"text-align: right;\">\n",
       "      <th>Student Workstations</th>\n",
       "      <th>No</th>\n",
       "      <th>Yes</th>\n",
       "      <th>All</th>\n",
       "    </tr>\n",
       "    <tr>\n",
       "      <th>Intro</th>\n",
       "      <th></th>\n",
       "      <th></th>\n",
       "      <th></th>\n",
       "    </tr>\n",
       "  </thead>\n",
       "  <tbody>\n",
       "    <tr>\n",
       "      <th>Checked</th>\n",
       "      <td>29</td>\n",
       "      <td>360</td>\n",
       "      <td>389</td>\n",
       "    </tr>\n",
       "    <tr>\n",
       "      <th>Unchecked</th>\n",
       "      <td>29</td>\n",
       "      <td>232</td>\n",
       "      <td>261</td>\n",
       "    </tr>\n",
       "    <tr>\n",
       "      <th>All</th>\n",
       "      <td>58</td>\n",
       "      <td>592</td>\n",
       "      <td>650</td>\n",
       "    </tr>\n",
       "  </tbody>\n",
       "</table>\n",
       "</div>"
      ],
      "text/plain": [
       "Student Workstations  No  Yes  All\n",
       "Intro                             \n",
       "Checked               29  360  389\n",
       "Unchecked             29  232  261\n",
       "All                   58  592  650"
      ]
     },
     "execution_count": 74,
     "metadata": {},
     "output_type": "execute_result"
    }
   ],
   "source": [
    "Contingency_Table(8,44,\"Intro\",\"Student Workstations\")\n",
    "Contingency_Table_im"
   ]
  },
  {
   "cell_type": "code",
   "execution_count": 75,
   "metadata": {
    "collapsed": false
   },
   "outputs": [
    {
     "name": "stdout",
     "output_type": "stream",
     "text": [
      "There is no significant difference between the distributions\n"
     ]
    }
   ],
   "source": [
    "Chi_Squared(29,360,29,232)"
   ]
  },
  {
   "cell_type": "markdown",
   "metadata": {},
   "source": [
    "## How is the Curriculumn Developed?\n",
    "### Faculty get Release Time"
   ]
  },
  {
   "cell_type": "code",
   "execution_count": 76,
   "metadata": {
    "collapsed": false
   },
   "outputs": [
    {
     "data": {
      "text/html": [
       "<div>\n",
       "<table border=\"1\" class=\"dataframe\">\n",
       "  <thead>\n",
       "    <tr style=\"text-align: right;\">\n",
       "      <th>Faculty Release Time</th>\n",
       "      <th>Checked</th>\n",
       "      <th>Unchecked</th>\n",
       "      <th>All</th>\n",
       "    </tr>\n",
       "    <tr>\n",
       "      <th>Intro</th>\n",
       "      <th></th>\n",
       "      <th></th>\n",
       "      <th></th>\n",
       "    </tr>\n",
       "  </thead>\n",
       "  <tbody>\n",
       "    <tr>\n",
       "      <th>Checked</th>\n",
       "      <td>37</td>\n",
       "      <td>329</td>\n",
       "      <td>366</td>\n",
       "    </tr>\n",
       "    <tr>\n",
       "      <th>Unchecked</th>\n",
       "      <td>17</td>\n",
       "      <td>227</td>\n",
       "      <td>244</td>\n",
       "    </tr>\n",
       "    <tr>\n",
       "      <th>All</th>\n",
       "      <td>54</td>\n",
       "      <td>556</td>\n",
       "      <td>610</td>\n",
       "    </tr>\n",
       "  </tbody>\n",
       "</table>\n",
       "</div>"
      ],
      "text/plain": [
       "Faculty Release Time  Checked  Unchecked  All\n",
       "Intro                                        \n",
       "Checked                    37        329  366\n",
       "Unchecked                  17        227  244\n",
       "All                        54        556  610"
      ]
     },
     "execution_count": 76,
     "metadata": {},
     "output_type": "execute_result"
    }
   ],
   "source": [
    "Contingency_Table(8,65,\"Intro\",\"Faculty Release Time\")\n",
    "Contingency_Table_im"
   ]
  },
  {
   "cell_type": "code",
   "execution_count": 77,
   "metadata": {
    "collapsed": false
   },
   "outputs": [
    {
     "name": "stdout",
     "output_type": "stream",
     "text": [
      "There is no significant difference between the distributions\n"
     ]
    }
   ],
   "source": [
    "Chi_Squared(37,329,17,227)"
   ]
  },
  {
   "cell_type": "markdown",
   "metadata": {},
   "source": [
    "### TAs are Allocated to Teach Computation"
   ]
  },
  {
   "cell_type": "code",
   "execution_count": 78,
   "metadata": {
    "collapsed": false
   },
   "outputs": [
    {
     "data": {
      "text/html": [
       "<div>\n",
       "<table border=\"1\" class=\"dataframe\">\n",
       "  <thead>\n",
       "    <tr style=\"text-align: right;\">\n",
       "      <th>TAs Teach Computation</th>\n",
       "      <th>Checked</th>\n",
       "      <th>Unchecked</th>\n",
       "      <th>All</th>\n",
       "    </tr>\n",
       "    <tr>\n",
       "      <th>Intro</th>\n",
       "      <th></th>\n",
       "      <th></th>\n",
       "      <th></th>\n",
       "    </tr>\n",
       "  </thead>\n",
       "  <tbody>\n",
       "    <tr>\n",
       "      <th>Checked</th>\n",
       "      <td>45</td>\n",
       "      <td>319</td>\n",
       "      <td>364</td>\n",
       "    </tr>\n",
       "    <tr>\n",
       "      <th>Unchecked</th>\n",
       "      <td>17</td>\n",
       "      <td>227</td>\n",
       "      <td>244</td>\n",
       "    </tr>\n",
       "    <tr>\n",
       "      <th>All</th>\n",
       "      <td>62</td>\n",
       "      <td>546</td>\n",
       "      <td>608</td>\n",
       "    </tr>\n",
       "  </tbody>\n",
       "</table>\n",
       "</div>"
      ],
      "text/plain": [
       "TAs Teach Computation  Checked  Unchecked  All\n",
       "Intro                                         \n",
       "Checked                     45        319  364\n",
       "Unchecked                   17        227  244\n",
       "All                         62        546  608"
      ]
     },
     "execution_count": 78,
     "metadata": {},
     "output_type": "execute_result"
    }
   ],
   "source": [
    "Contingency_Table(8,67,\"Intro\",\"TAs Teach Computation\")\n",
    "Contingency_Table_im"
   ]
  },
  {
   "cell_type": "code",
   "execution_count": 79,
   "metadata": {
    "collapsed": false
   },
   "outputs": [
    {
     "name": "stdout",
     "output_type": "stream",
     "text": [
      "There is a significant difference between the distributions\n"
     ]
    }
   ],
   "source": [
    "Chi_Squared(45,319,17,227)"
   ]
  },
  {
   "cell_type": "markdown",
   "metadata": {},
   "source": [
    "### Faculty is Discouraged from Developing Computation"
   ]
  },
  {
   "cell_type": "code",
   "execution_count": 80,
   "metadata": {
    "collapsed": false
   },
   "outputs": [
    {
     "data": {
      "text/html": [
       "<div>\n",
       "<table border=\"1\" class=\"dataframe\">\n",
       "  <thead>\n",
       "    <tr style=\"text-align: right;\">\n",
       "      <th>Faculty is Discouraged</th>\n",
       "      <th>Checked</th>\n",
       "      <th>Unchecked</th>\n",
       "      <th>All</th>\n",
       "    </tr>\n",
       "    <tr>\n",
       "      <th>Intro</th>\n",
       "      <th></th>\n",
       "      <th></th>\n",
       "      <th></th>\n",
       "    </tr>\n",
       "  </thead>\n",
       "  <tbody>\n",
       "    <tr>\n",
       "      <th>Checked</th>\n",
       "      <td>4</td>\n",
       "      <td>360</td>\n",
       "      <td>364</td>\n",
       "    </tr>\n",
       "    <tr>\n",
       "      <th>Unchecked</th>\n",
       "      <td>2</td>\n",
       "      <td>242</td>\n",
       "      <td>244</td>\n",
       "    </tr>\n",
       "    <tr>\n",
       "      <th>All</th>\n",
       "      <td>6</td>\n",
       "      <td>602</td>\n",
       "      <td>608</td>\n",
       "    </tr>\n",
       "  </tbody>\n",
       "</table>\n",
       "</div>"
      ],
      "text/plain": [
       "Faculty is Discouraged  Checked  Unchecked  All\n",
       "Intro                                          \n",
       "Checked                       4        360  364\n",
       "Unchecked                     2        242  244\n",
       "All                           6        602  608"
      ]
     },
     "execution_count": 80,
     "metadata": {},
     "output_type": "execute_result"
    }
   ],
   "source": [
    "Contingency_Table(8,68,\"Intro\",\"Faculty is Discouraged\")\n",
    "Contingency_Table_im"
   ]
  },
  {
   "cell_type": "code",
   "execution_count": 81,
   "metadata": {
    "collapsed": false
   },
   "outputs": [
    {
     "name": "stdout",
     "output_type": "stream",
     "text": [
      "There is no significant difference between the distributions\n"
     ]
    }
   ],
   "source": [
    "Chi_Squared(4,360,2,242)"
   ]
  },
  {
   "cell_type": "markdown",
   "metadata": {},
   "source": [
    "### Department is Apathetic"
   ]
  },
  {
   "cell_type": "code",
   "execution_count": 82,
   "metadata": {
    "collapsed": false
   },
   "outputs": [
    {
     "data": {
      "text/html": [
       "<div>\n",
       "<table border=\"1\" class=\"dataframe\">\n",
       "  <thead>\n",
       "    <tr style=\"text-align: right;\">\n",
       "      <th>Deparment is Apathetic</th>\n",
       "      <th>Checked</th>\n",
       "      <th>Unchecked</th>\n",
       "      <th>All</th>\n",
       "    </tr>\n",
       "    <tr>\n",
       "      <th>Intro</th>\n",
       "      <th></th>\n",
       "      <th></th>\n",
       "      <th></th>\n",
       "    </tr>\n",
       "  </thead>\n",
       "  <tbody>\n",
       "    <tr>\n",
       "      <th>Checked</th>\n",
       "      <td>76</td>\n",
       "      <td>288</td>\n",
       "      <td>364</td>\n",
       "    </tr>\n",
       "    <tr>\n",
       "      <th>Unchecked</th>\n",
       "      <td>69</td>\n",
       "      <td>175</td>\n",
       "      <td>244</td>\n",
       "    </tr>\n",
       "    <tr>\n",
       "      <th>All</th>\n",
       "      <td>145</td>\n",
       "      <td>463</td>\n",
       "      <td>608</td>\n",
       "    </tr>\n",
       "  </tbody>\n",
       "</table>\n",
       "</div>"
      ],
      "text/plain": [
       "Deparment is Apathetic  Checked  Unchecked  All\n",
       "Intro                                          \n",
       "Checked                      76        288  364\n",
       "Unchecked                    69        175  244\n",
       "All                         145        463  608"
      ]
     },
     "execution_count": 82,
     "metadata": {},
     "output_type": "execute_result"
    }
   ],
   "source": [
    "Contingency_Table(8,69,\"Intro\",\"Deparment is Apathetic\")\n",
    "Contingency_Table_im"
   ]
  },
  {
   "cell_type": "code",
   "execution_count": 83,
   "metadata": {
    "collapsed": false
   },
   "outputs": [
    {
     "name": "stdout",
     "output_type": "stream",
     "text": [
      "There is a significant difference between the distributions\n"
     ]
    }
   ],
   "source": [
    "Chi_Squared(76,288,69,175)"
   ]
  },
  {
   "cell_type": "markdown",
   "metadata": {},
   "source": [
    "## What Resources are Given to the Faculty to Teach Computation\n",
    "### Faculty Have Lab Access"
   ]
  },
  {
   "cell_type": "code",
   "execution_count": 84,
   "metadata": {
    "collapsed": false
   },
   "outputs": [
    {
     "data": {
      "text/html": [
       "<div>\n",
       "<table border=\"1\" class=\"dataframe\">\n",
       "  <thead>\n",
       "    <tr style=\"text-align: right;\">\n",
       "      <th>Faculty Lab Access</th>\n",
       "      <th>Checked</th>\n",
       "      <th>Unchecked</th>\n",
       "      <th>All</th>\n",
       "    </tr>\n",
       "    <tr>\n",
       "      <th>Intro</th>\n",
       "      <th></th>\n",
       "      <th></th>\n",
       "      <th></th>\n",
       "    </tr>\n",
       "  </thead>\n",
       "  <tbody>\n",
       "    <tr>\n",
       "      <th>Checked</th>\n",
       "      <td>116</td>\n",
       "      <td>244</td>\n",
       "      <td>360</td>\n",
       "    </tr>\n",
       "    <tr>\n",
       "      <th>Unchecked</th>\n",
       "      <td>68</td>\n",
       "      <td>175</td>\n",
       "      <td>243</td>\n",
       "    </tr>\n",
       "    <tr>\n",
       "      <th>All</th>\n",
       "      <td>184</td>\n",
       "      <td>419</td>\n",
       "      <td>603</td>\n",
       "    </tr>\n",
       "  </tbody>\n",
       "</table>\n",
       "</div>"
      ],
      "text/plain": [
       "Faculty Lab Access  Checked  Unchecked  All\n",
       "Intro                                      \n",
       "Checked                 116        244  360\n",
       "Unchecked                68        175  243\n",
       "All                     184        419  603"
      ]
     },
     "execution_count": 84,
     "metadata": {},
     "output_type": "execute_result"
    }
   ],
   "source": [
    "Contingency_Table(8,70,\"Intro\",\"Faculty Lab Access\")\n",
    "Contingency_Table_im"
   ]
  },
  {
   "cell_type": "code",
   "execution_count": 85,
   "metadata": {
    "collapsed": false
   },
   "outputs": [
    {
     "name": "stdout",
     "output_type": "stream",
     "text": [
      "There is no significant difference between the distributions\n"
     ]
    }
   ],
   "source": [
    "Chi_Squared(116,224,68,175)"
   ]
  },
  {
   "cell_type": "markdown",
   "metadata": {},
   "source": [
    "### Faculty Have Sepcialized Software"
   ]
  },
  {
   "cell_type": "code",
   "execution_count": 86,
   "metadata": {
    "collapsed": false
   },
   "outputs": [
    {
     "data": {
      "text/html": [
       "<div>\n",
       "<table border=\"1\" class=\"dataframe\">\n",
       "  <thead>\n",
       "    <tr style=\"text-align: right;\">\n",
       "      <th>Faculty Have Specialized Software</th>\n",
       "      <th>Checked</th>\n",
       "      <th>Unchecked</th>\n",
       "      <th>All</th>\n",
       "    </tr>\n",
       "    <tr>\n",
       "      <th>Intro</th>\n",
       "      <th></th>\n",
       "      <th></th>\n",
       "      <th></th>\n",
       "    </tr>\n",
       "  </thead>\n",
       "  <tbody>\n",
       "    <tr>\n",
       "      <th>Checked</th>\n",
       "      <td>268</td>\n",
       "      <td>92</td>\n",
       "      <td>360</td>\n",
       "    </tr>\n",
       "    <tr>\n",
       "      <th>Unchecked</th>\n",
       "      <td>160</td>\n",
       "      <td>83</td>\n",
       "      <td>243</td>\n",
       "    </tr>\n",
       "    <tr>\n",
       "      <th>All</th>\n",
       "      <td>428</td>\n",
       "      <td>175</td>\n",
       "      <td>603</td>\n",
       "    </tr>\n",
       "  </tbody>\n",
       "</table>\n",
       "</div>"
      ],
      "text/plain": [
       "Faculty Have Specialized Software  Checked  Unchecked  All\n",
       "Intro                                                     \n",
       "Checked                                268         92  360\n",
       "Unchecked                              160         83  243\n",
       "All                                    428        175  603"
      ]
     },
     "execution_count": 86,
     "metadata": {},
     "output_type": "execute_result"
    }
   ],
   "source": [
    "Contingency_Table(8,71,\"Intro\",\"Faculty Have Specialized Software\")\n",
    "Contingency_Table_im"
   ]
  },
  {
   "cell_type": "code",
   "execution_count": 87,
   "metadata": {
    "collapsed": false
   },
   "outputs": [
    {
     "name": "stdout",
     "output_type": "stream",
     "text": [
      "There is a significant difference between the distributions\n"
     ]
    }
   ],
   "source": [
    "Chi_Squared(268,92,160,83)"
   ]
  },
  {
   "cell_type": "markdown",
   "metadata": {},
   "source": [
    "### Faculty Have Specialized Hardware"
   ]
  },
  {
   "cell_type": "code",
   "execution_count": 89,
   "metadata": {
    "collapsed": false
   },
   "outputs": [
    {
     "data": {
      "text/html": [
       "<div>\n",
       "<table border=\"1\" class=\"dataframe\">\n",
       "  <thead>\n",
       "    <tr style=\"text-align: right;\">\n",
       "      <th>Faculty Have Specialized Hardware</th>\n",
       "      <th>Checked</th>\n",
       "      <th>Unchecked</th>\n",
       "      <th>All</th>\n",
       "    </tr>\n",
       "    <tr>\n",
       "      <th>Intro</th>\n",
       "      <th></th>\n",
       "      <th></th>\n",
       "      <th></th>\n",
       "    </tr>\n",
       "  </thead>\n",
       "  <tbody>\n",
       "    <tr>\n",
       "      <th>Checked</th>\n",
       "      <td>119</td>\n",
       "      <td>241</td>\n",
       "      <td>360</td>\n",
       "    </tr>\n",
       "    <tr>\n",
       "      <th>Unchecked</th>\n",
       "      <td>58</td>\n",
       "      <td>185</td>\n",
       "      <td>243</td>\n",
       "    </tr>\n",
       "    <tr>\n",
       "      <th>All</th>\n",
       "      <td>177</td>\n",
       "      <td>426</td>\n",
       "      <td>603</td>\n",
       "    </tr>\n",
       "  </tbody>\n",
       "</table>\n",
       "</div>"
      ],
      "text/plain": [
       "Faculty Have Specialized Hardware  Checked  Unchecked  All\n",
       "Intro                                                     \n",
       "Checked                                119        241  360\n",
       "Unchecked                               58        185  243\n",
       "All                                    177        426  603"
      ]
     },
     "execution_count": 89,
     "metadata": {},
     "output_type": "execute_result"
    }
   ],
   "source": [
    "Contingency_Table(8,72,\"Intro\",\"Faculty Have Specialized Hardware\")\n",
    "Contingency_Table_im"
   ]
  },
  {
   "cell_type": "code",
   "execution_count": 90,
   "metadata": {
    "collapsed": false
   },
   "outputs": [
    {
     "name": "stdout",
     "output_type": "stream",
     "text": [
      "There is a significant difference between the distributions\n"
     ]
    }
   ],
   "source": [
    "Chi_Squared(119,241,58,185)"
   ]
  },
  {
   "cell_type": "markdown",
   "metadata": {},
   "source": [
    "### Faculty Have Additional Research Funds"
   ]
  },
  {
   "cell_type": "code",
   "execution_count": 91,
   "metadata": {
    "collapsed": false
   },
   "outputs": [
    {
     "data": {
      "text/html": [
       "<div>\n",
       "<table border=\"1\" class=\"dataframe\">\n",
       "  <thead>\n",
       "    <tr style=\"text-align: right;\">\n",
       "      <th>Faculty Have Additional Research Funds</th>\n",
       "      <th>Checked</th>\n",
       "      <th>Unchecked</th>\n",
       "      <th>All</th>\n",
       "    </tr>\n",
       "    <tr>\n",
       "      <th>Intro</th>\n",
       "      <th></th>\n",
       "      <th></th>\n",
       "      <th></th>\n",
       "    </tr>\n",
       "  </thead>\n",
       "  <tbody>\n",
       "    <tr>\n",
       "      <th>Checked</th>\n",
       "      <td>42</td>\n",
       "      <td>318</td>\n",
       "      <td>360</td>\n",
       "    </tr>\n",
       "    <tr>\n",
       "      <th>Unchecked</th>\n",
       "      <td>15</td>\n",
       "      <td>228</td>\n",
       "      <td>243</td>\n",
       "    </tr>\n",
       "    <tr>\n",
       "      <th>All</th>\n",
       "      <td>57</td>\n",
       "      <td>546</td>\n",
       "      <td>603</td>\n",
       "    </tr>\n",
       "  </tbody>\n",
       "</table>\n",
       "</div>"
      ],
      "text/plain": [
       "Faculty Have Additional Research Funds  Checked  Unchecked  All\n",
       "Intro                                                          \n",
       "Checked                                      42        318  360\n",
       "Unchecked                                    15        228  243\n",
       "All                                          57        546  603"
      ]
     },
     "execution_count": 91,
     "metadata": {},
     "output_type": "execute_result"
    }
   ],
   "source": [
    "Contingency_Table(8,73,\"Intro\",\"Faculty Have Additional Research Funds\")\n",
    "Contingency_Table_im"
   ]
  },
  {
   "cell_type": "code",
   "execution_count": 92,
   "metadata": {
    "collapsed": false
   },
   "outputs": [
    {
     "name": "stdout",
     "output_type": "stream",
     "text": [
      "There is a significant difference between the distributions\n"
     ]
    }
   ],
   "source": [
    "Chi_Squared(42,318,15,228)"
   ]
  },
  {
   "cell_type": "markdown",
   "metadata": {},
   "source": [
    "### Faculty Have Training on Computational Physics"
   ]
  },
  {
   "cell_type": "code",
   "execution_count": 93,
   "metadata": {
    "collapsed": false
   },
   "outputs": [
    {
     "data": {
      "text/html": [
       "<div>\n",
       "<table border=\"1\" class=\"dataframe\">\n",
       "  <thead>\n",
       "    <tr style=\"text-align: right;\">\n",
       "      <th>Faculty Have Training on Computation</th>\n",
       "      <th>Checked</th>\n",
       "      <th>Unchecked</th>\n",
       "      <th>All</th>\n",
       "    </tr>\n",
       "    <tr>\n",
       "      <th>Intro</th>\n",
       "      <th></th>\n",
       "      <th></th>\n",
       "      <th></th>\n",
       "    </tr>\n",
       "  </thead>\n",
       "  <tbody>\n",
       "    <tr>\n",
       "      <th>Checked</th>\n",
       "      <td>30</td>\n",
       "      <td>330</td>\n",
       "      <td>360</td>\n",
       "    </tr>\n",
       "    <tr>\n",
       "      <th>Unchecked</th>\n",
       "      <td>12</td>\n",
       "      <td>231</td>\n",
       "      <td>243</td>\n",
       "    </tr>\n",
       "    <tr>\n",
       "      <th>All</th>\n",
       "      <td>42</td>\n",
       "      <td>561</td>\n",
       "      <td>603</td>\n",
       "    </tr>\n",
       "  </tbody>\n",
       "</table>\n",
       "</div>"
      ],
      "text/plain": [
       "Faculty Have Training on Computation  Checked  Unchecked  All\n",
       "Intro                                                        \n",
       "Checked                                    30        330  360\n",
       "Unchecked                                  12        231  243\n",
       "All                                        42        561  603"
      ]
     },
     "execution_count": 93,
     "metadata": {},
     "output_type": "execute_result"
    }
   ],
   "source": [
    "Contingency_Table(8,75,\"Intro\",\"Faculty Have Training on Computation\")\n",
    "Contingency_Table_im"
   ]
  },
  {
   "cell_type": "code",
   "execution_count": 94,
   "metadata": {
    "collapsed": false
   },
   "outputs": [
    {
     "name": "stdout",
     "output_type": "stream",
     "text": [
      "There is no significant difference between the distributions\n"
     ]
    }
   ],
   "source": [
    "Chi_Squared(30,330,12,231)"
   ]
  },
  {
   "cell_type": "markdown",
   "metadata": {},
   "source": [
    "### Faculty Are Given Stipends"
   ]
  },
  {
   "cell_type": "code",
   "execution_count": 95,
   "metadata": {
    "collapsed": false
   },
   "outputs": [
    {
     "data": {
      "text/html": [
       "<div>\n",
       "<table border=\"1\" class=\"dataframe\">\n",
       "  <thead>\n",
       "    <tr style=\"text-align: right;\">\n",
       "      <th>Faculty Have Stipends</th>\n",
       "      <th>Checked</th>\n",
       "      <th>Unchecked</th>\n",
       "      <th>All</th>\n",
       "    </tr>\n",
       "    <tr>\n",
       "      <th>Intro</th>\n",
       "      <th></th>\n",
       "      <th></th>\n",
       "      <th></th>\n",
       "    </tr>\n",
       "  </thead>\n",
       "  <tbody>\n",
       "    <tr>\n",
       "      <th>Checked</th>\n",
       "      <td>21</td>\n",
       "      <td>339</td>\n",
       "      <td>360</td>\n",
       "    </tr>\n",
       "    <tr>\n",
       "      <th>Unchecked</th>\n",
       "      <td>8</td>\n",
       "      <td>235</td>\n",
       "      <td>243</td>\n",
       "    </tr>\n",
       "    <tr>\n",
       "      <th>All</th>\n",
       "      <td>29</td>\n",
       "      <td>574</td>\n",
       "      <td>603</td>\n",
       "    </tr>\n",
       "  </tbody>\n",
       "</table>\n",
       "</div>"
      ],
      "text/plain": [
       "Faculty Have Stipends  Checked  Unchecked  All\n",
       "Intro                                         \n",
       "Checked                     21        339  360\n",
       "Unchecked                    8        235  243\n",
       "All                         29        574  603"
      ]
     },
     "execution_count": 95,
     "metadata": {},
     "output_type": "execute_result"
    }
   ],
   "source": [
    "Contingency_Table(8,77,\"Intro\",\"Faculty Have Stipends\")\n",
    "Contingency_Table_im"
   ]
  },
  {
   "cell_type": "code",
   "execution_count": 96,
   "metadata": {
    "collapsed": false
   },
   "outputs": [
    {
     "name": "stdout",
     "output_type": "stream",
     "text": [
      "There is no significant difference between the distributions\n"
     ]
    }
   ],
   "source": [
    "Chi_Squared(21,339,8,235)"
   ]
  },
  {
   "cell_type": "markdown",
   "metadata": {},
   "source": [
    "## What Resources are Given to the Students to Learn Computation\n",
    "### Lab Access"
   ]
  },
  {
   "cell_type": "code",
   "execution_count": 97,
   "metadata": {
    "collapsed": false
   },
   "outputs": [
    {
     "data": {
      "text/html": [
       "<div>\n",
       "<table border=\"1\" class=\"dataframe\">\n",
       "  <thead>\n",
       "    <tr style=\"text-align: right;\">\n",
       "      <th>Student Lab Access</th>\n",
       "      <th>No</th>\n",
       "      <th>Yes</th>\n",
       "      <th>All</th>\n",
       "    </tr>\n",
       "    <tr>\n",
       "      <th>Intro</th>\n",
       "      <th></th>\n",
       "      <th></th>\n",
       "      <th></th>\n",
       "    </tr>\n",
       "  </thead>\n",
       "  <tbody>\n",
       "    <tr>\n",
       "      <th>Checked</th>\n",
       "      <td>60</td>\n",
       "      <td>310</td>\n",
       "      <td>370</td>\n",
       "    </tr>\n",
       "    <tr>\n",
       "      <th>Unchecked</th>\n",
       "      <td>55</td>\n",
       "      <td>190</td>\n",
       "      <td>245</td>\n",
       "    </tr>\n",
       "    <tr>\n",
       "      <th>All</th>\n",
       "      <td>115</td>\n",
       "      <td>500</td>\n",
       "      <td>615</td>\n",
       "    </tr>\n",
       "  </tbody>\n",
       "</table>\n",
       "</div>"
      ],
      "text/plain": [
       "Student Lab Access   No  Yes  All\n",
       "Intro                            \n",
       "Checked              60  310  370\n",
       "Unchecked            55  190  245\n",
       "All                 115  500  615"
      ]
     },
     "execution_count": 97,
     "metadata": {},
     "output_type": "execute_result"
    }
   ],
   "source": [
    "Contingency_Table(8,82,\"Intro\",\"Student Lab Access\")\n",
    "Contingency_Table_im"
   ]
  },
  {
   "cell_type": "code",
   "execution_count": 98,
   "metadata": {
    "collapsed": false
   },
   "outputs": [
    {
     "name": "stdout",
     "output_type": "stream",
     "text": [
      "There is no significant difference between the distributions\n"
     ]
    }
   ],
   "source": [
    "Chi_Squared(60,310,55,190)"
   ]
  },
  {
   "cell_type": "markdown",
   "metadata": {},
   "source": [
    "### Other"
   ]
  },
  {
   "cell_type": "code",
   "execution_count": 99,
   "metadata": {
    "collapsed": false
   },
   "outputs": [
    {
     "data": {
      "text/html": [
       "<div>\n",
       "<table border=\"1\" class=\"dataframe\">\n",
       "  <thead>\n",
       "    <tr style=\"text-align: right;\">\n",
       "      <th>Other Form of Support</th>\n",
       "      <th>No</th>\n",
       "      <th>Yes</th>\n",
       "      <th>All</th>\n",
       "    </tr>\n",
       "    <tr>\n",
       "      <th>Intro</th>\n",
       "      <th></th>\n",
       "      <th></th>\n",
       "      <th></th>\n",
       "    </tr>\n",
       "  </thead>\n",
       "  <tbody>\n",
       "    <tr>\n",
       "      <th>Checked</th>\n",
       "      <td>353</td>\n",
       "      <td>17</td>\n",
       "      <td>370</td>\n",
       "    </tr>\n",
       "    <tr>\n",
       "      <th>Unchecked</th>\n",
       "      <td>240</td>\n",
       "      <td>5</td>\n",
       "      <td>245</td>\n",
       "    </tr>\n",
       "    <tr>\n",
       "      <th>All</th>\n",
       "      <td>593</td>\n",
       "      <td>22</td>\n",
       "      <td>615</td>\n",
       "    </tr>\n",
       "  </tbody>\n",
       "</table>\n",
       "</div>"
      ],
      "text/plain": [
       "Other Form of Support   No  Yes  All\n",
       "Intro                               \n",
       "Checked                353   17  370\n",
       "Unchecked              240    5  245\n",
       "All                    593   22  615"
      ]
     },
     "execution_count": 99,
     "metadata": {},
     "output_type": "execute_result"
    }
   ],
   "source": [
    "Contingency_Table(8,88,\"Intro\",\"Other Form of Support\")\n",
    "Contingency_Table_im"
   ]
  },
  {
   "cell_type": "code",
   "execution_count": 100,
   "metadata": {
    "collapsed": false
   },
   "outputs": [
    {
     "name": "stdout",
     "output_type": "stream",
     "text": [
      "There is no significant difference between the distributions\n"
     ]
    }
   ],
   "source": [
    "Chi_Squared(353,17,240,5)"
   ]
  },
  {
   "cell_type": "markdown",
   "metadata": {},
   "source": [
    "## What is Your Motivation for Teaching Computation\n",
    "### Personal Research Interest"
   ]
  },
  {
   "cell_type": "code",
   "execution_count": 101,
   "metadata": {
    "collapsed": false
   },
   "outputs": [
    {
     "data": {
      "text/html": [
       "<div>\n",
       "<table border=\"1\" class=\"dataframe\">\n",
       "  <thead>\n",
       "    <tr style=\"text-align: right;\">\n",
       "      <th>Faculty Ressearch Interest</th>\n",
       "      <th>Checked</th>\n",
       "      <th>Unchecked</th>\n",
       "      <th>All</th>\n",
       "    </tr>\n",
       "    <tr>\n",
       "      <th>Intro</th>\n",
       "      <th></th>\n",
       "      <th></th>\n",
       "      <th></th>\n",
       "    </tr>\n",
       "  </thead>\n",
       "  <tbody>\n",
       "    <tr>\n",
       "      <th>Checked</th>\n",
       "      <td>229</td>\n",
       "      <td>140</td>\n",
       "      <td>369</td>\n",
       "    </tr>\n",
       "    <tr>\n",
       "      <th>Unchecked</th>\n",
       "      <td>171</td>\n",
       "      <td>76</td>\n",
       "      <td>247</td>\n",
       "    </tr>\n",
       "    <tr>\n",
       "      <th>All</th>\n",
       "      <td>400</td>\n",
       "      <td>216</td>\n",
       "      <td>616</td>\n",
       "    </tr>\n",
       "  </tbody>\n",
       "</table>\n",
       "</div>"
      ],
      "text/plain": [
       "Faculty Ressearch Interest  Checked  Unchecked  All\n",
       "Intro                                              \n",
       "Checked                         229        140  369\n",
       "Unchecked                       171         76  247\n",
       "All                             400        216  616"
      ]
     },
     "execution_count": 101,
     "metadata": {},
     "output_type": "execute_result"
    }
   ],
   "source": [
    "Contingency_Table(8,91,\"Intro\",\"Faculty Ressearch Interest\")\n",
    "Contingency_Table_im"
   ]
  },
  {
   "cell_type": "code",
   "execution_count": 102,
   "metadata": {
    "collapsed": false
   },
   "outputs": [
    {
     "name": "stdout",
     "output_type": "stream",
     "text": [
      "There is no significant difference between the distributions\n"
     ]
    }
   ],
   "source": [
    "Chi_Squared(299,140,171,76)"
   ]
  },
  {
   "cell_type": "markdown",
   "metadata": {},
   "source": [
    "### Computation is the Future of Physics"
   ]
  },
  {
   "cell_type": "code",
   "execution_count": 103,
   "metadata": {
    "collapsed": false
   },
   "outputs": [
    {
     "data": {
      "text/html": [
       "<div>\n",
       "<table border=\"1\" class=\"dataframe\">\n",
       "  <thead>\n",
       "    <tr style=\"text-align: right;\">\n",
       "      <th>Computation is the Future</th>\n",
       "      <th>Checked</th>\n",
       "      <th>Unchecked</th>\n",
       "      <th>All</th>\n",
       "    </tr>\n",
       "    <tr>\n",
       "      <th>Intro</th>\n",
       "      <th></th>\n",
       "      <th></th>\n",
       "      <th></th>\n",
       "    </tr>\n",
       "  </thead>\n",
       "  <tbody>\n",
       "    <tr>\n",
       "      <th>Checked</th>\n",
       "      <td>184</td>\n",
       "      <td>185</td>\n",
       "      <td>369</td>\n",
       "    </tr>\n",
       "    <tr>\n",
       "      <th>Unchecked</th>\n",
       "      <td>95</td>\n",
       "      <td>152</td>\n",
       "      <td>247</td>\n",
       "    </tr>\n",
       "    <tr>\n",
       "      <th>All</th>\n",
       "      <td>279</td>\n",
       "      <td>337</td>\n",
       "      <td>616</td>\n",
       "    </tr>\n",
       "  </tbody>\n",
       "</table>\n",
       "</div>"
      ],
      "text/plain": [
       "Computation is the Future  Checked  Unchecked  All\n",
       "Intro                                             \n",
       "Checked                        184        185  369\n",
       "Unchecked                       95        152  247\n",
       "All                            279        337  616"
      ]
     },
     "execution_count": 103,
     "metadata": {},
     "output_type": "execute_result"
    }
   ],
   "source": [
    "Contingency_Table(8,93,\"Intro\",\"Computation is the Future\")\n",
    "Contingency_Table_im"
   ]
  },
  {
   "cell_type": "code",
   "execution_count": 104,
   "metadata": {
    "collapsed": false
   },
   "outputs": [
    {
     "name": "stdout",
     "output_type": "stream",
     "text": [
      "There is a significant difference between the distributions\n"
     ]
    }
   ],
   "source": [
    "Chi_Squared(184,185,95,152)"
   ]
  },
  {
   "cell_type": "markdown",
   "metadata": {},
   "source": [
    "### Department Rewards"
   ]
  },
  {
   "cell_type": "code",
   "execution_count": 105,
   "metadata": {
    "collapsed": false
   },
   "outputs": [
    {
     "data": {
      "text/html": [
       "<div>\n",
       "<table border=\"1\" class=\"dataframe\">\n",
       "  <thead>\n",
       "    <tr style=\"text-align: right;\">\n",
       "      <th>Department Rewards</th>\n",
       "      <th>Checked</th>\n",
       "      <th>Unchecked</th>\n",
       "      <th>All</th>\n",
       "    </tr>\n",
       "    <tr>\n",
       "      <th>Intro</th>\n",
       "      <th></th>\n",
       "      <th></th>\n",
       "      <th></th>\n",
       "    </tr>\n",
       "  </thead>\n",
       "  <tbody>\n",
       "    <tr>\n",
       "      <th>Checked</th>\n",
       "      <td>5</td>\n",
       "      <td>364</td>\n",
       "      <td>369</td>\n",
       "    </tr>\n",
       "    <tr>\n",
       "      <th>Unchecked</th>\n",
       "      <td>2</td>\n",
       "      <td>245</td>\n",
       "      <td>247</td>\n",
       "    </tr>\n",
       "    <tr>\n",
       "      <th>All</th>\n",
       "      <td>7</td>\n",
       "      <td>609</td>\n",
       "      <td>616</td>\n",
       "    </tr>\n",
       "  </tbody>\n",
       "</table>\n",
       "</div>"
      ],
      "text/plain": [
       "Department Rewards  Checked  Unchecked  All\n",
       "Intro                                      \n",
       "Checked                   5        364  369\n",
       "Unchecked                 2        245  247\n",
       "All                       7        609  616"
      ]
     },
     "execution_count": 105,
     "metadata": {},
     "output_type": "execute_result"
    }
   ],
   "source": [
    "Contingency_Table(8,96,\"Intro\",\"Department Rewards\")\n",
    "Contingency_Table_im"
   ]
  },
  {
   "cell_type": "code",
   "execution_count": 106,
   "metadata": {
    "collapsed": false
   },
   "outputs": [
    {
     "name": "stdout",
     "output_type": "stream",
     "text": [
      "There is no significant difference between the distributions\n"
     ]
    }
   ],
   "source": [
    "Chi_Squared(5,364,2,245)"
   ]
  },
  {
   "cell_type": "markdown",
   "metadata": {},
   "source": [
    "### Computation is the Best Way to Learn Physics"
   ]
  },
  {
   "cell_type": "code",
   "execution_count": 107,
   "metadata": {
    "collapsed": false
   },
   "outputs": [
    {
     "data": {
      "text/html": [
       "<div>\n",
       "<table border=\"1\" class=\"dataframe\">\n",
       "  <thead>\n",
       "    <tr style=\"text-align: right;\">\n",
       "      <th>Best Way to Learn Physics</th>\n",
       "      <th>Checked</th>\n",
       "      <th>Unchecked</th>\n",
       "      <th>All</th>\n",
       "    </tr>\n",
       "    <tr>\n",
       "      <th>Intro</th>\n",
       "      <th></th>\n",
       "      <th></th>\n",
       "      <th></th>\n",
       "    </tr>\n",
       "  </thead>\n",
       "  <tbody>\n",
       "    <tr>\n",
       "      <th>Checked</th>\n",
       "      <td>86</td>\n",
       "      <td>283</td>\n",
       "      <td>369</td>\n",
       "    </tr>\n",
       "    <tr>\n",
       "      <th>Unchecked</th>\n",
       "      <td>35</td>\n",
       "      <td>212</td>\n",
       "      <td>247</td>\n",
       "    </tr>\n",
       "    <tr>\n",
       "      <th>All</th>\n",
       "      <td>121</td>\n",
       "      <td>495</td>\n",
       "      <td>616</td>\n",
       "    </tr>\n",
       "  </tbody>\n",
       "</table>\n",
       "</div>"
      ],
      "text/plain": [
       "Best Way to Learn Physics  Checked  Unchecked  All\n",
       "Intro                                             \n",
       "Checked                         86        283  369\n",
       "Unchecked                       35        212  247\n",
       "All                            121        495  616"
      ]
     },
     "execution_count": 107,
     "metadata": {},
     "output_type": "execute_result"
    }
   ],
   "source": [
    "Contingency_Table(8,97,\"Intro\",\"Best Way to Learn Physics\")\n",
    "Contingency_Table_im"
   ]
  },
  {
   "cell_type": "code",
   "execution_count": 108,
   "metadata": {
    "collapsed": false
   },
   "outputs": [
    {
     "name": "stdout",
     "output_type": "stream",
     "text": [
      "There is a significant difference between the distributions\n"
     ]
    }
   ],
   "source": [
    "Chi_Squared(86,283,35,212)"
   ]
  }
 ],
 "metadata": {
  "kernelspec": {
   "display_name": "Python [conda root]",
   "language": "python",
   "name": "conda-root-py"
  },
  "language_info": {
   "codemirror_mode": {
    "name": "ipython",
    "version": 3
   },
   "file_extension": ".py",
   "mimetype": "text/x-python",
   "name": "python",
   "nbconvert_exporter": "python",
   "pygments_lexer": "ipython3",
   "version": "3.5.2"
  }
 },
 "nbformat": 4,
 "nbformat_minor": 1
}
