{
 "cells": [
  {
   "cell_type": "code",
   "execution_count": 10,
   "metadata": {
    "collapsed": true
   },
   "outputs": [],
   "source": [
    "import pandas as pd\n",
    "import numpy as np\n",
    "import matplotlib.pyplot as plt\n",
    "%matplotlib inline\n",
    "from scipy import stats\n",
    "import seaborn as sns"
   ]
  },
  {
   "cell_type": "code",
   "execution_count": 11,
   "metadata": {
    "collapsed": true
   },
   "outputs": [],
   "source": [
    "#importing the data in two different formats\n",
    "data_excel=pd.ExcelFile('Computational Data Without Identifiers.xlsx')\n",
    "data_csv=pd.read_csv('Computational Data Without Identifiers.csv')\n",
    "data=pd.read_excel('PERL Research Data.xlsx')"
   ]
  },
  {
   "cell_type": "code",
   "execution_count": 29,
   "metadata": {
    "collapsed": false
   },
   "outputs": [
    {
     "name": "stdout",
     "output_type": "stream",
     "text": [
      "688\n",
      "688\n"
     ]
    }
   ],
   "source": [
    "# Initialize an empty list\n",
    "#loop through the two columns you want to\n",
    "#append the rows from a particular column to the empty list\n",
    "#print the new list to confirm it is the correct list. Both lengths should be the same.\n",
    "\n",
    "How_Taught_Advanced_Course = []\n",
    "for row,row2 in zip(data.values[:,11],data.values[:,2]):\n",
    "    if row == \"Checked\" and row2 ==\"Checked\" or row == \"Unchecked\" and row2 == \"Checked\" or row == \"Checked\" and row2 == \"Unchecked\" or row == \"Unchecked\" and row2 == \"Unchecked\":\n",
    "        How_Taught_Advanced_Course.append(row)\n",
    "print(len(How_Taught_Advanced_Course))\n",
    "\n",
    "\n",
    "Deg_Comp_Phy_YN = []\n",
    "for row,row2 in zip(data.values[:,2],data.values[:,11]):\n",
    "    if row == \"Checked\" and row2 ==\"Checked\" or row == \"Unchecked\" and row2 == \"Checked\" or row == \"Checked\" and row2 == \"Unchecked\" or row == \"Unchecked\" and row2 == \"Unchecked\":\n",
    "        Deg_Comp_Phy_YN.append(row)\n",
    "print(len(Deg_Comp_Phy_YN))"
   ]
  },
  {
   "cell_type": "code",
   "execution_count": 30,
   "metadata": {
    "collapsed": false
   },
   "outputs": [
    {
     "data": {
      "text/html": [
       "<div>\n",
       "<table border=\"1\" class=\"dataframe\">\n",
       "  <thead>\n",
       "    <tr style=\"text-align: right;\">\n",
       "      <th>deg</th>\n",
       "      <th>Checked</th>\n",
       "      <th>Unchecked</th>\n",
       "      <th>All</th>\n",
       "    </tr>\n",
       "    <tr>\n",
       "      <th>adv</th>\n",
       "      <th></th>\n",
       "      <th></th>\n",
       "      <th></th>\n",
       "    </tr>\n",
       "  </thead>\n",
       "  <tbody>\n",
       "    <tr>\n",
       "      <th>Checked</th>\n",
       "      <td>75</td>\n",
       "      <td>460</td>\n",
       "      <td>535</td>\n",
       "    </tr>\n",
       "    <tr>\n",
       "      <th>Unchecked</th>\n",
       "      <td>5</td>\n",
       "      <td>148</td>\n",
       "      <td>153</td>\n",
       "    </tr>\n",
       "    <tr>\n",
       "      <th>All</th>\n",
       "      <td>80</td>\n",
       "      <td>608</td>\n",
       "      <td>688</td>\n",
       "    </tr>\n",
       "  </tbody>\n",
       "</table>\n",
       "</div>"
      ],
      "text/plain": [
       "deg        Checked  Unchecked  All\n",
       "adv                               \n",
       "Checked         75        460  535\n",
       "Unchecked        5        148  153\n",
       "All             80        608  688"
      ]
     },
     "execution_count": 30,
     "metadata": {},
     "output_type": "execute_result"
    }
   ],
   "source": [
    "#create a dataframe from the list. Reshape the size to the length of the list.\n",
    "#define your dataframe column headers\n",
    "#create the contingency table using your column headers\n",
    "df = pd.DataFrame(np.array(How_Taught_Advanced_Course).reshape(688,1))\n",
    "df.columns=['adv']\n",
    "df2 = pd.DataFrame(np.array(Deg_Comp_Phy_YN).reshape(688,1))\n",
    "df2.columns=['deg']\n",
    "Contingency_Table = pd.crosstab(index=df[\"adv\"], \n",
    "                            columns=df2[\"deg\"],\n",
    "                             margins=True)   # Include row and column totals\n",
    "\n",
    "Contingency_Table"
   ]
  }
 ],
 "metadata": {
  "kernelspec": {
   "display_name": "Python 3",
   "language": "python",
   "name": "python3"
  },
  "language_info": {
   "codemirror_mode": {
    "name": "ipython",
    "version": 3
   },
   "file_extension": ".py",
   "mimetype": "text/x-python",
   "name": "python",
   "nbconvert_exporter": "python",
   "pygments_lexer": "ipython3",
   "version": "3.6.0"
  }
 },
 "nbformat": 4,
 "nbformat_minor": 2
}
