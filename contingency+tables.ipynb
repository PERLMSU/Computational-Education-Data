{
 "cells": [
  {
   "cell_type": "code",
   "execution_count": 46,
   "metadata": {
    "collapsed": true
   },
   "outputs": [],
   "source": [
    "import pandas as pd\n",
    "import numpy as np\n",
    "import matplotlib.pyplot as plt\n",
    "%matplotlib inline\n",
    "from scipy import stats\n",
    "import seaborn as sns"
   ]
  },
  {
   "cell_type": "code",
   "execution_count": 47,
   "metadata": {
    "collapsed": true
   },
   "outputs": [],
   "source": [
    "#importing the data in two different formats\n",
    "data_excel=pd.ExcelFile('Computational Data Without Identifiers.xlsx')\n",
    "data_csv=pd.read_csv('Computational Data Without Identifiers.csv')\n",
    "data=pd.read_excel('PERL Research Data.xlsx')"
   ]
  },
  {
   "cell_type": "code",
   "execution_count": 61,
   "metadata": {
    "collapsed": false
   },
   "outputs": [
    {
     "name": "stdout",
     "output_type": "stream",
     "text": [
      "690\n",
      "718\n"
     ]
    },
    {
     "data": {
      "text/plain": [
       "636"
      ]
     },
     "execution_count": 61,
     "metadata": {},
     "output_type": "execute_result"
    }
   ],
   "source": [
    "# Deg_Comp_Phy_YN = []\n",
    "# data[\"Which of the following programs in computational physics are offered as part of the undergraduate curriculum? -A BS/BA degree in computational physics\"]\n",
    "# for row in data[\"Which of the following programs in computational physics are offered as part of the undergraduate curriculum? -A BS/BA degree in computational physics\"]:\n",
    "#     print(row)\n",
    "# #     if row != \"Checked\" and row != \"Unchecked\":\n",
    "# #         data.drop(data.index[row])\n",
    "\n",
    "\n",
    "How_Taught_Advanced_Course = []\n",
    "for row in data.values[:,11]:\n",
    "    if row == \"Checked\" or row == \"Unchecked\":\n",
    "        How_Taught_Advanced_Course.append(row)\n",
    "print(len(How_Taught_Advanced_Course))\n",
    "\n",
    "Deg_Comp_Phy_YN = []\n",
    "for row in data.values[:,2]:\n",
    "    if row == \"Checked\" or row == \"Unchecked\":\n",
    "        Deg_Comp_Phy_YN.append(row)\n",
    "print(len(Deg_Comp_Phy_YN))\n",
    "Deg_Comp_Phy_YN.count('Unchecked')"
   ]
  },
  {
   "cell_type": "code",
   "execution_count": 62,
   "metadata": {
    "collapsed": false
   },
   "outputs": [
    {
     "data": {
      "text/html": [
       "<div>\n",
       "<table border=\"1\" class=\"dataframe\">\n",
       "  <thead>\n",
       "    <tr style=\"text-align: right;\">\n",
       "      <th>deg</th>\n",
       "      <th>Checked</th>\n",
       "      <th>Unchecked</th>\n",
       "      <th>All</th>\n",
       "    </tr>\n",
       "    <tr>\n",
       "      <th>adv</th>\n",
       "      <th></th>\n",
       "      <th></th>\n",
       "      <th></th>\n",
       "    </tr>\n",
       "  </thead>\n",
       "  <tbody>\n",
       "    <tr>\n",
       "      <th>Checked</th>\n",
       "      <td>60</td>\n",
       "      <td>476</td>\n",
       "      <td>536</td>\n",
       "    </tr>\n",
       "    <tr>\n",
       "      <th>Unchecked</th>\n",
       "      <td>18</td>\n",
       "      <td>136</td>\n",
       "      <td>154</td>\n",
       "    </tr>\n",
       "    <tr>\n",
       "      <th>All</th>\n",
       "      <td>78</td>\n",
       "      <td>612</td>\n",
       "      <td>690</td>\n",
       "    </tr>\n",
       "  </tbody>\n",
       "</table>\n",
       "</div>"
      ],
      "text/plain": [
       "deg        Checked  Unchecked  All\n",
       "adv                               \n",
       "Checked         60        476  536\n",
       "Unchecked       18        136  154\n",
       "All             78        612  690"
      ]
     },
     "execution_count": 62,
     "metadata": {},
     "output_type": "execute_result"
    }
   ],
   "source": [
    "df = pd.DataFrame(np.array(How_Taught_Advanced_Course).reshape(690,1))\n",
    "df.columns=['adv']\n",
    "#print (df)\n",
    "df2 = pd.DataFrame(np.array(Deg_Comp_Phy_YN).reshape(718,1))\n",
    "df2.columns=['deg']\n",
    "#print (df2)\n",
    "survived_class = pd.crosstab(index=df[\"adv\"], \n",
    "                            columns=df2[\"deg\"],\n",
    "                             margins=True)   # Include row and column totals\n",
    "\n",
    "# survived_class.columns = [\"class1\",\"class2\",\"rowtotal\"]\n",
    "# survived_class.index= [\"died\",\"survived\",\"coltotal\"]\n",
    "\n",
    "survived_class"
   ]
  },
  {
   "cell_type": "code",
   "execution_count": 54,
   "metadata": {
    "collapsed": false
   },
   "outputs": [
    {
     "data": {
      "text/html": [
       "<div>\n",
       "<table border=\"1\" class=\"dataframe\">\n",
       "  <thead>\n",
       "    <tr style=\"text-align: right;\">\n",
       "      <th>col_0</th>\n",
       "      <th>count</th>\n",
       "    </tr>\n",
       "    <tr>\n",
       "      <th>deg</th>\n",
       "      <th></th>\n",
       "    </tr>\n",
       "  </thead>\n",
       "  <tbody>\n",
       "    <tr>\n",
       "      <th>Checked</th>\n",
       "      <td>82</td>\n",
       "    </tr>\n",
       "    <tr>\n",
       "      <th>Unchecked</th>\n",
       "      <td>636</td>\n",
       "    </tr>\n",
       "  </tbody>\n",
       "</table>\n",
       "</div>"
      ],
      "text/plain": [
       "col_0      count\n",
       "deg             \n",
       "Checked       82\n",
       "Unchecked    636"
      ]
     },
     "execution_count": 54,
     "metadata": {},
     "output_type": "execute_result"
    }
   ],
   "source": [
    "my_tab = pd.crosstab(index=df2[\"deg\"],  # Make a crosstab\n",
    "                              columns=\"count\")      # Name the count column\n",
    "\n",
    "my_tab"
   ]
  },
  {
   "cell_type": "code",
   "execution_count": 55,
   "metadata": {
    "collapsed": false
   },
   "outputs": [
    {
     "data": {
      "text/html": [
       "<div>\n",
       "<table border=\"1\" class=\"dataframe\">\n",
       "  <thead>\n",
       "    <tr style=\"text-align: right;\">\n",
       "      <th>col_0</th>\n",
       "      <th>count</th>\n",
       "    </tr>\n",
       "    <tr>\n",
       "      <th>adv</th>\n",
       "      <th></th>\n",
       "    </tr>\n",
       "  </thead>\n",
       "  <tbody>\n",
       "    <tr>\n",
       "      <th>Checked</th>\n",
       "      <td>536</td>\n",
       "    </tr>\n",
       "    <tr>\n",
       "      <th>Unchecked</th>\n",
       "      <td>154</td>\n",
       "    </tr>\n",
       "  </tbody>\n",
       "</table>\n",
       "</div>"
      ],
      "text/plain": [
       "col_0      count\n",
       "adv             \n",
       "Checked      536\n",
       "Unchecked    154"
      ]
     },
     "execution_count": 55,
     "metadata": {},
     "output_type": "execute_result"
    }
   ],
   "source": [
    "my_tab = pd.crosstab(index=df[\"adv\"],  # Make a crosstab\n",
    "                              columns=\"count\")      # Name the count column\n",
    "\n",
    "my_tab"
   ]
  },
  {
   "cell_type": "code",
   "execution_count": 8,
   "metadata": {
    "collapsed": false
   },
   "outputs": [
    {
     "name": "stdout",
     "output_type": "stream",
     "text": [
      "cool\n",
      "cool\n",
      "not cool\n",
      "not cool\n",
      "not cool\n"
     ]
    }
   ],
   "source": []
  },
  {
   "cell_type": "code",
   "execution_count": null,
   "metadata": {
    "collapsed": true
   },
   "outputs": [],
   "source": []
  }
 ],
 "metadata": {
  "kernelspec": {
   "display_name": "Python 3",
   "language": "python",
   "name": "python3"
  },
  "language_info": {
   "codemirror_mode": {
    "name": "ipython",
    "version": 3
   },
   "file_extension": ".py",
   "mimetype": "text/x-python",
   "name": "python",
   "nbconvert_exporter": "python",
   "pygments_lexer": "ipython3",
   "version": "3.6.0"
  }
 },
 "nbformat": 4,
 "nbformat_minor": 2
}
