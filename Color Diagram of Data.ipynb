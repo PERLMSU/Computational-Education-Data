{
 "cells": [
  {
   "cell_type": "markdown",
   "metadata": {},
   "source": [
    "# Color Diagram of Data"
   ]
  },
  {
   "cell_type": "code",
   "execution_count": 1,
   "metadata": {
    "collapsed": true
   },
   "outputs": [],
   "source": [
    "import pandas as pd\n",
    "import numpy as np\n",
    "import seaborn as sns\n",
    "import matplotlib.pyplot as plt\n",
    "%matplotlib inline\n",
    "from scipy import stats"
   ]
  },
  {
   "cell_type": "code",
   "execution_count": 2,
   "metadata": {
    "collapsed": true
   },
   "outputs": [],
   "source": [
    "#importing the uncleaned data\n",
    "data_uncleaned=pd.read_csv('Computational Data Without Identifiers.csv')\n",
    "#importing the cleaned data\n",
    "data=pd.read_csv(r'C:\\Users\\Grant\\Desktop\\Cleaned PERL Research data.csv', encoding='latin1')\n",
    "Rows = 1246"
   ]
  },
  {
   "cell_type": "code",
   "execution_count": 21,
   "metadata": {
    "collapsed": false
   },
   "outputs": [],
   "source": [
    "#Creates a function with two user inputs, one for the first column to be used, one for the last\n",
    "def Replace_Number(Column_Low_Limit,Column_High_Limit):\n",
    "#The Difference between the the user inputs\n",
    "    Limit_Diff = Column_High_Limit-Column_Low_Limit\n",
    "    index_fix = Column_Low_Limit\n",
    "    a = 0\n",
    "#Creates a matrix of zeros that matches the size of the data to be changes to numbers\n",
    "    global Numeric_data\n",
    "    Numeric_data = np.zeros((Rows, Limit_Diff+1))\n",
    "    while Column_Low_Limit <= Column_High_Limit:\n",
    "        Rows_Complete = 1\n",
    "#Selects each individual row in a column\n",
    "        for i in data.values[1:1246,Column_Low_Limit]:\n",
    "            if i == \"Checked\" or i == \"Yes\" or i == \"Agree\" or i == \"Strongly agree\" or i == \"Very strongly supported\" or i == \"Strongly supported\" or  i == \"Somewhat supported\" or i == \"Often\" or i == \"Sometimes\" or i == \"Used Often\" or i == \"Used Sometimes\" or i == \"Used rarely\":    \n",
    "                a = 1\n",
    "                Numeric_data[Rows_Complete-1,Column_Low_Limit-index_fix] = a\n",
    "            if i == \"Unchecked\" or i == \"No\" or i == \"Disagree\" or i == \"Strongly disgaree\" or i == \"Never\" or i == \"Not supported\" or i == \"Not used at all\":\n",
    "                a = -1\n",
    "                Numeric_data[Rows_Complete-1,Column_Low_Limit-index_fix] = a\n",
    "            if Rows_Complete + 1 == Rows:\n",
    "                Column_Low_Limit = Column_Low_Limit + 1\n",
    "            Rows_Complete = Rows_Complete + 1"
   ]
  },
  {
   "cell_type": "code",
   "execution_count": 23,
   "metadata": {
    "collapsed": false
   },
   "outputs": [],
   "source": [
    "Replace_Number(1,148)"
   ]
  },
  {
   "cell_type": "code",
   "execution_count": 126,
   "metadata": {
    "collapsed": false
   },
   "outputs": [],
   "source": [
    "global Rows_Compressed\n",
    "Rows_Compressed = []"
   ]
  },
  {
   "cell_type": "code",
   "execution_count": 130,
   "metadata": {
    "collapsed": false
   },
   "outputs": [],
   "source": [
    "def Compress_Rows(Row_Low_Limit,Row_High_Limit,Iteration_Fact):\n",
    "    Row_Low_Limit = Row_Low_Limit\n",
    "    Row_High_Limit = Row_High_Limit\n",
    "    if Iteration_Fact == \"No\":\n",
    "        global Compress_Row_I0\n",
    "        Compress_Row_I0 = np.zeros((Rows-(Row_High_Limit-Row_Low_Limit), 148))\n",
    "        Compress_Row_I0[0:Row_Low_Limit-2,:] = Numeric_data[0:Row_Low_Limit-2,:]\n",
    "        Compress_Row_I0[Row_Low_Limit:Rows-(Row_High_Limit-Row_Low_Limit),:] = Numeric_data[Row_High_Limit:Rows,:]\n",
    "        Compressed_Row = Numeric_data[Row_Low_Limit-1:Row_High_Limit-1,:]\n",
    "        Compress_Row_I0[Row_Low_Limit-1,:] = np.sum(Compressed_Row, axis=0)\n",
    "        Rows_Compressed.append(Row_High_Limit-Row_Low_Limit)\n",
    "    if Iteration_Fact == \"Yes\":\n",
    "        Rows_Compressed_Array = np.asarray(Rows_Compressed)\n",
    "        Rows_Compressed_Int = Rows_Compressed_Array.sum()\n",
    "        print(Rows_Compressed_Int)\n",
    "        global Compress_Row_In\n",
    "        Compress_Row_In = np.zeros(((Rows-Rows_Compressed_Int-(Row_High_Limit-Row_Low_Limit),148)))\n",
    "        Compress_Row_In[0:Row_Low_Limit-2] = Compress_Row_I0[0:Row_Low_Limit-2]\n",
    "        Compress_Row_In[Row_Low_Limit:Rows-(Row_Low_Limit-Row_High_Limit)-Rows_Compressed_Int,:] = Compress_Row_I0[Row_High_Limit:Rows-Rows_Compressed_Int,:]   \n",
    "        Compressed_Row = Compress_Row_I0[Row_Low_Limit-1:Row_High_Limit-1,:]\n",
    "        Compress_Row_In[Row_Low_Limit-1,:] = np.sum(Compressed_Row, axis=0)\n",
    "        Compress_Row_I0 = Compress_Row_In\n",
    "        Rows_Compressed.append(Row_High_Limit-Row_Low_Limit)\n",
    "\n",
    "        "
   ]
  },
  {
   "cell_type": "code",
   "execution_count": 128,
   "metadata": {
    "collapsed": false
   },
   "outputs": [],
   "source": [
    "Compress_Rows(3,4,\"No\")"
   ]
  },
  {
   "cell_type": "code",
   "execution_count": 133,
   "metadata": {
    "collapsed": false
   },
   "outputs": [
    {
     "name": "stdout",
     "output_type": "stream",
     "text": [
      "431\n",
      "433\n"
     ]
    }
   ],
   "source": [
    "Compress_Rows(5,7,\"Yes\")\n",
    "Compress_Rows(30,456,\"Yes\")"
   ]
  }
 ],
 "metadata": {
  "anaconda-cloud": {},
  "kernelspec": {
   "display_name": "Python [default]",
   "language": "python",
   "name": "python3"
  },
  "language_info": {
   "codemirror_mode": {
    "name": "ipython",
    "version": 3
   },
   "file_extension": ".py",
   "mimetype": "text/x-python",
   "name": "python",
   "nbconvert_exporter": "python",
   "pygments_lexer": "ipython3",
   "version": "3.5.2"
  }
 },
 "nbformat": 4,
 "nbformat_minor": 1
}
