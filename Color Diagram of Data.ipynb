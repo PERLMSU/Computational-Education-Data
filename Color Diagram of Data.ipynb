{
 "cells": [
  {
   "cell_type": "markdown",
   "metadata": {},
   "source": [
    "# Color Diagram of Data"
   ]
  },
  {
   "cell_type": "code",
   "execution_count": 1,
   "metadata": {
    "collapsed": true
   },
   "outputs": [],
   "source": [
    "import pandas as pd\n",
    "import numpy as np\n",
    "import matplotlib.pyplot as plt\n",
    "%matplotlib inline\n",
    "from scipy import stats"
   ]
  },
  {
   "cell_type": "code",
   "execution_count": 27,
   "metadata": {
    "collapsed": true
   },
   "outputs": [],
   "source": [
    "#importing the uncleaned data\n",
    "data_uncleaned=pd.read_csv('Computational Data Without Identifiers.csv')\n",
    "#importing the cleaned data\n",
    "data=pd.read_csv(r'C:\\Users\\Grant\\Desktop\\Cleaned PERL Research data.csv', encoding='latin1')\n",
    "Rows = 1246\n",
    "Inst_List_data=pd.read_csv('List of Institutions.csv')"
   ]
  },
  {
   "cell_type": "code",
   "execution_count": 3,
   "metadata": {
    "collapsed": true
   },
   "outputs": [],
   "source": [
    "Inst_List = []\n",
    "Inst_id = 0\n",
    "for i in Inst_List_data.values:\n",
    "    Inst_id = Inst_id+1\n",
    "    Inst_List.append(i)\n",
    "Inst_id_array = np.asarray(Inst_List)"
   ]
  },
  {
   "cell_type": "code",
   "execution_count": 4,
   "metadata": {
    "collapsed": false
   },
   "outputs": [],
   "source": [
    "#Creates a function with two user inputs, one for the first column to be used, one for the last\n",
    "def Replace_Number(Column_Low_Limit,Column_High_Limit):\n",
    "#The Difference between the the user inputs\n",
    "    Limit_Diff = Column_High_Limit-Column_Low_Limit\n",
    "    index_fix = Column_Low_Limit\n",
    "    a = 0\n",
    "#Creates a matrix of zeros that matches the size of the data to be changes to numbers\n",
    "    global Numeric_data\n",
    "    Numeric_data = np.zeros((Rows, Limit_Diff+1))\n",
    "    while Column_Low_Limit <= Column_High_Limit:\n",
    "        Rows_Complete = 1\n",
    "#Selects each individual row in a column\n",
    "        for i in data.values[1:1246,Column_Low_Limit]:\n",
    "        #Replaces 0s with a +1 or -1, depending on answers in the data\n",
    "            if i == \"Checked\" or i == \"Yes\" or i == \"Agree\" or i == \"Strongly agree\" or i == \"Very strongly supported\" or i == \"Strongly supported\" or  i == \"Somewhat supported\" or i == \"Often\" or i == \"Sometimes\" or i == \"Used Often\" or i == \"Used Sometimes\" or i == \"Used rarely\":    \n",
    "                a = 1\n",
    "                Numeric_data[Rows_Complete-1,Column_Low_Limit-index_fix] = a\n",
    "            if i == \"Unchecked\" or i == \"No\" or i == \"Disagree\" or i == \"Strongly disgaree\" or i == \"Never\" or i == \"Not supported\" or i == \"Not used at all\":\n",
    "                a = -1\n",
    "                Numeric_data[Rows_Complete-1,Column_Low_Limit-index_fix] = a\n",
    "            if Rows_Complete + 1 == Rows:\n",
    "                Column_Low_Limit = Column_Low_Limit + 1\n",
    "            Rows_Complete = Rows_Complete + 1"
   ]
  },
  {
   "cell_type": "code",
   "execution_count": 5,
   "metadata": {
    "collapsed": false
   },
   "outputs": [],
   "source": [
    "Replace_Number(1,148)"
   ]
  },
  {
   "cell_type": "code",
   "execution_count": 6,
   "metadata": {
    "collapsed": false
   },
   "outputs": [],
   "source": [
    "#Creats a list that will be used to track the number of rows that have been combound based on a shared institution\n",
    "global Rows_Compressed\n",
    "Rows_Compressed = []"
   ]
  },
  {
   "cell_type": "code",
   "execution_count": 21,
   "metadata": {
    "collapsed": false
   },
   "outputs": [],
   "source": [
    "def Compress_Rows(Row_Low_Limit,Row_High_Limit,Iteration_Fact):\n",
    "    #Adjusts the input limits so that the imputs can be taken directly from the data\n",
    "    Row_Low_Limit = Row_Low_Limit-1\n",
    "    Row_High_Limit = Row_High_Limit-1\n",
    "    #Program runs differently if it has run before\n",
    "    if Iteration_Fact == \"No\":\n",
    "        #Creates a zeros matrix or the correct size\n",
    "        global Compress_Row_I0\n",
    "        Compress_Row_I0 = np.zeros((Rows-(Row_High_Limit-Row_Low_Limit), 148))\n",
    "        #Keeps the data before the lower limit the same\n",
    "        Compress_Row_I0[0:Row_Low_Limit-2,:] = Numeric_data[0:Row_Low_Limit-2,:]\n",
    "        #Keeps the data after the lower limit the same\n",
    "        Compress_Row_I0[Row_Low_Limit:Rows-(Row_High_Limit-Row_Low_Limit),:] = Numeric_data[Row_High_Limit:Rows,:]\n",
    "        #Takes the data that needs to be summed\n",
    "        Compressed_Row = Numeric_data[Row_Low_Limit-1:Row_High_Limit-1,:]/(Row_High_Limit-Row_Low_Limit+1)\n",
    "        #Sums the data and puts it into the new matrix\n",
    "        Compress_Row_I0[Row_Low_Limit-1,:] = np.sum(Compressed_Row, axis=0)\n",
    "        #Updates the number of Rows removed\n",
    "        Rows_Compressed.append(Row_High_Limit-Row_Low_Limit)\n",
    "    #Program runs differently if it has run before\n",
    "    if Iteration_Fact == \"Yes\":\n",
    "        #Changes the fromat for the number of rows removed so it can be manipulated\n",
    "        Rows_Compressed_Array = np.asarray(Rows_Compressed)\n",
    "        #Adds up the number of rows removed from every iteration\n",
    "        Rows_Compressed_Int = Rows_Compressed_Array.sum()\n",
    "        global Compress_Row_In\n",
    "        Compress_Row_In = np.zeros(((Rows-Rows_Compressed_Int-(Row_High_Limit-Row_Low_Limit),148)))\n",
    "        #Keeps the data before the lower limit the same\n",
    "        Compress_Row_In[0:Row_Low_Limit-Rows_Compressed_Int-2] = Compress_Row_I0[0:Row_Low_Limit-Rows_Compressed_Int-2]\n",
    "        #Keeps the data after the lower limit the same\n",
    "        Compress_Row_In[Row_Low_Limit:Rows-(Row_Low_Limit-Row_High_Limit)-Rows_Compressed_Int,:] = Compress_Row_I0[Row_High_Limit:Rows-Rows_Compressed_Int,:]   \n",
    "        #Takes the data that needs to be summed\n",
    "        Compressed_Row = Compress_Row_I0[Row_Low_Limit-1:Row_High_Limit-1,:]/(Row_High_Limit-Row_Low_Limit+1)\n",
    "        #Sums the data and puts it into the new matrix\n",
    "        Compress_Row_In[Row_Low_Limit-Rows_Compressed_Int-1,:] = np.sum(Compressed_Row, axis=0)\n",
    "        #Changes the matrix used at the begining of this segment to be the end result so the program can be run again\n",
    "        Compress_Row_I0 = Compress_Row_In\n",
    "        #Updates the number of rows removed\n",
    "        Rows_Compressed.append(Row_High_Limit-Row_Low_Limit)\n",
    "\n",
    "        "
   ]
  },
  {
   "cell_type": "code",
   "execution_count": 95,
   "metadata": {
    "collapsed": false
   },
   "outputs": [],
   "source": [
    "#Clears the list so the cell can be ran again\n",
    "Rows_Compressed = []\n",
    "#Creates a matrix of zeros for later use\n",
    "Inst_List = np.zeros((360,1))\n",
    "#Used for indexing the institution place\n",
    "Inst_Place = -1\n",
    "#The number of times the loop has been run, used for indexing\n",
    "Loop_Runs = 0\n",
    "#Usesd to make the Compress_Rows function work properly\n",
    "Compress_Once = 0\n",
    "#Runs through the entire list of institutions surveyed (This list contains multiples of each institution, corresponding to the number of responses from that institution)   \n",
    "for i in Inst_List_data:\n",
    "    #Inceses the number of times the loop has ran by 1\n",
    "    Loop_Runs+=1\n",
    "    #Used for the special case of one loop run (because to determine if responses came from the same institution the previous cell must be compared to the current one)   \n",
    "    if Loop_Runs == 1:\n",
    "        #Increases the indexing number by one\n",
    "        Inst_Place+=1\n",
    "        #This part doesn't function yet, supposed to put institution name into cell\n",
    "        Inst_List[Inst_Place,0]\n",
    "    #Used all other cases\n",
    "    if Loop_Runs >= 2:\n",
    "        #If only time the someone asnswered the survey from a given institution\n",
    "        if Inst_List_data[Loop_Runs-1,0] != Inst_List_data[Loop_Runs-2,0] and Inst_List_data[Loop_Runs-1,0] != Inst_List_data[Loop_Runs,0]:   \n",
    "            Inst_Place+=1\n",
    "            Inst_List[Inst_Place,0]\n",
    "        #If there is a response after the current one from the same institution\n",
    "        if Inst_List_data[Loop_Runs-2,0] != Inst_List_data[Loop_Runs-1,0] and Inst_List_data[Loop_Runs-1,0] == Inst_List_data[Loop_Runs,0]:   \n",
    "            Low_Limit = Loop_Runs\n",
    "            #If the current response is different from the one that is two below it and this hasn't happened before\n",
    "            if Inst_List_data[Loop_Runs-1,0] != Inst_List_data[Loop_Runs+1,0] and Compress_Once != 1:\n",
    "                Compress_Rows(Low_Limit,Loop_Runs,\"No\")\n",
    "                Inst_Place+=1\n",
    "                #Doesn't work yet\n",
    "                Inst_List[Inst_Place,0]\n",
    "                #Updates the Compress_Once variable so this if statement won't run again\n",
    "                Compress_Once = 1\n",
    "            #If the current response is different from the one that is two below it and this has happened before\n",
    "            if Inst_List_data[Loop_Runs-1,0] != Inst_List_data[Loop_Runs+1,0] and Compress_Once == 1:\n",
    "                Compress_Rows(Low_Limit,Loop_Runs,\"Yes\")\n",
    "                Inst_Place+=1\n",
    "                #Doesn't work yet\n",
    "                Inst_List[Inst_Place,0]\n"
   ]
  },
  {
   "cell_type": "code",
   "execution_count": 96,
   "metadata": {
    "collapsed": false
   },
   "outputs": [],
   "source": [
    "Graphable_data = np.zeros((360,149))\n",
    "Graphable_data[:,1:149] = Compress_Row_I0\n",
    "Graphable_data[:,0] = Inst_List[:,0]\n",
    "y = np.zeros((1,148))"
   ]
  },
  {
   "cell_type": "code",
   "execution_count": null,
   "metadata": {
    "collapsed": true
   },
   "outputs": [],
   "source": [
    "\n",
    "    "
   ]
  },
  {
   "cell_type": "code",
   "execution_count": 97,
   "metadata": {
    "collapsed": false
   },
   "outputs": [
    {
     "data": {
      "text/plain": [
       "(0, 148)"
      ]
     },
     "execution_count": 97,
     "metadata": {},
     "output_type": "execute_result"
    },
    {
     "data": {
      "image/png": "[encoded data removed]",
      "text/plain": [
       "<matplotlib.figure.Figure at 0x1bafd2fbb38>"
      ]
     },
     "metadata": {},
     "output_type": "display_data"
    }
   ],
   "source": [
    "df_pivot = pd.DataFrame(Graphable_data)\n",
    "x = np.arange(df_pivot.columns.min()-1, df_pivot.columns.max() + 1, 1)\n",
    "y = np.arange(df_pivot.index.min()-1, df_pivot.index.max() + 1, 1)\n",
    "\n",
    "X, Y = np.meshgrid(x, y)\n",
    "z = df_pivot.values\n",
    "\n",
    "fig, ax = plt.subplots()\n",
    "\n",
    "cbar = ax.pcolormesh(X, Y, z, cmap='Greys')\n",
    "\n",
    "fig.colorbar(cbar, )\n",
    "\n",
    "\n",
    "# ax.set_ylim(-1, 10)\n",
    "\n",
    "ax.set_xticks(x + 0.5)\n",
    "ax.set_xticklabels(x+1)\n",
    "#ax.grid(True)\n",
    "plt.ylim(-10,362)\n",
    "plt.xlim(0,148)"
   ]
  }
 ],
 "metadata": {
  "anaconda-cloud": {},
  "kernelspec": {
   "display_name": "Python [default]",
   "language": "python",
   "name": "python3"
  },
  "language_info": {
   "codemirror_mode": {
    "name": "ipython",
    "version": 3
   },
   "file_extension": ".py",
   "mimetype": "text/x-python",
   "name": "python",
   "nbconvert_exporter": "python",
   "pygments_lexer": "ipython3",
   "version": "3.5.2"
  }
 },
 "nbformat": 4,
 "nbformat_minor": 1
}
