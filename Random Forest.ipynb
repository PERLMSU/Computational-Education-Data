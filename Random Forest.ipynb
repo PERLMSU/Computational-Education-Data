{
 "cells": [
  {
   "cell_type": "markdown",
   "metadata": {},
   "source": [
    "# Random Forest"
   ]
  },
  {
   "cell_type": "code",
   "execution_count": 1,
   "metadata": {
    "collapsed": true
   },
   "outputs": [],
   "source": [
    "import pandas as pd\n",
    "import numpy as np\n",
    "import matplotlib.pyplot as plt\n",
    "%matplotlib inline\n",
    "from scipy import stats\n",
    "import seaborn as sns\n",
    "from sklearn.ensemble import RandomForestClassifier\n",
    "import random\n",
    "from pandas import ExcelWriter"
   ]
  },
  {
   "cell_type": "code",
   "execution_count": 2,
   "metadata": {
    "collapsed": true
   },
   "outputs": [],
   "source": [
    "#importing the uncleaned data\n",
    "data_uncleaned=pd.read_csv('Computational Data Without Identifiers.csv')\n",
    "#importing the cleaned data\n",
    "data=pd.read_csv(r'C:\\Users\\Grant\\Desktop\\Cleaned PERL Research data.csv', encoding='latin1')\n",
    "Rows = 1246\n",
    "Inst_List_data=pd.read_csv('List of Institutions.csv')"
   ]
  },
  {
   "cell_type": "code",
   "execution_count": 3,
   "metadata": {
    "collapsed": true
   },
   "outputs": [],
   "source": [
    "#Creates a function with two user inputs, one for the first column to be used, one for the last\n",
    "def Replace_Number(Column_Low_Limit,Column_High_Limit):\n",
    "#The Difference between the the user inputs\n",
    "    Limit_Diff = Column_High_Limit-Column_Low_Limit\n",
    "    index_fix = Column_Low_Limit\n",
    "    a = 0\n",
    "#Creates a matrix of zeros that matches the size of the data to be changes to numbers\n",
    "    global Numeric_data\n",
    "    Numeric_data = np.zeros((Rows, Limit_Diff+1))\n",
    "    while Column_Low_Limit <= Column_High_Limit:\n",
    "        Rows_Complete = 1\n",
    "#Selects each individual row in a column\n",
    "        for i in data.values[1:1246,Column_Low_Limit]:\n",
    "        #Replaces 0s with a +1 or -1, depending on answers in the data\n",
    "            if i == \"Checked\" or i == \"Yes\" or i == \"Agree\" or i == \"Strongly agree\" or i == \"Very strongly supported\" or i == \"Strongly supported\" or  i == \"Somewhat supported\" or i == \"Often\" or i == \"Sometimes\" or i == \"Used Often\" or i == \"Used Sometimes\" or i == \"Used rarely\":    \n",
    "                a = 1\n",
    "                Numeric_data[Rows_Complete-1,Column_Low_Limit-index_fix] = a\n",
    "            if i == \"Unchecked\" or i == \"No\" or i == \"Disagree\" or i == \"Strongly disgaree\" or i == \"Never\" or i == \"Not supported\" or i == \"Not used at all\":\n",
    "                a = -1\n",
    "                Numeric_data[Rows_Complete-1,Column_Low_Limit-index_fix] = a\n",
    "            if Rows_Complete + 1 == Rows:\n",
    "                Column_Low_Limit = Column_Low_Limit + 1\n",
    "            Rows_Complete = Rows_Complete + 1"
   ]
  },
  {
   "cell_type": "code",
   "execution_count": 4,
   "metadata": {
    "collapsed": true
   },
   "outputs": [],
   "source": [
    "Replace_Number(1,148)"
   ]
  },
  {
   "cell_type": "code",
   "execution_count": 5,
   "metadata": {
    "collapsed": false
   },
   "outputs": [],
   "source": [
    "def Random_Forest(Predict, Det_Low, Det_High, Trees):\n",
    "    #i will count iterations\n",
    "    i = 0\n",
    "    #z will make sure that the column where the prediction is stored does not get ran\n",
    "    z = Det_Low\n",
    "    #creates a variable to store the best tree\n",
    "    global Best_Tree\n",
    "    Best_Tree = 0\n",
    "    #matrix to randomly decide an answers effect on the outcome\n",
    "    Ans_pred = [\"Positive\", \"Negative\", \"None\"]\n",
    "    best_tree_number_correct = 0\n",
    "    #creates an array to be changed to the trees\n",
    "    Forest = np.zeros((Trees, Det_High - Det_Low))\n",
    "    #ensures the row that is trying to be predicted is skipped\n",
    "    while z <= Rows+10:\n",
    "        if z == Predict:\n",
    "            z+=1\n",
    "        else:\n",
    "            z+=1\n",
    "            #Randomly generates a forest\n",
    "            while i <= Trees - 1:\n",
    "                i+=1\n",
    "                row_index = 0\n",
    "                column_index = 0\n",
    "                while column_index <= Det_High-Det_Low-1:\n",
    "                    Ans_pred_det = random.choice(Ans_pred)\n",
    "                    if \"Positive\" == Ans_pred_det:\n",
    "                        Forest[i-1, column_index] = 1\n",
    "                        column_index+=1\n",
    "                    if \"Negative\" == Ans_pred_det:\n",
    "                        Forest[i-1, column_index] = -1\n",
    "                        column_index+=1\n",
    "                    if \"None\" == Ans_pred_det:\n",
    "                        Forest[i-1, column_index] = 0\n",
    "                        column_index+=1\n",
    "            #guesses what the outcome for each tree is\n",
    "            while row_index <= Trees - 1:\n",
    "                Numeric_data_row_key = 0\n",
    "                guess_row_key = 0\n",
    "                guess = []\n",
    "                number_correct = 0\n",
    "                number_incorrect = 0\n",
    "                while Numeric_data_row_key <= Rows - 1:           \n",
    "                    guess_det_mat = Numeric_data[Numeric_data_row_key, Det_Low-1:Det_High-1]*Forest[row_index,:]\n",
    "                    guess_det_int = np.sum(guess_det_mat)\n",
    "                    Numeric_data_row_key+=1\n",
    "                    if guess_det_int == 0:\n",
    "                        guess.append(\"Other\")\n",
    "                    else:\n",
    "                        if guess_det_int <= 0:\n",
    "                            guess.append(\"Unchecked\")\n",
    "                        if guess_det_int >= 0:\n",
    "                            guess.append(\"Checked\")\n",
    "                #determiness if the guess is correct in order to find the best tree\n",
    "                for actual in data.values[:,8]:\n",
    "                    if actual == guess[guess_row_key] or guess[guess_row_key] == \"Other\":\n",
    "                        if actual == guess[guess_row_key]:\n",
    "                            number_correct+=1\n",
    "                            guess_row_key+=1\n",
    "                        else:\n",
    "                            if actual == \"Checked\" or actual == \"Unchecked\":\n",
    "                                number_incorrect+=1\n",
    "                                guess_row_key+=1\n",
    "                            else:\n",
    "                                number_correct+=1\n",
    "                                guess_row_key+=1\n",
    "                    else:\n",
    "                        number_incorrect+=1\n",
    "                #stores the best tree\n",
    "                if number_correct >= best_tree_number_correct:\n",
    "                    Best_Tree = Forest[row_index,:]\n",
    "                    best_tree_number_correct = number_correct\n",
    "                    print(best_tree_number_correct)\n",
    "                    #if the tree passes a certain threshold, saves the matrix\n",
    "                    if number_correct >= 1100:\n",
    "                        df = pd.DataFrame(Best_Tree)\n",
    "                        writer = ExcelWriter('Best Tree.xlsx')\n",
    "                        df.to_excel(writer, 'Sheet1')\n",
    "                        writer.save\n",
    "                row_index+=1"
   ]
  },
  {
   "cell_type": "code",
   "execution_count": 6,
   "metadata": {
    "collapsed": false
   },
   "outputs": [
    {
     "name": "stdout",
     "output_type": "stream",
     "text": [
      "329\n",
      "347\n",
      "358\n",
      "367\n",
      "384\n",
      "385\n"
     ]
    }
   ],
   "source": [
    "#probably needs to be run about 10^7 times to get a good tree\n",
    "Random_Forest(8,1,148,100)"
   ]
  },
  {
   "cell_type": "code",
   "execution_count": null,
   "metadata": {
    "collapsed": true
   },
   "outputs": [],
   "source": []
  }
 ],
 "metadata": {
  "anaconda-cloud": {},
  "kernelspec": {
   "display_name": "Python [conda root]",
   "language": "python",
   "name": "conda-root-py"
  },
  "language_info": {
   "codemirror_mode": {
    "name": "ipython",
    "version": 3
   },
   "file_extension": ".py",
   "mimetype": "text/x-python",
   "name": "python",
   "nbconvert_exporter": "python",
   "pygments_lexer": "ipython3",
   "version": "3.5.2"
  }
 },
 "nbformat": 4,
 "nbformat_minor": 1
}
