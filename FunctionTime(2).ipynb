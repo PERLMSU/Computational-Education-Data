{
 "cells": [
  {
   "cell_type": "code",
   "execution_count": 1,
   "metadata": {
    "collapsed": true
   },
   "outputs": [],
   "source": [
    "import pandas as pd\n",
    "import numpy as np\n",
    "import matplotlib.pyplot as plt\n",
    "%matplotlib inline\n",
    "from scipy import stats\n",
    "import seaborn as sns\n",
    "data=pd.read_excel('PERL Research Data.xlsx')"
   ]
  },
  {
   "cell_type": "markdown",
   "metadata": {},
   "source": [
    "These are three functions that will allow you to run a comparitive analysis in the form of two bar plots on select columns. This function only works for yes or no questions to compare with other yes or no questions.  There is a little bit of important syntax however.  Some columns represent yes's as \"Checked\", while some represent yes's as \"Yes\". Same thing applies to no's. Some columns use \"Unchecked\" while some use \"No\". So, because of this variability, we must make three functions to account for this.  We need:\n",
    "#1 1 column \"Yes\"/\"No\" and 1 column \"Checked\"/\"Unchecked\"\n",
    "#2 both columns \"Yes\"/\"No\"\n",
    "#3 both columns \"Checked\"/\"Unchecked\"\n",
    "\n",
    "It is important to know which column represents which in the 1st function because if you switch up the \"Checked\" column variable with the \"Yes\" column variable, the function will not work.\n",
    "\n",
    "These functions will spit out two bar plots that essentially compare Q1:Yes Q2:Yes, Q1:Yes Q2:No, Q1:No Q2:Yes, and Q1:No Q2:No percentages.\n",
    "\n",
    "The functions will also spit out four numbers. These numbers represent the actual number of people who answered\n",
    "yes to both, yes to 1 no to 2, no to 1 yes to 2, and no to both repectively. You can use these numbers to check and see if the contingency tables are correct."
   ]
  },
  {
   "cell_type": "code",
   "execution_count": 2,
   "metadata": {
    "collapsed": false,
    "scrolled": true
   },
   "outputs": [
    {
     "name": "stdout",
     "output_type": "stream",
     "text": [
      "95 377 37 87\n"
     ]
    },
    {
     "data": {
      "text/plain": [
       "<matplotlib.figure.Figure at 0xa530be0>"
      ]
     },
     "metadata": {},
     "output_type": "display_data"
    },
    {
     "data": {
      "image/png": "[encoded data removed]",
      "text/plain": [
       "<matplotlib.figure.Figure at 0xa526160>"
      ]
     },
     "metadata": {},
     "output_type": "display_data"
    }
   ],
   "source": [
    "#The parameters of this function are:\n",
    "#column_compare_number1: this is the column number of the first question you want to compare.\n",
    "#remember, python starts at zero when referencing indices\n",
    "#column_compare_number2: this is the column number of the second question you want to compare.\n",
    "#The_label_of_column1=input(): This will prompt you to input something after you run the function.\n",
    "#You DO NOT need to place any other parameters besides the first two into your function\n",
    "#You will first be prompted to type in the data label for the first question, then the second. \n",
    "#you type the data label in then hit enter. You will do this twice then the function will run.\n",
    "#column_compare_number1 must be the \"Checked\"/\"Unchecked\" question column number\n",
    "#column_compare_number2 must be the \"Yes\"/\"No\" question column number\n",
    "\n",
    "def Function1_Checked_Yes(column_compare_number1,column_compare_number2,\n",
    "                            The_label_of_column1=\"what you actually want to see1\", \n",
    "                          The_label_of_column2=\"what you actually want to see2\"):\n",
    "    \n",
    "    column_compare_number1_list= []\n",
    "    for row in data.values[:,column_compare_number1]:\n",
    "        column_compare_number1_list.append(row)\n",
    "    column_compare_number2_list = []\n",
    "    for row in data.values[:,column_compare_number2]:\n",
    "        column_compare_number2_list.append(row)\n",
    "    yes=0\n",
    "    for i,j in zip(column_compare_number2_list, column_compare_number1_list):\n",
    "        if i == \"Yes\" and j == \"Checked\":\n",
    "            yes+=1\n",
    "    yes1=0\n",
    "    for i,j in zip(column_compare_number2_list, column_compare_number1_list):\n",
    "        if i == \"No\" and j == \"Checked\":\n",
    "            yes1+=1\n",
    "    no=0\n",
    "    for i,j in zip(column_compare_number2_list, column_compare_number1_list):\n",
    "        if i == \"Yes\" and j == \"Unchecked\":\n",
    "            no+=1\n",
    "    no1=0\n",
    "    for i,j in zip(column_compare_number2_list, column_compare_number1_list):\n",
    "        if i == \"No\" and j == \"Unchecked\":\n",
    "            no1+=1\n",
    "    print(yes,yes1,no,no1)\n",
    "    Percent_1 = yes/(yes+no) \n",
    "    Percent_2 = yes1/(yes1+no1) \n",
    "    Percent_3 = no/(yes+no) \n",
    "    Percent_4 = no1/(yes1+no1) \n",
    "    x=[1,2] \n",
    "    y=[Percent_1,Percent_3] \n",
    "    y1=[Percent_2,Percent_4]\n",
    "    \n",
    "    fig = plt.figure(figsize=(8,6))\n",
    "    f, (ax1, ax2) = plt.subplots(1, 2, sharey=True,figsize=(20,10))\n",
    "    ax1.bar(x,y1,width=.25)\n",
    "    ax2.bar(x,y,width=.25)\n",
    "    ax1.set_title('No '+str(The_label_of_column2))\n",
    "    ax2.set_title('Yes '+str(The_label_of_column2))\n",
    "    ax1.set( ylabel='Percent')\n",
    "    ax1.set(xticklabels=['','Yes '+str(The_label_of_column1),'','','','','No '+str(The_label_of_column1)])\n",
    "    ax2.set(xticklabels=['','Yes '+str(The_label_of_column1),'','','','','No '+str(The_label_of_column1)])\n",
    "    sns.set(font_scale=2)\n",
    "    plt.tight_layout()\n",
    "    plt.show()\n",
    "\n",
    "Function1_Checked_Yes(11,33,\"Advanced\",\"Interactive Activities\")"
   ]
  },
  {
   "cell_type": "code",
   "execution_count": 3,
   "metadata": {
    "collapsed": false
   },
   "outputs": [],
   "source": [
    "#The parameters of this function are:\n",
    "#column_compare_number1: this is the column number of the first question you want to compare.\n",
    "#remember, python starts at zero when referencing indices\n",
    "#column_compare_number2: this is the column number of the second question you want to compare.\n",
    "#The_label_of_column1=input(): This will prompt you to input something after you run the function.\n",
    "#You DO NOT need to place any other parameters besides the first two into your function\n",
    "#You will first be prompted to type in the data label for the first question, then the second. \n",
    "#you type the data label in then hit enter. You will do this twice then the function will run.\n",
    "\n",
    "def Function2_Yes_Yes(column_compare_number1,column_compare_number2,\n",
    "                                           The_label_of_column1=\"what you actually want to see1\", \n",
    "                          The_label_of_column2=\"what you actually want to see2\"):\n",
    "    \n",
    "    column_compare_number1_list= []\n",
    "    for row in data.values[:,column_compare_number1]:\n",
    "        column_compare_number1_list.append(row)\n",
    "    column_compare_number2_list = []\n",
    "    for row in data.values[:,column_compare_number2]:\n",
    "        column_compare_number2_list.append(row)\n",
    "    yes=0\n",
    "    for i,j in zip(column_compare_number2_list, column_compare_number1_list):\n",
    "        if i == \"Yes\" and j == \"Yes\":\n",
    "            yes+=1\n",
    "    yes1=0\n",
    "    for i,j in zip(column_compare_number2_list, column_compare_number1_list):\n",
    "        if i == \"No\" and j == \"Yes\":\n",
    "            yes1+=1\n",
    "    no=0\n",
    "    for i,j in zip(column_compare_number2_list, column_compare_number1_list):\n",
    "        if i == \"Yes\" and j == \"No\":\n",
    "            no+=1\n",
    "    no1=0\n",
    "    for i,j in zip(column_compare_number2_list, column_compare_number1_list):\n",
    "        if i == \"No\" and j == \"No\":\n",
    "            no1+=1\n",
    "    print(yes,yes1,no,no1)\n",
    "    Percent_1 = yes/(yes+no) \n",
    "    Percent_2 = yes1/(yes1+no1) \n",
    "    Percent_3 = no/(yes+no) \n",
    "    Percent_4 = no1/(yes1+no1) \n",
    "    x=[1,2] \n",
    "    y=[Percent_1,Percent_3] \n",
    "    y1=[Percent_2,Percent_4]\n",
    "    \n",
    "    fig = plt.figure(figsize=(8,6))\n",
    "    f, (ax1, ax2) = plt.subplots(1, 2, sharey=True,figsize=(20,10))\n",
    "    ax1.bar(x,y1,width=.25)\n",
    "    ax2.bar(x,y,width=.25)\n",
    "    ax1.set_title('No '+str(The_label_of_column2))\n",
    "    ax2.set_title('Yes '+str(The_label_of_column2))\n",
    "    ax1.set( ylabel='Percent')\n",
    "    ax1.set(xticklabels=['','Yes '+str(The_label_of_column1),'','','','','No '+str(The_label_of_column1)])\n",
    "    ax2.set(xticklabels=['','Yes '+str(The_label_of_column1),'','','','','No '+str(The_label_of_column1)])\n",
    "    sns.set(font_scale=2)\n",
    "    plt.tight_layout()\n",
    "    plt.show()"
   ]
  },
  {
   "cell_type": "code",
   "execution_count": 4,
   "metadata": {
    "collapsed": false,
    "scrolled": true
   },
   "outputs": [],
   "source": [
    "#The parameters of this function are:\n",
    "#column_compare_number1: this is the column number of the first question you want to compare.\n",
    "#remember, python starts at zero when referencing indices\n",
    "#column_compare_number2: this is the column number of the second question you want to compare.\n",
    "#The_label_of_column1=input(): This will prompt you to input something after you run the function.\n",
    "#You DO NOT need to place any other parameters besides the first two into your function\n",
    "#You will first be prompted to type in the data label for the first question, then the second. \n",
    "#you type the data label in then hit enter. You will do this twice then the function will run.\n",
    "\n",
    "def Function3_Checked_Checked(column_compare_number1,column_compare_number2,\n",
    "                                           The_label_of_column1=\"what you actually want to see1\", \n",
    "                          The_label_of_column2=\"what you actually want to see2\"):\n",
    "    \n",
    "    column_compare_number1_list= []\n",
    "    for row in data.values[:,column_compare_number1]:\n",
    "        column_compare_number1_list.append(row)\n",
    "    column_compare_number2_list = []\n",
    "    for row in data.values[:,column_compare_number2]:\n",
    "        column_compare_number2_list.append(row)\n",
    "    yes=0\n",
    "    for i,j in zip(column_compare_number2_list, column_compare_number1_list):\n",
    "        if i == \"Checked\" and j == \"Checked\":\n",
    "            yes+=1\n",
    "    yes1=0\n",
    "    for i,j in zip(column_compare_number2_list, column_compare_number1_list):\n",
    "        if i == \"Checked\" and j == \"Checked\":\n",
    "            yes1+=1\n",
    "    no=0\n",
    "    for i,j in zip(column_compare_number2_list, column_compare_number1_list):\n",
    "        if i == \"Checked\" and j == \"Unchecked\":\n",
    "            no+=1\n",
    "    no1=0\n",
    "    for i,j in zip(column_compare_number2_list, column_compare_number1_list):\n",
    "        if i == \"Checked\" and j == \"Unchecked\":\n",
    "            no1+=1\n",
    "    print(yes,yes1,no,no1)\n",
    "    Percent_1 = yes/(yes+no) \n",
    "    Percent_2 = yes1/(yes1+no1) \n",
    "    Percent_3 = no/(yes+no) \n",
    "    Percent_4 = no1/(yes1+no1) \n",
    "    x=[1,2] \n",
    "    y=[Percent_1,Percent_3] \n",
    "    y1=[Percent_2,Percent_4]\n",
    "    \n",
    "    fig = plt.figure(figsize=(8,6))\n",
    "    f, (ax1, ax2) = plt.subplots(1, 2, sharey=True,figsize=(20,10))\n",
    "    ax1.bar(x,y1,width=.25)\n",
    "    ax2.bar(x,y,width=.25)\n",
    "    ax1.set_title('No '+str(The_label_of_column2))\n",
    "    ax2.set_title('Yes '+str(The_label_of_column2))\n",
    "    ax1.set( ylabel='Percent')\n",
    "    ax1.set(xticklabels=['','Yes '+str(The_label_of_column1),'','','','','No '+str(The_label_of_column1)])\n",
    "    ax2.set(xticklabels=['','Yes '+str(The_label_of_column1),'','','','','No '+str(The_label_of_column1)])\n",
    "    sns.set(font_scale=2)\n",
    "    plt.tight_layout()\n",
    "    plt.show()"
   ]
  },
  {
   "cell_type": "markdown",
   "metadata": {},
   "source": [
    "These next three functions make a contingency table comparing two diferent yes or no questions. Just like before we need three to cover every variation. The numbers in the table should match the numbers printed in the previous function. The parameters are also the same as before."
   ]
  },
  {
   "cell_type": "code",
   "execution_count": 5,
   "metadata": {
    "collapsed": false
   },
   "outputs": [
    {
     "name": "stdout",
     "output_type": "stream",
     "text": [
      "596\n",
      "596\n"
     ]
    },
    {
     "data": {
      "text/html": [
       "<div>\n",
       "<table border=\"1\" class=\"dataframe\">\n",
       "  <thead>\n",
       "    <tr style=\"text-align: right;\">\n",
       "      <th>Interactive Activities</th>\n",
       "      <th>No</th>\n",
       "      <th>Yes</th>\n",
       "      <th>All</th>\n",
       "    </tr>\n",
       "    <tr>\n",
       "      <th>Advanced</th>\n",
       "      <th></th>\n",
       "      <th></th>\n",
       "      <th></th>\n",
       "    </tr>\n",
       "  </thead>\n",
       "  <tbody>\n",
       "    <tr>\n",
       "      <th>Checked</th>\n",
       "      <td>377</td>\n",
       "      <td>95</td>\n",
       "      <td>472</td>\n",
       "    </tr>\n",
       "    <tr>\n",
       "      <th>Unchecked</th>\n",
       "      <td>87</td>\n",
       "      <td>37</td>\n",
       "      <td>124</td>\n",
       "    </tr>\n",
       "    <tr>\n",
       "      <th>All</th>\n",
       "      <td>464</td>\n",
       "      <td>132</td>\n",
       "      <td>596</td>\n",
       "    </tr>\n",
       "  </tbody>\n",
       "</table>\n",
       "</div>"
      ],
      "text/plain": [
       "Interactive Activities   No  Yes  All\n",
       "Advanced                             \n",
       "Checked                 377   95  472\n",
       "Unchecked                87   37  124\n",
       "All                     464  132  596"
      ]
     },
     "execution_count": 5,
     "metadata": {},
     "output_type": "execute_result"
    }
   ],
   "source": [
    "# question 1 is \"checked\"/\"Unchecked\" and question 2 is \"yes\"/\"no\"\n",
    "def contingency_table_checked_yes_function1(column_compare_number1,column_compare_number2,\n",
    "                              The_label_of_column1=\"what you actually want to see1\", \n",
    "                          The_label_of_column2=\"what you actually want to see2\"):\n",
    "    column_compare_list1 = []\n",
    "    for row,row2 in zip(data.values[:,column_compare_number1],data.values[:,column_compare_number2]):\n",
    "        if row == \"Checked\" and row2 ==\"Yes\" or row == \"Unchecked\" and row2 == \"Yes\" or row == \"Checked\" and row2 == \"No\" or row == \"Unchecked\" and row2 == \"No\":\n",
    "            column_compare_list1.append(row)\n",
    "    print(len(column_compare_list1))\n",
    "\n",
    "\n",
    "    column_compare_list2 = []\n",
    "    for row,row2 in zip(data.values[:,column_compare_number2],data.values[:,column_compare_number1]):\n",
    "        if row == \"Yes\" and row2 ==\"Checked\" or row == \"No\" and row2 == \"Checked\" or row == \"Yes\" and row2 == \"Unchecked\" or row == \"No\" and row2 == \"Unchecked\":\n",
    "            column_compare_list2.append(row)\n",
    "    print(len(column_compare_list2))\n",
    "    \n",
    "   \n",
    "    df = pd.DataFrame(np.array(column_compare_list1).reshape(len(column_compare_list1),1))\n",
    "    df.columns=[str(The_label_of_column1)]\n",
    "    df2 = pd.DataFrame(np.array(column_compare_list2).reshape(len(column_compare_list2),1))\n",
    "    df2.columns=[str(The_label_of_column2)]\n",
    "    Contingency_Table = pd.crosstab(index=df[str(The_label_of_column1)], \n",
    "                                columns=df2[str(The_label_of_column2)],\n",
    "                                 margins=True)   # Include row and column totals\n",
    "\n",
    "    return(Contingency_Table)\n",
    "contingency_table_checked_yes_function1(11,33,\"Advanced\",\"Interactive Activities\")"
   ]
  },
  {
   "cell_type": "code",
   "execution_count": 6,
   "metadata": {
    "collapsed": false
   },
   "outputs": [],
   "source": [
    "# question 1 is \"checked\"/\"Unchecked\" and question 2 is \"Checked\"/\"Unchecked\"\n",
    "def contingency_table_checked_checked_function2(column_compare_number1,column_compare_number2,\n",
    "                              The_label_of_column1=\"what you actually want to see1\", \n",
    "                          The_label_of_column2=\"what you actually want to see2\"):\n",
    "    column_compare_list1 = []\n",
    "    for row,row2 in zip(data.values[:,column_compare_number1],data.values[:,column_compare_number2]):\n",
    "        if row == \"Checked\" and row2 ==\"Checked\" or row == \"Unchecked\" and row2 == \"Checked\" or row == \"Checked\" and row2 == \"Unchecked\" or row == \"Unchecked\" and row2 == \"Unchecked\":\n",
    "            column_compare_list1.append(row)\n",
    "    print(len(column_compare_list1))\n",
    "\n",
    "\n",
    "    column_compare_list2 = []\n",
    "    for row,row2 in zip(data.values[:,column_compare_number2],data.values[:,column_compare_number1]):\n",
    "        if row == \"Checked\" and row2 ==\"Checked\" or row == \"Unchecked\" and row2 == \"Checked\" or row == \"Checked\" and row2 == \"Unchecked\" or row == \"Unchecked\" and row2 == \"Unchecked\":\n",
    "            column_compare_list2.append(row)\n",
    "    print(len(column_compare_list2))\n",
    "    \n",
    "   \n",
    "    df = pd.DataFrame(np.array(column_compare_list1).reshape(len(column_compare_list1),1))\n",
    "    df.columns=[str(The_label_of_column1)]\n",
    "    df2 = pd.DataFrame(np.array(column_compare_list2).reshape(len(column_compare_list2),1))\n",
    "    df2.columns=[str(The_label_of_column2)]\n",
    "    Contingency_Table = pd.crosstab(index=df[str(The_label_of_column1)], \n",
    "                                columns=df2[str(The_label_of_column2)],\n",
    "                                 margins=True)   # Include row and column totals\n",
    "\n",
    "    return(Contingency_Table)"
   ]
  },
  {
   "cell_type": "code",
   "execution_count": 7,
   "metadata": {
    "collapsed": false
   },
   "outputs": [],
   "source": [
    "# question 1 is \"Yes\"/\"No\" and question 2 is \"yes\"/\"no\"\n",
    "def contingency_table_yes_yes_function3(column_compare_number1,column_compare_number2,\n",
    "                             The_label_of_column1=\"what you actually want to see1\", \n",
    "                          The_label_of_column2=\"what you actually want to see2\"):\n",
    "    column_compare_list1 = []\n",
    "    for row,row2 in zip(data.values[:,column_compare_number1],data.values[:,column_compare_number2]):\n",
    "        if row == \"Yes\" and row2 ==\"Yes\" or row == \"No\" and row2 == \"Yes\" or row == \"Yes\" and row2 == \"No\" or row == \"No\" and row2 == \"No\":\n",
    "            column_compare_list1.append(row)\n",
    "    print(len(column_compare_list1))\n",
    "\n",
    "\n",
    "    column_compare_list2 = []\n",
    "    for row,row2 in zip(data.values[:,column_compare_number2],data.values[:,column_compare_number1]):\n",
    "        if row == \"Yes\" and row2 ==\"Yes\" or row == \"No\" and row2 == \"Yes\" or row == \"Yes\" and row2 == \"No\" or row == \"No\" and row2 == \"No\":\n",
    "            column_compare_list2.append(row)\n",
    "    print(len(column_compare_list2))\n",
    "    \n",
    "   \n",
    "    df = pd.DataFrame(np.array(column_compare_list1).reshape(len(column_compare_list1),1))\n",
    "    df.columns=[str(The_label_of_column1)]\n",
    "    df2 = pd.DataFrame(np.array(column_compare_list2).reshape(len(column_compare_list2),1))\n",
    "    df2.columns=[str(The_label_of_column2)]\n",
    "    Contingency_Table = pd.crosstab(index=df[str(The_label_of_column1)], \n",
    "                                columns=df2[str(The_label_of_column2)],\n",
    "                                 margins=True)   # Include row and column totals\n",
    "\n",
    "    return(Contingency_Table)"
   ]
  },
  {
   "cell_type": "code",
   "execution_count": null,
   "metadata": {
    "collapsed": true
   },
   "outputs": [],
   "source": []
  }
 ],
 "metadata": {
  "kernelspec": {
   "display_name": "Python 3",
   "language": "python",
   "name": "python3"
  },
  "language_info": {
   "codemirror_mode": {
    "name": "ipython",
    "version": 3
   },
   "file_extension": ".py",
   "mimetype": "text/x-python",
   "name": "python",
   "nbconvert_exporter": "python",
   "pygments_lexer": "ipython3",
   "version": "3.6.0"
  }
 },
 "nbformat": 4,
 "nbformat_minor": 2
}
